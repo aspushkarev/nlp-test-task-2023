{
  "nbformat": 4,
  "nbformat_minor": 0,
  "metadata": {
    "colab": {
      "provenance": [],
      "gpuType": "T4"
    },
    "kernelspec": {
      "name": "python3",
      "display_name": "Python 3"
    },
    "language_info": {
      "name": "python"
    }
  },
  "cells": [
    {
      "cell_type": "code",
      "execution_count": 13,
      "metadata": {
        "colab": {
          "base_uri": "https://localhost:8080/"
        },
        "id": "UjvKKYIgIEin",
        "outputId": "b0daa479-c622-4516-b875-1da38797e6f9"
      },
      "outputs": [
        {
          "output_type": "stream",
          "name": "stdout",
          "text": [
            "Looking in indexes: https://pypi.org/simple, https://us-python.pkg.dev/colab-wheels/public/simple/\n",
            "Requirement already satisfied: transformers in /usr/local/lib/python3.10/dist-packages (4.29.2)\n",
            "Requirement already satisfied: filelock in /usr/local/lib/python3.10/dist-packages (from transformers) (3.12.0)\n",
            "Requirement already satisfied: huggingface-hub<1.0,>=0.14.1 in /usr/local/lib/python3.10/dist-packages (from transformers) (0.14.1)\n",
            "Requirement already satisfied: numpy>=1.17 in /usr/local/lib/python3.10/dist-packages (from transformers) (1.22.4)\n",
            "Requirement already satisfied: packaging>=20.0 in /usr/local/lib/python3.10/dist-packages (from transformers) (23.1)\n",
            "Requirement already satisfied: pyyaml>=5.1 in /usr/local/lib/python3.10/dist-packages (from transformers) (6.0)\n",
            "Requirement already satisfied: regex!=2019.12.17 in /usr/local/lib/python3.10/dist-packages (from transformers) (2022.10.31)\n",
            "Requirement already satisfied: requests in /usr/local/lib/python3.10/dist-packages (from transformers) (2.27.1)\n",
            "Requirement already satisfied: tokenizers!=0.11.3,<0.14,>=0.11.1 in /usr/local/lib/python3.10/dist-packages (from transformers) (0.13.3)\n",
            "Requirement already satisfied: tqdm>=4.27 in /usr/local/lib/python3.10/dist-packages (from transformers) (4.65.0)\n",
            "Requirement already satisfied: fsspec in /usr/local/lib/python3.10/dist-packages (from huggingface-hub<1.0,>=0.14.1->transformers) (2023.4.0)\n",
            "Requirement already satisfied: typing-extensions>=3.7.4.3 in /usr/local/lib/python3.10/dist-packages (from huggingface-hub<1.0,>=0.14.1->transformers) (4.5.0)\n",
            "Requirement already satisfied: urllib3<1.27,>=1.21.1 in /usr/local/lib/python3.10/dist-packages (from requests->transformers) (1.26.15)\n",
            "Requirement already satisfied: certifi>=2017.4.17 in /usr/local/lib/python3.10/dist-packages (from requests->transformers) (2022.12.7)\n",
            "Requirement already satisfied: charset-normalizer~=2.0.0 in /usr/local/lib/python3.10/dist-packages (from requests->transformers) (2.0.12)\n",
            "Requirement already satisfied: idna<4,>=2.5 in /usr/local/lib/python3.10/dist-packages (from requests->transformers) (3.4)\n"
          ]
        }
      ],
      "source": [
        "!pip install transformers"
      ]
    },
    {
      "cell_type": "markdown",
      "source": [
        "Для задачи Question Answering мы используем класс BertForQuestionAnswering из библиотеки transformers."
      ],
      "metadata": {
        "id": "EBtOTQeHPOEh"
      }
    },
    {
      "cell_type": "code",
      "source": [
        "import pandas as pd\n",
        "import json\n",
        "import torch\n",
        "from transformers import BertForQuestionAnswering\n",
        "from transformers import BertTokenizer"
      ],
      "metadata": {
        "id": "IngQsTIXO1ps"
      },
      "execution_count": 14,
      "outputs": []
    },
    {
      "cell_type": "markdown",
      "source": [
        "Загрузим предъобученную модель BERT"
      ],
      "metadata": {
        "id": "0SC09n3fPwjA"
      }
    },
    {
      "cell_type": "code",
      "source": [
        "model = BertForQuestionAnswering.from_pretrained('ai-forever/ruBert-base')"
      ],
      "metadata": {
        "colab": {
          "base_uri": "https://localhost:8080/"
        },
        "id": "EgiudAl5PPJE",
        "outputId": "1ce588bf-42d7-49bb-b9af-90ca7f1d1576"
      },
      "execution_count": 15,
      "outputs": [
        {
          "output_type": "stream",
          "name": "stderr",
          "text": [
            "Some weights of the model checkpoint at ai-forever/ruBert-base were not used when initializing BertForQuestionAnswering: ['cls.predictions.transform.dense.bias', 'cls.seq_relationship.weight', 'cls.predictions.transform.LayerNorm.bias', 'cls.seq_relationship.bias', 'cls.predictions.transform.dense.weight', 'cls.predictions.transform.LayerNorm.weight', 'cls.predictions.decoder.bias', 'cls.predictions.bias', 'cls.predictions.decoder.weight']\n",
            "- This IS expected if you are initializing BertForQuestionAnswering from the checkpoint of a model trained on another task or with another architecture (e.g. initializing a BertForSequenceClassification model from a BertForPreTraining model).\n",
            "- This IS NOT expected if you are initializing BertForQuestionAnswering from the checkpoint of a model that you expect to be exactly identical (initializing a BertForSequenceClassification model from a BertForSequenceClassification model).\n",
            "Some weights of BertForQuestionAnswering were not initialized from the model checkpoint at ai-forever/ruBert-base and are newly initialized: ['qa_outputs.weight', 'qa_outputs.bias']\n",
            "You should probably TRAIN this model on a down-stream task to be able to use it for predictions and inference.\n"
          ]
        }
      ]
    },
    {
      "cell_type": "markdown",
      "source": [
        "Загрузим и токенайзер"
      ],
      "metadata": {
        "id": "f5tc1-nBP2Yt"
      }
    },
    {
      "cell_type": "code",
      "source": [
        "tokenizer = BertTokenizer.from_pretrained('ai-forever/ruBert-base')"
      ],
      "metadata": {
        "id": "Gp6zURW4Praq"
      },
      "execution_count": 16,
      "outputs": []
    },
    {
      "cell_type": "markdown",
      "source": [
        "# Загрузим датасет"
      ],
      "metadata": {
        "id": "N65cd2oKFLsT"
      }
    },
    {
      "cell_type": "code",
      "source": [
        "!wget -nc https://github.com/aspushkarev/nlp-test-task-2023/tree/main/data/raw/train.json"
      ],
      "metadata": {
        "id": "BeMTx65DkhS_"
      },
      "execution_count": null,
      "outputs": []
    },
    {
      "cell_type": "code",
      "source": [
        "num_questions = 0\n",
        "num_posible = 0\n",
        "num_imposible = 0"
      ],
      "metadata": {
        "id": "LtafgS_4IerY"
      },
      "execution_count": 23,
      "outputs": []
    },
    {
      "cell_type": "code",
      "source": [
        "def get_data(path):\n",
        "  \"\"\"\n",
        "  Below code will only return questions wich have answers (i.e. not the ones flagged as imposible to answer)\n",
        "  Read file and retrieve the contexts, qustions and answers\n",
        "  \"\"\"\n",
        "\n",
        "  data = pd.read_json(path)\n",
        "\n",
        "  contexts = []\n",
        "  questions = []\n",
        "  answers = []\n",
        "  num_q = 0\n",
        "  num_pos = 0\n",
        "  num_imp = 0\n",
        "\n",
        "  for text in data['text']:\n",
        "      num_q += 1\n",
        "      contexts.append(text.lower())\n",
        "\n",
        "  for question in data['label']:\n",
        "      questions.append(question.lower())\n",
        "\n",
        "  for answer in data['extracted_part']:\n",
        "      if answer.get('answer_start') == [0]:\n",
        "          num_imp += 1\n",
        "      else:\n",
        "          num_pos += 1\n",
        "          answers.append(answer.get('text'))\n",
        "\n",
        "  return num_q, num_pos, num_imp, contexts, questions, answers"
      ],
      "metadata": {
        "id": "4U6bNyKaIi6J"
      },
      "execution_count": 131,
      "outputs": []
    },
    {
      "cell_type": "code",
      "source": [
        "num_q, num_pos, num_imp, train_contexts, train_questions, train_answers = get_data('train.json')\n",
        "num_questions  = num_q\n",
        "num_posible = num_pos\n",
        "num_imposible  = num_imp\n",
        "\n",
        "print(f\"Total number of questions: {num_questions}\")\n",
        "print(f\"Total number of answerable questions: {num_posible}\")\n",
        "print(f\"Total number of impossible questions: {num_imposible}\")"
      ],
      "metadata": {
        "colab": {
          "base_uri": "https://localhost:8080/"
        },
        "id": "yS8me_ZUHJ29",
        "outputId": "3ce224cc-f963-44ff-e3ec-208b94692dda"
      },
      "execution_count": 135,
      "outputs": [
        {
          "output_type": "stream",
          "name": "stdout",
          "text": [
            "Total number of questions: 1799\n",
            "Total number of answerable questions: 1492\n",
            "Total number of impossible questions: 307\n"
          ]
        }
      ]
    },
    {
      "cell_type": "code",
      "source": [
        "# data = pd.read_json(\"train.json\")\n",
        "# data.tail(2)"
      ],
      "metadata": {
        "id": "hzar-nt-QMrz"
      },
      "execution_count": null,
      "outputs": []
    },
    {
      "cell_type": "code",
      "source": [
        "# with open('train.json', 'rb') as f:\n",
        "#     raw_data = json.load(f)\n",
        "\n",
        "# contexts = []\n",
        "# questions = []\n",
        "# answers = []\n",
        "# num_q = 0\n",
        "# num_pos = 0\n",
        "# num_imp = 0\n",
        "\n",
        "# for text in data['text']:\n",
        "#     num_q += 1\n",
        "#     contexts.append(text.lower())\n",
        "\n",
        "# for question in data['label']:\n",
        "#     questions.append(question.lower())\n",
        "\n",
        "# for answer in data['extracted_part']:\n",
        "#     if answer.get('answer_start') == [0]:\n",
        "#         num_imp += 1\n",
        "#     else:\n",
        "#         num_pos += 1\n",
        "#         answers.append(answer.get('text'))"
      ],
      "metadata": {
        "id": "3Mw9stEXNXgA"
      },
      "execution_count": 125,
      "outputs": []
    },
    {
      "cell_type": "code",
      "source": [
        "# print(contexts[:3])\n",
        "# print(len(contexts))\n",
        "# print(num_q)"
      ],
      "metadata": {
        "colab": {
          "base_uri": "https://localhost:8080/"
        },
        "id": "o0tkPIg0cHIO",
        "outputId": "6b8fd2d7-6ec8-4ce4-bf7d-e6650883c7c3"
      },
      "execution_count": 109,
      "outputs": [
        {
          "output_type": "stream",
          "name": "stdout",
          "text": [
            "['извещение о проведении открытого конкурса в электронной форме для закупки №0328300032822000806 общая информация номер извещения 0328300032822000806 наименование объекта закупки поставка продуктов питания способ определения поставщика (подрядчика, исполнителя) открытый конкурс в бль порядок внесения денежных средств в качестве обеспечения заявки на участие в закупке, а также условия гарантии обеспечение заявки на участие в закупке может предоставляться участником закупки в виде денежных средств или независимой гарантии, предусмотренной ст. 45 федерального закона № 44-фз. выбор способа обеспечения осуществляется участником закупки самостоятельно. срок действия независимой гарантии должен составлять не менее месяца с даты окончания срока подачи заявок. обеспечение заявки на участие в закупке предоставляется в соответствии с ч. 5 ст. 44 федерального закона № 44-фз. условия независимой гарантии в соответствии со ст. 45 федерального закона № 44-фз. реквизиты счета в соответствии с п.16 ч. 1 ст. 42 закона № 44-фз \"номер расчётного счёта\" 00000000000000000000 \"номер лицевого счёта\" см. прилагаемые документы \"бик\" 000000000 \"наименование кредитной организации\" \"номер корреспондентского счета\" обеспечение исполнения контракта требуется обеспечение исполнения контракта размер обеспечения исполнения контракта 6593.25 российский рубль порядок обеспечения исполнения контракта, требования к обеспечению исполнение контракта, гарантийные обязательства могут обеспечиваться предоставлением независимой гарантии, соответствующей требованиям ст. 45 федерального закона № 44-фз, или внесением денежных средств на указанный заказчиком счет, на котором в соответствии с законодательством российской федерации учитываются операции со средствами, поступающими заказчику. способ обеспечения исполнения контракта, гарантийных обязательств, срок действия независимой гарантии определяются в соответствии с требованиями федерального закона № 44-фз участником закупки, с которым заключается контракт, самостоятельно. при этом срок действия независимой гарантии должен превышать предусмотренный контрактом срок исполнения обязательств, которые должны быть обеспечены такой независимой гарантией, не менее чем на один месяц, в том числе в случае его изменения в соответствии со ст. 95 федерального закона № 44-фз. порядок предоставления и требования о информация и документы, подтверждающие соответствие участников закупки дополнительным требованиям: 1) исполненный договор; 2) акт приемки оказанных услуг и (или) поставленных товаров, подтверждающий цену оказанных услуг и (или) поставленных товаров 4', 'требования к содержанию заявки участника запроса котировок в электронной форме заявка на участие в запросе котировок в электронной форме должна содержать следующие информацию и документы: 1) об участнике запроса котировок носят на банковский счет, открытый в банке, включенном в перечень, который утвержден распоряжением правительства российской федерации от 13.07.2018 n 1451-р. требования к банкам, договору специального счета, к порядку использования имеющегося у участника закупки банковского счета в качестве специального счета правительство рф установило в постановлении от 30.05.2018 №626. независимая гарантия должна соответствовать требованиям статьи 45 закона № 44-фз реквизиты счета, на котором в соответствии с законодательством российской федерации учитываются операции со средствами, поступающими заказчику: наименование заказчика: санкт-петербургское государственное бюджетное учреждение здравоохранения «городская поликлиника № 95» (спб гбуз гп № 95) реквизиты: инн 7817026947, кпп 781701001 реквизиты банковского счета: северо-западное гу банка россии//уфк по г.санкт-петербургу, г. санкт-петербург бик 014030106, номер счета банка получателя 03224643400000007200, казначейский счет 40102810945370000005. поставщик должен предоставить обеспечение исполнения контракта в размере 10 % от цены контракта. в случае если обеспечение исполнения контракта предоставляется в виде передачи заказчику денежных средств, участник запроса котировок в электронной форме, с которым заключается контракт, перечисляет денежные средства на счет: спб гбуз гп №95, инн 7817026947, кпп 781701001, получатель платежа: комитет финансов спб ( спб гбуз гп № 95, л/с 0531015) реквизиты банковского счета: северо-западное гу банка россии//уфк по г. санкт-петербургу, бик 014030106, номер счета банка получателя 03224643400000007200, к/с 40102810945370000005 в поле 104 платежных документов указывается код бюджетной классификации, имеющий 20 знаков: «00000000000000003510». в платежном поручении в поле \"назначение платежа\" указывается 510 (вр) 0531015 перечисление обеспечения контракта (предмет контракта и номер извещения об осуществлении закупки) ндс не обл. денежные средства, внесенные в качестве обеспечения исполнения контракта, в том числе части этих денежных средств в случае уменьшения размера обеспечения исполнения  сведения, содержащиеся в котировочной заявке участника, не должны допускать двусмысленных толкований.', 'извещение о проведении электронного аукциона для закупки №0345200005522000013 общая информация номер извещения 0345200005522000013 наименование объекта закупки поставка бумаги для офисной техники способ определения поставщика (подрядчика, исполнителя) электронный аукцион наименование электронной объект закупки российский рубль тип объекта закупки товар наименование товара, работы, услуги по окпд2, ктру код позиции характеристики товара, работы, услуги единица измерения количество(объем работы, услуги) цена за единицу измерения стоимость позиции наименование характеристики значение характеристики единица измерения характеристики бумага для офисной техники белая 17.12.14.129-00000025 пачка 113 351.42 39710.46 количество листов в пачке 500.0000 штука масса бумаги площадью 1м2 ≥ 80 и < 90 грамм формат a4 итого: 39710.46 российский рубль преимущества и требования к участникам преимущества преимущество в соответствии с ч. 3 ст. 30 закона № 44-фз требования к участникам 1 единые требования к участникам закупок в соответствии с ч. 1 ст. 31 закона № 44-фз 2 требования к участникам закупок в соответствии с ч. 1.1 ст. 31 закона № 44-фз ограничения не установлены обеспечение заявки обеспечение заявок не требуется обеспечение исполнения контракта требуется обеспечение исполнения контракта размер обеспечения исполнения контракта 10.00% порядок обеспечения исполнения контракта, требования к обеспечению участник закупки, с которым заключается контракт, может предоставить обеспечение исполнения контракта, гарантийных обязательств любым из двух способов: 1) внесение денежных средств на счет заказчика. банковские реквизиты: получатель: комитет финансов ленинградской области (гбу ло «сббж лужского района», л/с 20456у11900) банк: отделение ленинградское банка россии //уфк по ленинградской области г. санкт-петербург р/счет 03224643410000004500 бик 014106101 кор.счет: 40102810745370000006 платёжное поручение должно содержать: - кбк заказчика 00000000000000000510, - в разделе назначение платежа указать наименование предмета контракта и икз. факт внесения денежных средств на счет заказчика подтверждается платежным документом, на основании которого произведено перечисление средств; 2) предоставление независимой гарантии, соответствующей требованиям статьи 45 закона № 44-фз. способ обеспечения исполнения контракта, гарантийных о требования к содержанию, составу заявки на участие и инструкция по ее заполнению.docx дополнительная информация и документы документы не прикреплены']\n",
            "1799\n",
            "1799\n"
          ]
        }
      ]
    },
    {
      "cell_type": "code",
      "source": [
        "# print(questions[:3])\n",
        "# print(len(questions))\n",
        "# print(num_pos)\n",
        "# print(num_imp)"
      ],
      "metadata": {
        "colab": {
          "base_uri": "https://localhost:8080/"
        },
        "id": "hFXOKi2u2fqs",
        "outputId": "c5b9ff32-0e4e-475c-fc31-50361b5f6752"
      },
      "execution_count": 113,
      "outputs": [
        {
          "output_type": "stream",
          "name": "stdout",
          "text": [
            "['обеспечение исполнения контракта', 'обеспечение исполнения контракта', 'обеспечение исполнения контракта']\n",
            "1799\n",
            "1492\n",
            "307\n"
          ]
        }
      ]
    },
    {
      "cell_type": "code",
      "source": [
        "# num_q == num_pos + num_imp"
      ],
      "metadata": {
        "colab": {
          "base_uri": "https://localhost:8080/"
        },
        "id": "pL2G6K6n5bgr",
        "outputId": "2aea36d6-60db-4136-a1fa-e70c9843eb8a"
      },
      "execution_count": 116,
      "outputs": [
        {
          "output_type": "execute_result",
          "data": {
            "text/plain": [
              "True"
            ]
          },
          "metadata": {},
          "execution_count": 116
        }
      ]
    },
    {
      "cell_type": "code",
      "source": [
        "print(train_questions[0:3])\n",
        "print(train_answers[0:3])"
      ],
      "metadata": {
        "colab": {
          "base_uri": "https://localhost:8080/"
        },
        "id": "U4tAEwojj5y3",
        "outputId": "d138ea4c-f7c3-4655-fc03-88700e69825d"
      },
      "execution_count": 132,
      "outputs": [
        {
          "output_type": "stream",
          "name": "stdout",
          "text": [
            "['обеспечение исполнения контракта', 'обеспечение исполнения контракта', 'обеспечение исполнения контракта']\n",
            "[['Размер обеспечения исполнения контракта 6593.25 Российский рубль'], ['Поставщик должен предоставить обеспечение исполнения контракта в размере 10 % от цены Контракта.'], ['Размер обеспечения исполнения контракта 10.00%']]\n"
          ]
        }
      ]
    },
    {
      "cell_type": "code",
      "source": [
        "def add_answer_end(answers, contexts):\n",
        "  for answer, context in zip(answers, contexts):\n",
        "    answer['text'] = answer['text'].lower()\n",
        "    answer['answer_end'] = answer['answer_start'] + len(answer['text'])\n",
        "\n",
        "add_answer_end(train_answers, train_contexts)\n",
        "# add_answer_end(valid_answers, valid_contexts)"
      ],
      "metadata": {
        "colab": {
          "base_uri": "https://localhost:8080/",
          "height": 334
        },
        "id": "05lvc71xMQwT",
        "outputId": "beb91dd6-1214-4b99-8f8a-0dee30823c3b"
      },
      "execution_count": 136,
      "outputs": [
        {
          "output_type": "error",
          "ename": "TypeError",
          "evalue": "ignored",
          "traceback": [
            "\u001b[0;31m---------------------------------------------------------------------------\u001b[0m",
            "\u001b[0;31mTypeError\u001b[0m                                 Traceback (most recent call last)",
            "\u001b[0;32m<ipython-input-136-1ae72a3a19b3>\u001b[0m in \u001b[0;36m<cell line: 6>\u001b[0;34m()\u001b[0m\n\u001b[1;32m      4\u001b[0m     \u001b[0manswer\u001b[0m\u001b[0;34m[\u001b[0m\u001b[0;34m'answer_end'\u001b[0m\u001b[0;34m]\u001b[0m \u001b[0;34m=\u001b[0m \u001b[0manswer\u001b[0m\u001b[0;34m[\u001b[0m\u001b[0;34m'answer_start'\u001b[0m\u001b[0;34m]\u001b[0m \u001b[0;34m+\u001b[0m \u001b[0mlen\u001b[0m\u001b[0;34m(\u001b[0m\u001b[0manswer\u001b[0m\u001b[0;34m[\u001b[0m\u001b[0;34m'text'\u001b[0m\u001b[0;34m]\u001b[0m\u001b[0;34m)\u001b[0m\u001b[0;34m\u001b[0m\u001b[0;34m\u001b[0m\u001b[0m\n\u001b[1;32m      5\u001b[0m \u001b[0;34m\u001b[0m\u001b[0m\n\u001b[0;32m----> 6\u001b[0;31m \u001b[0madd_answer_end\u001b[0m\u001b[0;34m(\u001b[0m\u001b[0mtrain_answers\u001b[0m\u001b[0;34m,\u001b[0m \u001b[0mtrain_contexts\u001b[0m\u001b[0;34m)\u001b[0m\u001b[0;34m\u001b[0m\u001b[0;34m\u001b[0m\u001b[0m\n\u001b[0m\u001b[1;32m      7\u001b[0m \u001b[0;31m# add_answer_end(valid_answers, valid_contexts)\u001b[0m\u001b[0;34m\u001b[0m\u001b[0;34m\u001b[0m\u001b[0m\n",
            "\u001b[0;32m<ipython-input-136-1ae72a3a19b3>\u001b[0m in \u001b[0;36madd_answer_end\u001b[0;34m(answers, contexts)\u001b[0m\n\u001b[1;32m      1\u001b[0m \u001b[0;32mdef\u001b[0m \u001b[0madd_answer_end\u001b[0m\u001b[0;34m(\u001b[0m\u001b[0manswers\u001b[0m\u001b[0;34m,\u001b[0m \u001b[0mcontexts\u001b[0m\u001b[0;34m)\u001b[0m\u001b[0;34m:\u001b[0m\u001b[0;34m\u001b[0m\u001b[0;34m\u001b[0m\u001b[0m\n\u001b[1;32m      2\u001b[0m   \u001b[0;32mfor\u001b[0m \u001b[0manswer\u001b[0m\u001b[0;34m,\u001b[0m \u001b[0mcontext\u001b[0m \u001b[0;32min\u001b[0m \u001b[0mzip\u001b[0m\u001b[0;34m(\u001b[0m\u001b[0manswers\u001b[0m\u001b[0;34m,\u001b[0m \u001b[0mcontexts\u001b[0m\u001b[0;34m)\u001b[0m\u001b[0;34m:\u001b[0m\u001b[0;34m\u001b[0m\u001b[0;34m\u001b[0m\u001b[0m\n\u001b[0;32m----> 3\u001b[0;31m     \u001b[0manswer\u001b[0m\u001b[0;34m[\u001b[0m\u001b[0;34m'text'\u001b[0m\u001b[0;34m]\u001b[0m \u001b[0;34m=\u001b[0m \u001b[0manswer\u001b[0m\u001b[0;34m[\u001b[0m\u001b[0;34m'text'\u001b[0m\u001b[0;34m]\u001b[0m\u001b[0;34m.\u001b[0m\u001b[0mlower\u001b[0m\u001b[0;34m(\u001b[0m\u001b[0;34m)\u001b[0m\u001b[0;34m\u001b[0m\u001b[0;34m\u001b[0m\u001b[0m\n\u001b[0m\u001b[1;32m      4\u001b[0m     \u001b[0manswer\u001b[0m\u001b[0;34m[\u001b[0m\u001b[0;34m'answer_end'\u001b[0m\u001b[0;34m]\u001b[0m \u001b[0;34m=\u001b[0m \u001b[0manswer\u001b[0m\u001b[0;34m[\u001b[0m\u001b[0;34m'answer_start'\u001b[0m\u001b[0;34m]\u001b[0m \u001b[0;34m+\u001b[0m \u001b[0mlen\u001b[0m\u001b[0;34m(\u001b[0m\u001b[0manswer\u001b[0m\u001b[0;34m[\u001b[0m\u001b[0;34m'text'\u001b[0m\u001b[0;34m]\u001b[0m\u001b[0;34m)\u001b[0m\u001b[0;34m\u001b[0m\u001b[0;34m\u001b[0m\u001b[0m\n\u001b[1;32m      5\u001b[0m \u001b[0;34m\u001b[0m\u001b[0m\n",
            "\u001b[0;31mTypeError\u001b[0m: list indices must be integers or slices, not str"
          ]
        }
      ]
    },
    {
      "cell_type": "code",
      "source": [
        "tokenizerFast = BertTokenizerFast.from_pretrained(MODEL_PATH)\n",
        "\n",
        "train_encodings_fast = tokenizerFast(train_questions, train_contexts,  max_length = MAX_LENGTH, truncation=True)"
      ],
      "metadata": {
        "id": "HgeGqTzTNTys"
      },
      "execution_count": null,
      "outputs": []
    }
  ]
}