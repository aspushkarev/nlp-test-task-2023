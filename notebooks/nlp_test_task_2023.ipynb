{
  "nbformat": 4,
  "nbformat_minor": 0,
  "metadata": {
    "colab": {
      "provenance": []
    },
    "kernelspec": {
      "name": "python3",
      "display_name": "Python 3"
    },
    "language_info": {
      "name": "python"
    },
    "widgets": {
      "application/vnd.jupyter.widget-state+json": {
        "18d068a7e8ab4c0a987eb7d31eff076d": {
          "model_module": "@jupyter-widgets/controls",
          "model_name": "HBoxModel",
          "model_module_version": "1.5.0",
          "state": {
            "_dom_classes": [],
            "_model_module": "@jupyter-widgets/controls",
            "_model_module_version": "1.5.0",
            "_model_name": "HBoxModel",
            "_view_count": null,
            "_view_module": "@jupyter-widgets/controls",
            "_view_module_version": "1.5.0",
            "_view_name": "HBoxView",
            "box_style": "",
            "children": [
              "IPY_MODEL_6c985bece6564c70ad092354eb173e05",
              "IPY_MODEL_6f15725e39c9403793b4d0b2badef993",
              "IPY_MODEL_88fdf636c7e54e5d82e132de9d8a011e"
            ],
            "layout": "IPY_MODEL_76c5e4ad65bb4938a21aa4564c87cfd5"
          }
        },
        "6c985bece6564c70ad092354eb173e05": {
          "model_module": "@jupyter-widgets/controls",
          "model_name": "HTMLModel",
          "model_module_version": "1.5.0",
          "state": {
            "_dom_classes": [],
            "_model_module": "@jupyter-widgets/controls",
            "_model_module_version": "1.5.0",
            "_model_name": "HTMLModel",
            "_view_count": null,
            "_view_module": "@jupyter-widgets/controls",
            "_view_module_version": "1.5.0",
            "_view_name": "HTMLView",
            "description": "",
            "description_tooltip": null,
            "layout": "IPY_MODEL_8b977d0ea99043de930da2164280ea67",
            "placeholder": "​",
            "style": "IPY_MODEL_aeaf6e278c624c3ea6ab57e5b9d0a167",
            "value": "100%"
          }
        },
        "6f15725e39c9403793b4d0b2badef993": {
          "model_module": "@jupyter-widgets/controls",
          "model_name": "FloatProgressModel",
          "model_module_version": "1.5.0",
          "state": {
            "_dom_classes": [],
            "_model_module": "@jupyter-widgets/controls",
            "_model_module_version": "1.5.0",
            "_model_name": "FloatProgressModel",
            "_view_count": null,
            "_view_module": "@jupyter-widgets/controls",
            "_view_module_version": "1.5.0",
            "_view_name": "ProgressView",
            "bar_style": "success",
            "description": "",
            "description_tooltip": null,
            "layout": "IPY_MODEL_d8f359fd77f44163b8711a39616e65cb",
            "max": 1799,
            "min": 0,
            "orientation": "horizontal",
            "style": "IPY_MODEL_9d352a6576ab4f0bbffe2794a4651ce9",
            "value": 1799
          }
        },
        "88fdf636c7e54e5d82e132de9d8a011e": {
          "model_module": "@jupyter-widgets/controls",
          "model_name": "HTMLModel",
          "model_module_version": "1.5.0",
          "state": {
            "_dom_classes": [],
            "_model_module": "@jupyter-widgets/controls",
            "_model_module_version": "1.5.0",
            "_model_name": "HTMLModel",
            "_view_count": null,
            "_view_module": "@jupyter-widgets/controls",
            "_view_module_version": "1.5.0",
            "_view_name": "HTMLView",
            "description": "",
            "description_tooltip": null,
            "layout": "IPY_MODEL_ef6e6f4f015e42bf8f750dc53562d66b",
            "placeholder": "​",
            "style": "IPY_MODEL_62d6fba03a844225beefd4801c808c5c",
            "value": " 1799/1799 [01:35&lt;00:00, 37.63it/s]"
          }
        },
        "76c5e4ad65bb4938a21aa4564c87cfd5": {
          "model_module": "@jupyter-widgets/base",
          "model_name": "LayoutModel",
          "model_module_version": "1.2.0",
          "state": {
            "_model_module": "@jupyter-widgets/base",
            "_model_module_version": "1.2.0",
            "_model_name": "LayoutModel",
            "_view_count": null,
            "_view_module": "@jupyter-widgets/base",
            "_view_module_version": "1.2.0",
            "_view_name": "LayoutView",
            "align_content": null,
            "align_items": null,
            "align_self": null,
            "border": null,
            "bottom": null,
            "display": null,
            "flex": null,
            "flex_flow": null,
            "grid_area": null,
            "grid_auto_columns": null,
            "grid_auto_flow": null,
            "grid_auto_rows": null,
            "grid_column": null,
            "grid_gap": null,
            "grid_row": null,
            "grid_template_areas": null,
            "grid_template_columns": null,
            "grid_template_rows": null,
            "height": null,
            "justify_content": null,
            "justify_items": null,
            "left": null,
            "margin": null,
            "max_height": null,
            "max_width": null,
            "min_height": null,
            "min_width": null,
            "object_fit": null,
            "object_position": null,
            "order": null,
            "overflow": null,
            "overflow_x": null,
            "overflow_y": null,
            "padding": null,
            "right": null,
            "top": null,
            "visibility": null,
            "width": null
          }
        },
        "8b977d0ea99043de930da2164280ea67": {
          "model_module": "@jupyter-widgets/base",
          "model_name": "LayoutModel",
          "model_module_version": "1.2.0",
          "state": {
            "_model_module": "@jupyter-widgets/base",
            "_model_module_version": "1.2.0",
            "_model_name": "LayoutModel",
            "_view_count": null,
            "_view_module": "@jupyter-widgets/base",
            "_view_module_version": "1.2.0",
            "_view_name": "LayoutView",
            "align_content": null,
            "align_items": null,
            "align_self": null,
            "border": null,
            "bottom": null,
            "display": null,
            "flex": null,
            "flex_flow": null,
            "grid_area": null,
            "grid_auto_columns": null,
            "grid_auto_flow": null,
            "grid_auto_rows": null,
            "grid_column": null,
            "grid_gap": null,
            "grid_row": null,
            "grid_template_areas": null,
            "grid_template_columns": null,
            "grid_template_rows": null,
            "height": null,
            "justify_content": null,
            "justify_items": null,
            "left": null,
            "margin": null,
            "max_height": null,
            "max_width": null,
            "min_height": null,
            "min_width": null,
            "object_fit": null,
            "object_position": null,
            "order": null,
            "overflow": null,
            "overflow_x": null,
            "overflow_y": null,
            "padding": null,
            "right": null,
            "top": null,
            "visibility": null,
            "width": null
          }
        },
        "aeaf6e278c624c3ea6ab57e5b9d0a167": {
          "model_module": "@jupyter-widgets/controls",
          "model_name": "DescriptionStyleModel",
          "model_module_version": "1.5.0",
          "state": {
            "_model_module": "@jupyter-widgets/controls",
            "_model_module_version": "1.5.0",
            "_model_name": "DescriptionStyleModel",
            "_view_count": null,
            "_view_module": "@jupyter-widgets/base",
            "_view_module_version": "1.2.0",
            "_view_name": "StyleView",
            "description_width": ""
          }
        },
        "d8f359fd77f44163b8711a39616e65cb": {
          "model_module": "@jupyter-widgets/base",
          "model_name": "LayoutModel",
          "model_module_version": "1.2.0",
          "state": {
            "_model_module": "@jupyter-widgets/base",
            "_model_module_version": "1.2.0",
            "_model_name": "LayoutModel",
            "_view_count": null,
            "_view_module": "@jupyter-widgets/base",
            "_view_module_version": "1.2.0",
            "_view_name": "LayoutView",
            "align_content": null,
            "align_items": null,
            "align_self": null,
            "border": null,
            "bottom": null,
            "display": null,
            "flex": null,
            "flex_flow": null,
            "grid_area": null,
            "grid_auto_columns": null,
            "grid_auto_flow": null,
            "grid_auto_rows": null,
            "grid_column": null,
            "grid_gap": null,
            "grid_row": null,
            "grid_template_areas": null,
            "grid_template_columns": null,
            "grid_template_rows": null,
            "height": null,
            "justify_content": null,
            "justify_items": null,
            "left": null,
            "margin": null,
            "max_height": null,
            "max_width": null,
            "min_height": null,
            "min_width": null,
            "object_fit": null,
            "object_position": null,
            "order": null,
            "overflow": null,
            "overflow_x": null,
            "overflow_y": null,
            "padding": null,
            "right": null,
            "top": null,
            "visibility": null,
            "width": null
          }
        },
        "9d352a6576ab4f0bbffe2794a4651ce9": {
          "model_module": "@jupyter-widgets/controls",
          "model_name": "ProgressStyleModel",
          "model_module_version": "1.5.0",
          "state": {
            "_model_module": "@jupyter-widgets/controls",
            "_model_module_version": "1.5.0",
            "_model_name": "ProgressStyleModel",
            "_view_count": null,
            "_view_module": "@jupyter-widgets/base",
            "_view_module_version": "1.2.0",
            "_view_name": "StyleView",
            "bar_color": null,
            "description_width": ""
          }
        },
        "ef6e6f4f015e42bf8f750dc53562d66b": {
          "model_module": "@jupyter-widgets/base",
          "model_name": "LayoutModel",
          "model_module_version": "1.2.0",
          "state": {
            "_model_module": "@jupyter-widgets/base",
            "_model_module_version": "1.2.0",
            "_model_name": "LayoutModel",
            "_view_count": null,
            "_view_module": "@jupyter-widgets/base",
            "_view_module_version": "1.2.0",
            "_view_name": "LayoutView",
            "align_content": null,
            "align_items": null,
            "align_self": null,
            "border": null,
            "bottom": null,
            "display": null,
            "flex": null,
            "flex_flow": null,
            "grid_area": null,
            "grid_auto_columns": null,
            "grid_auto_flow": null,
            "grid_auto_rows": null,
            "grid_column": null,
            "grid_gap": null,
            "grid_row": null,
            "grid_template_areas": null,
            "grid_template_columns": null,
            "grid_template_rows": null,
            "height": null,
            "justify_content": null,
            "justify_items": null,
            "left": null,
            "margin": null,
            "max_height": null,
            "max_width": null,
            "min_height": null,
            "min_width": null,
            "object_fit": null,
            "object_position": null,
            "order": null,
            "overflow": null,
            "overflow_x": null,
            "overflow_y": null,
            "padding": null,
            "right": null,
            "top": null,
            "visibility": null,
            "width": null
          }
        },
        "62d6fba03a844225beefd4801c808c5c": {
          "model_module": "@jupyter-widgets/controls",
          "model_name": "DescriptionStyleModel",
          "model_module_version": "1.5.0",
          "state": {
            "_model_module": "@jupyter-widgets/controls",
            "_model_module_version": "1.5.0",
            "_model_name": "DescriptionStyleModel",
            "_view_count": null,
            "_view_module": "@jupyter-widgets/base",
            "_view_module_version": "1.2.0",
            "_view_name": "StyleView",
            "description_width": ""
          }
        }
      }
    }
  },
  "cells": [
    {
      "cell_type": "code",
      "source": [
        "!pip install pymorphy2"
      ],
      "metadata": {
        "id": "lJnH0kfr0EIC",
        "colab": {
          "base_uri": "https://localhost:8080/"
        },
        "outputId": "ebc9d1ef-ada0-4da6-bb3e-3a70311f6e1b"
      },
      "execution_count": 2,
      "outputs": [
        {
          "output_type": "stream",
          "name": "stdout",
          "text": [
            "Looking in indexes: https://pypi.org/simple, https://us-python.pkg.dev/colab-wheels/public/simple/\n",
            "Requirement already satisfied: pymorphy2 in /usr/local/lib/python3.10/dist-packages (0.9.1)\n",
            "Requirement already satisfied: dawg-python>=0.7.1 in /usr/local/lib/python3.10/dist-packages (from pymorphy2) (0.7.2)\n",
            "Requirement already satisfied: pymorphy2-dicts-ru<3.0,>=2.4 in /usr/local/lib/python3.10/dist-packages (from pymorphy2) (2.4.417127.4579844)\n",
            "Requirement already satisfied: docopt>=0.6 in /usr/local/lib/python3.10/dist-packages (from pymorphy2) (0.6.2)\n"
          ]
        }
      ]
    },
    {
      "cell_type": "code",
      "execution_count": 3,
      "metadata": {
        "id": "TsLJMaDLEz0K"
      },
      "outputs": [],
      "source": [
        "import matplotlib.pyplot as plt\n",
        "import numpy as np\n",
        "import pandas as pd\n",
        "import json\n",
        "\n",
        "import string\n",
        "import nltk\n",
        "import pymorphy2\n",
        "\n",
        "from sklearn.model_selection import train_test_split\n",
        "from sklearn.feature_extraction.text import TfidfVectorizer\n",
        "from numpy.lib.function_base import vectorize\n",
        "from sklearn.ensemble import RandomForestClassifier\n",
        "from sklearn.linear_model import LogisticRegression\n",
        "from lightgbm import LGBMClassifier\n",
        "from sklearn.model_selection import GridSearchCV\n",
        "\n",
        "from tqdm import tqdm_notebook\n",
        "from sklearn.metrics import accuracy_score, confusion_matrix, roc_auc_score\n",
        "\n",
        "import pickle\n",
        "\n",
        "import warnings\n",
        "warnings.filterwarnings(\"ignore\")\n",
        "%matplotlib inline"
      ]
    },
    {
      "cell_type": "markdown",
      "source": [
        "# 1. Загрузка данных"
      ],
      "metadata": {
        "id": "pFS30YrF1VKU"
      }
    },
    {
      "cell_type": "code",
      "source": [
        "with open('train.json', encoding = 'utf-8') as json_file:\n",
        "    data = json.load(json_file)"
      ],
      "metadata": {
        "id": "VViJXwE0FAwt"
      },
      "execution_count": 4,
      "outputs": []
    },
    {
      "cell_type": "markdown",
      "source": [
        "Будем решать задачу классификации на 2 класса"
      ],
      "metadata": {
        "id": "aTkjCWmO1RUC"
      }
    },
    {
      "cell_type": "code",
      "source": [
        "print(set([x[\"label\"] for x in data]))"
      ],
      "metadata": {
        "colab": {
          "base_uri": "https://localhost:8080/"
        },
        "id": "wn1r46_CHp2Z",
        "outputId": "27475b50-95c2-4a10-b88f-e4fcd865bbe8"
      },
      "execution_count": 5,
      "outputs": [
        {
          "output_type": "stream",
          "name": "stdout",
          "text": [
            "{'обеспечение гарантийных обязательств', 'обеспечение исполнения контракта'}\n"
          ]
        }
      ]
    },
    {
      "cell_type": "markdown",
      "source": [
        "# 2. Предобработка и токенизация"
      ],
      "metadata": {
        "id": "7RUE54YSbNNS"
      }
    },
    {
      "cell_type": "code",
      "source": [
        "# загружаем список стоп-слов для русского\n",
        "nltk.download('stopwords')\n",
        "stop_words = nltk.corpus.stopwords.words('russian')\n",
        "\n",
        "# Посмотрим на стоп-слова\n",
        "stop_words[:10]"
      ],
      "metadata": {
        "colab": {
          "base_uri": "https://localhost:8080/"
        },
        "id": "JX9wW4e1SNY8",
        "outputId": "5ac16738-84b3-4626-ddc0-f0591ef562e3"
      },
      "execution_count": 6,
      "outputs": [
        {
          "output_type": "stream",
          "name": "stderr",
          "text": [
            "[nltk_data] Downloading package stopwords to /root/nltk_data...\n",
            "[nltk_data]   Unzipping corpora/stopwords.zip.\n"
          ]
        },
        {
          "output_type": "execute_result",
          "data": {
            "text/plain": [
              "['и', 'в', 'во', 'не', 'что', 'он', 'на', 'я', 'с', 'со']"
            ]
          },
          "metadata": {},
          "execution_count": 6
        }
      ]
    },
    {
      "cell_type": "code",
      "source": [
        "# знаки препинания\n",
        "string.punctuation"
      ],
      "metadata": {
        "id": "zysNMP63ScEZ",
        "colab": {
          "base_uri": "https://localhost:8080/",
          "height": 35
        },
        "outputId": "0d5617c8-7976-4717-9d2d-a6b3d70a3214"
      },
      "execution_count": 7,
      "outputs": [
        {
          "output_type": "execute_result",
          "data": {
            "text/plain": [
              "'!\"#$%&\\'()*+,-./:;<=>?@[\\\\]^_`{|}~'"
            ],
            "application/vnd.google.colaboratory.intrinsic+json": {
              "type": "string"
            }
          },
          "metadata": {},
          "execution_count": 7
        }
      ]
    },
    {
      "cell_type": "markdown",
      "source": [
        "Инициализируем WordPunctTokenizer, с помощью которого затем разобьём текст на слова"
      ],
      "metadata": {
        "id": "t34SUgvB2OOc"
      }
    },
    {
      "cell_type": "code",
      "source": [
        "word_tokenizer = nltk.WordPunctTokenizer()"
      ],
      "metadata": {
        "id": "3cAZx5j82JOK"
      },
      "execution_count": 8,
      "outputs": []
    },
    {
      "cell_type": "code",
      "source": [
        "dates = [str(x) for x in np.arange(1900, 2022)]\n",
        "\n",
        "def process_data(data):\n",
        "    \"\"\"\n",
        "    Предобработка текста\n",
        "    \"\"\"\n",
        "    texts = []\n",
        "    targets = []\n",
        "    \n",
        "    # поочередно проходим по всем словам в списке\n",
        "    for item in data:\n",
        "               \n",
        "        text_lower = item['text'].lower() # приводим все слова к нижнему регистру\n",
        "        tokens     = word_tokenizer.tokenize(text_lower) # разбиваем текст на слова\n",
        "        \n",
        "        # удаляем пунктуацию и стоп-слова\n",
        "        tokens = [word for word in tokens if (word not in string.punctuation and word not in stop_words and word not in dates)]\n",
        "        \n",
        "        texts.append(tokens) # добавляем в предобработанный список\n",
        "    \n",
        "    return texts"
      ],
      "metadata": {
        "id": "hUa7Pqx12REm"
      },
      "execution_count": 9,
      "outputs": []
    },
    {
      "cell_type": "code",
      "source": [
        "# запускаем нашу предобработку\n",
        "%%time\n",
        "y = [item['label'] for item in data]\n",
        "texts = process_data(data)"
      ],
      "metadata": {
        "colab": {
          "base_uri": "https://localhost:8080/"
        },
        "id": "s0R0Rv-721Qn",
        "outputId": "d4979655-b457-425a-95a2-262e2576ee29"
      },
      "execution_count": 10,
      "outputs": [
        {
          "output_type": "stream",
          "name": "stdout",
          "text": [
            "CPU times: user 1.96 s, sys: 22.6 ms, total: 1.98 s\n",
            "Wall time: 2.04 s\n"
          ]
        }
      ]
    },
    {
      "cell_type": "markdown",
      "source": [
        "Теперь каждый пример представлен списком слов. Причем все слова с прописной буквы. Пунктуацию и стоп-слова мы удалили"
      ],
      "metadata": {
        "id": "SlQ-1k2J3cuf"
      }
    },
    {
      "cell_type": "code",
      "source": [
        "i = 159\n",
        "print(\"Label: \", y[i])\n",
        "print(\"Tokens: \", texts[i][:5])"
      ],
      "metadata": {
        "colab": {
          "base_uri": "https://localhost:8080/"
        },
        "id": "Gf6t2nUg3WuZ",
        "outputId": "c932e03d-411c-4aea-b380-98a559607977"
      },
      "execution_count": 11,
      "outputs": [
        {
          "output_type": "stream",
          "name": "stdout",
          "text": [
            "Label:  обеспечение исполнения контракта\n",
            "Tokens:  ['приложение', '№', '4', 'извещению', 'осуществлении']\n"
          ]
        }
      ]
    },
    {
      "cell_type": "markdown",
      "source": [
        "# 3. Нормализация слов"
      ],
      "metadata": {
        "id": "GaGgIaHB4TjQ"
      }
    },
    {
      "cell_type": "code",
      "source": [
        "morph = pymorphy2.MorphAnalyzer()"
      ],
      "metadata": {
        "id": "H4YkTb-m4Zhj"
      },
      "execution_count": 12,
      "outputs": []
    },
    {
      "cell_type": "markdown",
      "source": [
        "Взглянем что получается"
      ],
      "metadata": {
        "id": "w6c3mgFy49DE"
      }
    },
    {
      "cell_type": "code",
      "source": [
        "i = 1\n",
        "for aword in texts[i][:10]:\n",
        "    aword_norm = morph.parse(aword)[0].normal_form\n",
        "    print(\"Исходное слово: %s.\\tЛемматизированное: %s\" % (aword, aword_norm))"
      ],
      "metadata": {
        "colab": {
          "base_uri": "https://localhost:8080/"
        },
        "id": "aG0s_cGW43_I",
        "outputId": "e132d853-d86e-4cf2-808b-3462b937391a"
      },
      "execution_count": 13,
      "outputs": [
        {
          "output_type": "stream",
          "name": "stdout",
          "text": [
            "Исходное слово: требования.\tЛемматизированное: требование\n",
            "Исходное слово: содержанию.\tЛемматизированное: содержание\n",
            "Исходное слово: заявки.\tЛемматизированное: заявка\n",
            "Исходное слово: участника.\tЛемматизированное: участник\n",
            "Исходное слово: запроса.\tЛемматизированное: запрос\n",
            "Исходное слово: котировок.\tЛемматизированное: котировка\n",
            "Исходное слово: электронной.\tЛемматизированное: электронный\n",
            "Исходное слово: форме.\tЛемматизированное: форма\n",
            "Исходное слово: заявка.\tЛемматизированное: заявка\n",
            "Исходное слово: участие.\tЛемматизированное: участие\n"
          ]
        }
      ]
    },
    {
      "cell_type": "markdown",
      "source": [
        "Отлично, теперь применим лемматизацию ко всему документу"
      ],
      "metadata": {
        "id": "6Y7_xaFt5ccR"
      }
    },
    {
      "cell_type": "code",
      "source": [
        "for i in tqdm_notebook(range(len(texts))):\n",
        "    text_lemmatized = [morph.parse(x)[0].normal_form for x in texts[i]]\n",
        "    texts[i] = ' '.join(text_lemmatized) "
      ],
      "metadata": {
        "colab": {
          "base_uri": "https://localhost:8080/",
          "height": 49,
          "referenced_widgets": [
            "18d068a7e8ab4c0a987eb7d31eff076d",
            "6c985bece6564c70ad092354eb173e05",
            "6f15725e39c9403793b4d0b2badef993",
            "88fdf636c7e54e5d82e132de9d8a011e",
            "76c5e4ad65bb4938a21aa4564c87cfd5",
            "8b977d0ea99043de930da2164280ea67",
            "aeaf6e278c624c3ea6ab57e5b9d0a167",
            "d8f359fd77f44163b8711a39616e65cb",
            "9d352a6576ab4f0bbffe2794a4651ce9",
            "ef6e6f4f015e42bf8f750dc53562d66b",
            "62d6fba03a844225beefd4801c808c5c"
          ]
        },
        "id": "NmgbPANC5IhK",
        "outputId": "7fe72611-aa34-4a65-a102-a38614fd66f0"
      },
      "execution_count": 14,
      "outputs": [
        {
          "output_type": "display_data",
          "data": {
            "text/plain": [
              "  0%|          | 0/1799 [00:00<?, ?it/s]"
            ],
            "application/vnd.jupyter.widget-view+json": {
              "version_major": 2,
              "version_minor": 0,
              "model_id": "18d068a7e8ab4c0a987eb7d31eff076d"
            }
          },
          "metadata": {}
        }
      ]
    },
    {
      "cell_type": "markdown",
      "source": [
        "# 4. Моделирование и векторные представления"
      ],
      "metadata": {
        "id": "V7oPP6OR55qn"
      }
    },
    {
      "cell_type": "markdown",
      "source": [
        "Лейблы у нас закодированы словами. Для корректной работы алгоритма конвертируем их в числа\n",
        "\n",
        "('обеспечение гарантийных обязательств', 'обеспечение исполнения контракта'):\n",
        "\n",
        "```\n",
        "обеспечение гарантийных обязательств = 0\n",
        "обеспечение исполнения контракта = 1\n",
        "\n",
        "```"
      ],
      "metadata": {
        "id": "3SkhcNs-7AO0"
      }
    },
    {
      "cell_type": "code",
      "source": [
        "def label2num(y):\n",
        "    \"\"\"\n",
        "    Функция для кодирования лейблов\n",
        "    \"\"\"\n",
        "    if y == 'обеспечение гарантийных обязательств':\n",
        "        return 0\n",
        "    if y ==  'обеспечение исполнения контракта':\n",
        "        return 1\n",
        "\n",
        "encoded_y = [label2num(label) for label in y]"
      ],
      "metadata": {
        "id": "aiuGp2o85_N2"
      },
      "execution_count": 15,
      "outputs": []
    },
    {
      "cell_type": "markdown",
      "source": [
        "Разобъём на train и test"
      ],
      "metadata": {
        "id": "mwgKsfW06p6A"
      }
    },
    {
      "cell_type": "code",
      "source": [
        "train_texts, test_texts, train_y, test_y = train_test_split(texts, encoded_y, test_size=0.2, random_state=42, stratify=y)"
      ],
      "metadata": {
        "id": "_VmST3a58se0"
      },
      "execution_count": 16,
      "outputs": []
    },
    {
      "cell_type": "markdown",
      "source": [
        "# TF-IDF"
      ],
      "metadata": {
        "id": "ccuoqZBr891f"
      }
    },
    {
      "cell_type": "code",
      "source": [
        "vectorizer = TfidfVectorizer(max_features=200, norm = None) # возмем топ 200 слов\n",
        "vectorizer.fit(train_texts)\n",
        "\n",
        "# Топ-10 слов\n",
        "vectorizer.get_feature_names_out()[:20]"
      ],
      "metadata": {
        "colab": {
          "base_uri": "https://localhost:8080/"
        },
        "id": "ky2xBc-M8-_P",
        "outputId": "1c14e168-2818-4fdc-f91b-57fd124b9850"
      },
      "execution_count": 17,
      "outputs": [
        {
          "output_type": "execute_result",
          "data": {
            "text/plain": [
              "array(['00', '04', '05', '10', '11', '12', '13', '14', '16', '2022', '30',\n",
              "       '44', '45', '95', '96', '___', '____', 'аванс', 'адрес', 'акт'],\n",
              "      dtype=object)"
            ]
          },
          "metadata": {},
          "execution_count": 17
        }
      ]
    },
    {
      "cell_type": "code",
      "source": [
        "train_X = vectorizer.fit_transform(train_texts)\n",
        "test_X  = vectorizer.transform(test_texts)"
      ],
      "metadata": {
        "id": "rzLdYX8m-o8y"
      },
      "execution_count": 18,
      "outputs": []
    },
    {
      "cell_type": "markdown",
      "source": [
        "Посмотрим что получается в первых двух строчках"
      ],
      "metadata": {
        "id": "ZMXk-Dd-NeKg"
      }
    },
    {
      "cell_type": "code",
      "source": [
        "train_X.todense()[:2]"
      ],
      "metadata": {
        "colab": {
          "base_uri": "https://localhost:8080/"
        },
        "id": "t91rNX-3-yHJ",
        "outputId": "8cdd81c5-013a-42d7-eb5c-d854a46fb8ea"
      },
      "execution_count": 19,
      "outputs": [
        {
          "output_type": "execute_result",
          "data": {
            "text/plain": [
              "matrix([[ 2.10278766,  0.        ,  0.        ,  1.94446161,  0.        ,\n",
              "          0.        ,  0.        ,  0.        ,  0.        ,  1.84429312,\n",
              "          0.        ,  3.4199086 ,  2.00709718,  0.        ,  0.        ,\n",
              "          2.25380518,  2.70405389,  0.        ,  0.        ,  0.        ,\n",
              "          3.82564905,  1.87546874,  2.113303  ,  2.07391968,  0.        ,\n",
              "          0.        ,  3.21853139,  2.52300541,  0.        ,  0.        ,\n",
              "          0.        ,  5.19916857,  0.        ,  0.        ,  0.        ,\n",
              "          3.04128978,  0.        ,  3.82911225,  0.        ,  2.94445665,\n",
              "          0.        ,  0.        , 31.66502907,  0.        ,  2.1006978 ,\n",
              "          3.53024136,  0.        ,  0.        ,  7.04413652,  3.50945424,\n",
              "          0.        ,  3.0684918 ,  2.04388739,  2.24653359,  0.        ,\n",
              "          0.        ,  0.        ,  0.        ,  2.89250104,  0.        ,\n",
              "          0.        ,  0.        , 15.73268788,  0.        ,  5.23281316,\n",
              "          1.86882419,  0.        ,  0.        ,  0.        ,  0.        ,\n",
              "          0.        ,  0.        ,  5.26722314,  0.        ,  0.        ,\n",
              "          0.        ,  2.07391968,  3.19315034,  1.95523371,  0.        ,\n",
              "          2.29098418,  0.        ,  0.        ,  0.        ,  0.        ,\n",
              "          1.86882419,  3.20580061,  6.49884008,  0.        ,  0.        ,\n",
              "          0.        ,  0.        , 11.35119955,  2.0597923 ,  4.50275009,\n",
              "          0.        ,  0.        ,  2.68968097,  0.        ,  0.        ,\n",
              "          0.        ,  2.24653242,  0.        ,  0.        ,  1.8704812 ,\n",
              "          0.        ,  0.        ,  0.        ,  2.82135994,  0.        ,\n",
              "          0.        ,  3.04665172,  0.        ,  0.        ,  0.        ,\n",
              "          0.        ,  0.        ,  0.        ,  0.        ,  0.        ,\n",
              "          1.69592882,  6.58272257,  2.28343698,  0.        ,  2.05180822,\n",
              "          0.        ,  0.        ,  0.        ,  4.6279474 ,  2.61841681,\n",
              "          0.        ,  2.0360288 ,  2.01281693,  0.        ,  2.22030922,\n",
              "          1.49361349,  1.8990786 ,  0.        ,  0.        ,  0.        ,\n",
              "          0.        ,  0.        ,  0.        ,  3.63576608,  0.        ,\n",
              "          0.        ,  1.82509253,  0.        ,  1.57907472,  2.2759463 ,\n",
              "          0.        ,  3.47431424,  0.        ,  0.        ,  0.        ,\n",
              "          0.        ,  2.60145958,  1.80469967,  0.        ,  1.75177727,\n",
              "          3.15567267,  4.28274874,  4.22892144,  0.        ,  1.80781009,\n",
              "          0.        ,  2.25868324,  0.        ,  4.27955555,  0.        ,\n",
              "          0.        ,  0.        ,  0.        ,  1.44476916,  2.42900091,\n",
              "          0.        ,  1.52951776,  0.        ,  0.        ,  0.        ,\n",
              "          0.        ,  0.        ,  0.        ,  2.42019591,  0.        ,\n",
              "          2.88737264,  2.26358521,  0.        ,  0.        ,  3.46562487,\n",
              "          1.85730143,  3.27028072,  1.73570679,  0.        ,  4.01400355,\n",
              "          0.        ,  0.        ,  0.        ,  2.77787161,  0.        ],\n",
              "        [ 0.        ,  5.19815025,  5.39289858,  0.        ,  0.        ,\n",
              "          0.        ,  0.        ,  0.        ,  0.        ,  1.84429312,\n",
              "          2.5293952 ,  3.4199086 ,  4.01419436,  0.        ,  0.        ,\n",
              "          0.        ,  2.70405389,  0.        ,  0.        ,  0.        ,\n",
              "          0.        ,  0.        ,  0.        ,  0.        ,  0.        ,\n",
              "          2.20861318,  1.6092657 ,  0.        ,  2.51349662,  0.        ,\n",
              "          0.        ,  2.59958428,  0.        ,  1.7576857 ,  0.        ,\n",
              "          0.        ,  0.        ,  0.        ,  0.        ,  1.47222832,\n",
              "          0.        ,  2.70787799, 31.66502907,  0.        ,  6.30209339,\n",
              "          5.29536204,  0.        ,  0.        ,  1.17402275,  1.75472712,\n",
              "          3.88892322,  3.0684918 ,  2.04388739, 10.10940115,  2.43175674,\n",
              "          1.74297955,  0.        ,  0.        ,  0.        ,  0.        ,\n",
              "          0.        ,  2.9641307 , 14.52248112,  0.        ,  0.        ,\n",
              "          0.        ,  0.        ,  0.        ,  2.43466795,  0.        ,\n",
              "          0.        ,  0.        ,  3.95041735,  0.        ,  2.92529086,\n",
              "          0.        ,  0.        ,  3.19315034,  0.        ,  0.        ,\n",
              "          0.        ,  0.        ,  2.2489508 ,  0.        ,  2.77114018,\n",
              "          0.        ,  3.20580061,  3.24942004,  0.        ,  0.        ,\n",
              "          2.13900035,  2.41161217, 12.48631951,  2.0597923 ,  0.        ,\n",
              "          0.        ,  0.        ,  5.37936195,  0.        ,  0.        ,\n",
              "          0.        ,  0.        ,  0.        ,  0.        ,  0.        ,\n",
              "          0.        ,  0.        ,  0.        ,  0.        ,  0.        ,\n",
              "          0.        ,  6.09330344,  0.        ,  0.        ,  0.        ,\n",
              "          0.        ,  0.        ,  0.        ,  0.        ,  3.08993334,\n",
              "          1.69592882,  0.        ,  0.        ,  2.71943881,  0.        ,\n",
              "         10.75560834,  0.        ,  0.        ,  2.3139737 ,  2.61841681,\n",
              "          0.        ,  2.0360288 ,  0.        ,  0.        ,  0.        ,\n",
              "          0.        ,  1.8990786 ,  0.        ,  0.        ,  0.        ,\n",
              "          0.        ,  1.53543143,  0.        ,  2.42384405,  0.        ,\n",
              "          0.        ,  0.        ,  0.        ,  1.57907472,  0.        ,\n",
              "          0.        ,  0.        ,  2.05180822,  2.20861318,  0.        ,\n",
              "          1.44260466,  1.30072979,  3.60939933,  0.        ,  1.75177727,\n",
              "          1.57783633,  1.42758291,  7.0482024 ,  0.        ,  3.61562018,\n",
              "          0.        ,  0.        ,  2.73113485,  1.42651852,  4.81753443,\n",
              "          0.        ,  0.        ,  0.        ,  1.44476916,  4.85800182,\n",
              "          2.30881905,  3.05903551,  0.        ,  1.6338306 ,  0.        ,\n",
              "          0.        ,  2.20861318,  2.37524452,  0.        ,  0.        ,\n",
              "         10.10580425,  0.        ,  0.        ,  0.        ,  3.46562487,\n",
              "          1.85730143,  3.27028072,  1.73570679,  0.        ,  5.35200473,\n",
              "          2.03212255,  0.        ,  0.        ,  2.77787161,  0.        ]])"
            ]
          },
          "metadata": {},
          "execution_count": 19
        }
      ]
    },
    {
      "cell_type": "markdown",
      "source": [
        "# Обучаем классификатор"
      ],
      "metadata": {
        "id": "MTdlAs_U_GXp"
      }
    },
    {
      "cell_type": "code",
      "source": [
        "clf = RandomForestClassifier(n_estimators=500, max_features='sqrt', max_depth=10)\n",
        "clf = clf.fit(train_X, train_y)\n",
        "\n",
        "pred = clf.predict(test_X)"
      ],
      "metadata": {
        "id": "CFPyOVy6-81D"
      },
      "execution_count": 20,
      "outputs": []
    },
    {
      "cell_type": "code",
      "source": [
        "print('Предсказанные метки: ', pred[0:20], \".....\")\n",
        "print('Истинные метки: ', test_y[0:20], \".....\")"
      ],
      "metadata": {
        "colab": {
          "base_uri": "https://localhost:8080/"
        },
        "id": "phuFOx0N_utr",
        "outputId": "b147247e-e84b-468f-dd20-ab1be4248437"
      },
      "execution_count": 21,
      "outputs": [
        {
          "output_type": "stream",
          "name": "stdout",
          "text": [
            "Предсказанные метки:  [1 0 1 0 0 1 1 0 1 1 1 0 1 0 1 1 0 0 1 1] .....\n",
            "Истинные метки:  [1, 0, 1, 0, 0, 1, 1, 0, 1, 1, 1, 0, 1, 0, 1, 1, 0, 0, 1, 1] .....\n"
          ]
        }
      ]
    },
    {
      "cell_type": "code",
      "source": [
        "def num2label(y):\n",
        "    \"\"\"\n",
        "    Функция для декодирования лейблов\n",
        "    \"\"\"\n",
        "    if y == 0:\n",
        "        return 'обеспечение гарантийных обязательств'\n",
        "    if y == 1:\n",
        "        return 'обеспечение исполнения контракта'"
      ],
      "metadata": {
        "id": "V_q6lRq7AMSs"
      },
      "execution_count": 22,
      "outputs": []
    },
    {
      "cell_type": "code",
      "source": [
        "decoded_pred = [num2label(y) for y in pred]\n",
        "decoded_test_y = [num2label(y) for y in test_y]\n",
        "\n",
        "print('Предсказанные метки: ', decoded_pred[0:4])\n",
        "print('Истинные метки: ', decoded_test_y [0:4])"
      ],
      "metadata": {
        "colab": {
          "base_uri": "https://localhost:8080/"
        },
        "id": "evEvqsVu_6kQ",
        "outputId": "c3038487-ce70-40b8-e69d-6e0f08faa87b"
      },
      "execution_count": 23,
      "outputs": [
        {
          "output_type": "stream",
          "name": "stdout",
          "text": [
            "Предсказанные метки:  ['обеспечение исполнения контракта', 'обеспечение гарантийных обязательств', 'обеспечение исполнения контракта', 'обеспечение гарантийных обязательств']\n",
            "Истинные метки:  ['обеспечение исполнения контракта', 'обеспечение гарантийных обязательств', 'обеспечение исполнения контракта', 'обеспечение гарантийных обязательств']\n"
          ]
        }
      ]
    },
    {
      "cell_type": "markdown",
      "source": [
        "Качество классификатора будем оценивать по метрике **accuracy**"
      ],
      "metadata": {
        "id": "SWeFpcmBBA9l"
      }
    },
    {
      "cell_type": "code",
      "source": [
        "print(accuracy_score(test_y, pred))"
      ],
      "metadata": {
        "colab": {
          "base_uri": "https://localhost:8080/"
        },
        "id": "M8cWaZE3BCfi",
        "outputId": "558eaeab-83e3-4e6c-f859-cb6ad36aa7fc"
      },
      "execution_count": 24,
      "outputs": [
        {
          "output_type": "stream",
          "name": "stdout",
          "text": [
            "0.9638888888888889\n"
          ]
        }
      ]
    },
    {
      "cell_type": "markdown",
      "source": [
        "Из любопытства взглянем на матрицу ошибок (**confusion_matrix**)"
      ],
      "metadata": {
        "id": "SyushBFbBsRF"
      }
    },
    {
      "cell_type": "code",
      "source": [
        "print(confusion_matrix(test_y, pred))"
      ],
      "metadata": {
        "colab": {
          "base_uri": "https://localhost:8080/"
        },
        "id": "LNeLoMluCF1P",
        "outputId": "6dcc238d-8398-406c-807d-88cc3cd950db"
      },
      "execution_count": 25,
      "outputs": [
        {
          "output_type": "stream",
          "name": "stdout",
          "text": [
            "[[156   6]\n",
            " [  7 191]]\n"
          ]
        }
      ]
    },
    {
      "cell_type": "markdown",
      "source": [
        "6 ошибок первого рода и 7 ошибок второго рода"
      ],
      "metadata": {
        "id": "NSK1NOXCCPq2"
      }
    },
    {
      "cell_type": "markdown",
      "source": [
        "Посмотрим на **roc_auc_score**"
      ],
      "metadata": {
        "id": "M6wg7ppaEa6D"
      }
    },
    {
      "cell_type": "code",
      "source": [
        "print(roc_auc_score(test_y, pred))"
      ],
      "metadata": {
        "colab": {
          "base_uri": "https://localhost:8080/"
        },
        "id": "CpDl0zwDEMp9",
        "outputId": "e5eee1df-14e6-4ba1-9c1d-0e3ad4deed78"
      },
      "execution_count": 26,
      "outputs": [
        {
          "output_type": "stream",
          "name": "stdout",
          "text": [
            "0.9638047138047138\n"
          ]
        }
      ]
    },
    {
      "cell_type": "markdown",
      "source": [
        "Сохраним модель"
      ],
      "metadata": {
        "id": "U2qDQJq_GalT"
      }
    },
    {
      "cell_type": "code",
      "source": [
        "with open(\"rf_clf.pkl\", \"wb\") as f:\n",
        "    pickle.dump(clf, f)"
      ],
      "metadata": {
        "id": "CVfYXebKGSnT"
      },
      "execution_count": 27,
      "outputs": []
    },
    {
      "cell_type": "markdown",
      "source": [
        "# Посмотрим на несколько примеров"
      ],
      "metadata": {
        "id": "1AQgUrKsYRkJ"
      }
    },
    {
      "cell_type": "code",
      "source": [
        "for i in range(10):\n",
        "    print('Истинный лейбл:',decoded_test_y[i])\n",
        "    print('Предсказанный лейбл:',decoded_pred[i])\n",
        "    print('Текст: ', train_texts[i][:100]+'...')\n",
        "    print('\\n')"
      ],
      "metadata": {
        "colab": {
          "base_uri": "https://localhost:8080/"
        },
        "id": "bRWc6Mj6YGpQ",
        "outputId": "cbef3615-bb15-4b14-883e-0901a2724290"
      },
      "execution_count": 28,
      "outputs": [
        {
          "output_type": "stream",
          "name": "stdout",
          "text": [
            "Истинный лейбл: обеспечение исполнения контракта\n",
            "Предсказанный лейбл: обеспечение исполнения контракта\n",
            "Текст:  приложение № 2 документация аукцион электронный форма проект договор договор № поставка товар « ____...\n",
            "\n",
            "\n",
            "Истинный лейбл: обеспечение гарантийных обязательств\n",
            "Предсказанный лейбл: обеспечение гарантийных обязательств\n",
            "Текст:  утверждать генеральный директор акционерный общество « объединить энергетический компания » быть про...\n",
            "\n",
            "\n",
            "Истинный лейбл: обеспечение исполнения контракта\n",
            "Предсказанный лейбл: обеспечение исполнения контракта\n",
            "Текст:  32 11 приложение № 3 аукционный документация договор поставка № г москва « ___ » ___________ 20__г с...\n",
            "\n",
            "\n",
            "Истинный лейбл: обеспечение гарантийных обязательств\n",
            "Предсказанный лейбл: обеспечение гарантийных обязательств\n",
            "Текст:  государственный контракт № _________ выполнение работа осуществление строительный контроль выполнени...\n",
            "\n",
            "\n",
            "Истинный лейбл: обеспечение гарантийных обязательств\n",
            "Предсказанный лейбл: обеспечение гарантийных обязательств\n",
            "Текст:  м кутверждать доканал )) васильев 2022г -? работа соответствие объём работа указаitный технический з...\n",
            "\n",
            "\n",
            "Истинный лейбл: обеспечение исполнения контракта\n",
            "Предсказанный лейбл: обеспечение исполнения контракта\n",
            "Текст:  ввести текст идентификационный код закупка 222631206192363120100100330036311244 проект контракт № __...\n",
            "\n",
            "\n",
            "Истинный лейбл: обеспечение исполнения контракта\n",
            "Предсказанный лейбл: обеспечение исполнения контракта\n",
            "Текст:  извещение проведение электронный аукцион закупка № 0163100005522000014 общий информация номер извеще...\n",
            "\n",
            "\n",
            "Истинный лейбл: обеспечение гарантийных обязательств\n",
            "Предсказанный лейбл: обеспечение гарантийных обязательств\n",
            "Текст:  извещение проведение электронный аукцион закупка № 0128200000122005069 общий информация номер извеще...\n",
            "\n",
            "\n",
            "Истинный лейбл: обеспечение исполнения контракта\n",
            "Предсказанный лейбл: обеспечение исполнения контракта\n",
            "Текст:  договор № ________ г москва « ___ » __________ 2022 г акционерный общество мосводоканал ао мосводока...\n",
            "\n",
            "\n",
            "Истинный лейбл: обеспечение исполнения контракта\n",
            "Предсказанный лейбл: обеспечение исполнения контракта\n",
            "Текст:  № п п информация открытый аукцион электронный форма 1 выписка реестр аккредитовать лицо аттестат акк...\n",
            "\n",
            "\n"
          ]
        }
      ]
    },
    {
      "cell_type": "markdown",
      "source": [
        "# LogisticRegression"
      ],
      "metadata": {
        "id": "HLGedjuCVi2f"
      }
    },
    {
      "cell_type": "code",
      "source": [
        "lr_clf = LogisticRegression(n_jobs=-1, random_state=42).fit(train_X, train_y)\n",
        "\n",
        "pred = lr_clf.predict(test_X)"
      ],
      "metadata": {
        "id": "knLXzn9TL7BY"
      },
      "execution_count": 29,
      "outputs": []
    },
    {
      "cell_type": "code",
      "source": [
        "def metrics(test_y, pred):\n",
        "  print(f'accuracy_score:\\n{accuracy_score(test_y, pred)}\\n')\n",
        "  print(f'confusion_matrix:\\n{confusion_matrix(test_y, pred)} \\n')\n",
        "  print(f'roc_auc_score:\\n{roc_auc_score(test_y, pred)}')"
      ],
      "metadata": {
        "id": "nuogbZxkTmbB"
      },
      "execution_count": 30,
      "outputs": []
    },
    {
      "cell_type": "code",
      "source": [
        "metrics(test_y, pred)"
      ],
      "metadata": {
        "colab": {
          "base_uri": "https://localhost:8080/"
        },
        "id": "tDWfbDPfWJtU",
        "outputId": "06a1f343-5f90-4085-bc97-f0f8ad556ed7"
      },
      "execution_count": 31,
      "outputs": [
        {
          "output_type": "stream",
          "name": "stdout",
          "text": [
            "accuracy_score:\n",
            "0.9222222222222223\n",
            "\n",
            "confusion_matrix:\n",
            "[[150  12]\n",
            " [ 16 182]] \n",
            "\n",
            "roc_auc_score:\n",
            "0.9225589225589225\n"
          ]
        }
      ]
    },
    {
      "cell_type": "markdown",
      "source": [
        "# LGBMClassifier"
      ],
      "metadata": {
        "id": "vqx65CCEaGgI"
      }
    },
    {
      "cell_type": "code",
      "source": [
        "parameters = {'n_estimators': [5, 10, 50, 100, 500],\n",
        "              'learning_rate': [0.0001, 0.001, 0.01, 0.1, 1.0],\n",
        "              'subsample' : [0.5, 0.7, 1.0],\n",
        "              'max_depth': [3, 5, 7, 9]}\n",
        "\n",
        "lgbm_clf = LGBMClassifier()\n",
        "lgbm = GridSearchCV(lgbm_clf, \n",
        "                  parameters,\n",
        "                  cv=3,\n",
        "                  n_jobs=-1,\n",
        "                  verbose=True,\n",
        "                  scoring='accuracy')\n",
        "\n",
        "lgbm.fit(train_X, train_y)\n",
        "pred = lgbm.predict(test_X)\n",
        "\n",
        "print('Best parameters: ', lgbm.best_params_)"
      ],
      "metadata": {
        "colab": {
          "base_uri": "https://localhost:8080/"
        },
        "id": "k0gnwAo7WxMz",
        "outputId": "70110dfa-7c00-47dd-bfa1-18cc8b766ca6"
      },
      "execution_count": 32,
      "outputs": [
        {
          "output_type": "stream",
          "name": "stdout",
          "text": [
            "Fitting 3 folds for each of 300 candidates, totalling 900 fits\n",
            "Best parameters:  {'learning_rate': 0.01, 'max_depth': 3, 'n_estimators': 500, 'subsample': 0.5}\n"
          ]
        }
      ]
    },
    {
      "cell_type": "code",
      "source": [
        "%%time\n",
        "lgbm = LGBMClassifier(learning_rate=0.01,\n",
        "                     max_depth=3,\n",
        "                     n_estimators=500,\n",
        "                     subsample=0.5)\n",
        "\n",
        "lgbm = lgbm.fit(train_X, train_y)\n",
        "\n",
        "pred = lgbm.predict(test_X)"
      ],
      "metadata": {
        "colab": {
          "base_uri": "https://localhost:8080/"
        },
        "id": "bEbPT-HgZjBH",
        "outputId": "df59caaa-d109-42dc-e619-8bdc0e70cf30"
      },
      "execution_count": 33,
      "outputs": [
        {
          "output_type": "stream",
          "name": "stdout",
          "text": [
            "CPU times: user 606 ms, sys: 8.82 ms, total: 615 ms\n",
            "Wall time: 320 ms\n"
          ]
        }
      ]
    },
    {
      "cell_type": "code",
      "source": [
        "metrics(test_y, pred)"
      ],
      "metadata": {
        "colab": {
          "base_uri": "https://localhost:8080/"
        },
        "id": "dzVWRc6vZ-6O",
        "outputId": "53205970-5231-4f13-b0b3-86521cdd04d5"
      },
      "execution_count": 34,
      "outputs": [
        {
          "output_type": "stream",
          "name": "stdout",
          "text": [
            "accuracy_score:\n",
            "0.95\n",
            "\n",
            "confusion_matrix:\n",
            "[[155   7]\n",
            " [ 11 187]] \n",
            "\n",
            "roc_auc_score:\n",
            "0.9506172839506173\n"
          ]
        }
      ]
    },
    {
      "cell_type": "code",
      "source": [
        "test_df = pd.read_json('test.json')\n",
        "test_df.head(3)"
      ],
      "metadata": {
        "colab": {
          "base_uri": "https://localhost:8080/",
          "height": 142
        },
        "id": "u8VosLqTP04G",
        "outputId": "9920b565-6eb9-4b51-9238-4a181ec820d9"
      },
      "execution_count": 36,
      "outputs": [
        {
          "output_type": "execute_result",
          "data": {
            "text/plain": [
              "          id                                               text  \\\n",
              "0  762883279  МУНИЦИПАЛЬНЫЙ КОНТРАКТ № ______ на оказание ус...   \n",
              "1  311837655  Извещение о проведении электронного аукциона д...   \n",
              "2  540954893  Идентификационный код закупки: 222633005300163...   \n",
              "\n",
              "                              label  \n",
              "0  обеспечение исполнения контракта  \n",
              "1  обеспечение исполнения контракта  \n",
              "2  обеспечение исполнения контракта  "
            ],
            "text/html": [
              "\n",
              "  <div id=\"df-758172d1-4065-4444-a0e6-364387c11537\">\n",
              "    <div class=\"colab-df-container\">\n",
              "      <div>\n",
              "<style scoped>\n",
              "    .dataframe tbody tr th:only-of-type {\n",
              "        vertical-align: middle;\n",
              "    }\n",
              "\n",
              "    .dataframe tbody tr th {\n",
              "        vertical-align: top;\n",
              "    }\n",
              "\n",
              "    .dataframe thead th {\n",
              "        text-align: right;\n",
              "    }\n",
              "</style>\n",
              "<table border=\"1\" class=\"dataframe\">\n",
              "  <thead>\n",
              "    <tr style=\"text-align: right;\">\n",
              "      <th></th>\n",
              "      <th>id</th>\n",
              "      <th>text</th>\n",
              "      <th>label</th>\n",
              "    </tr>\n",
              "  </thead>\n",
              "  <tbody>\n",
              "    <tr>\n",
              "      <th>0</th>\n",
              "      <td>762883279</td>\n",
              "      <td>МУНИЦИПАЛЬНЫЙ КОНТРАКТ № ______ на оказание ус...</td>\n",
              "      <td>обеспечение исполнения контракта</td>\n",
              "    </tr>\n",
              "    <tr>\n",
              "      <th>1</th>\n",
              "      <td>311837655</td>\n",
              "      <td>Извещение о проведении электронного аукциона д...</td>\n",
              "      <td>обеспечение исполнения контракта</td>\n",
              "    </tr>\n",
              "    <tr>\n",
              "      <th>2</th>\n",
              "      <td>540954893</td>\n",
              "      <td>Идентификационный код закупки: 222633005300163...</td>\n",
              "      <td>обеспечение исполнения контракта</td>\n",
              "    </tr>\n",
              "  </tbody>\n",
              "</table>\n",
              "</div>\n",
              "      <button class=\"colab-df-convert\" onclick=\"convertToInteractive('df-758172d1-4065-4444-a0e6-364387c11537')\"\n",
              "              title=\"Convert this dataframe to an interactive table.\"\n",
              "              style=\"display:none;\">\n",
              "        \n",
              "  <svg xmlns=\"http://www.w3.org/2000/svg\" height=\"24px\"viewBox=\"0 0 24 24\"\n",
              "       width=\"24px\">\n",
              "    <path d=\"M0 0h24v24H0V0z\" fill=\"none\"/>\n",
              "    <path d=\"M18.56 5.44l.94 2.06.94-2.06 2.06-.94-2.06-.94-.94-2.06-.94 2.06-2.06.94zm-11 1L8.5 8.5l.94-2.06 2.06-.94-2.06-.94L8.5 2.5l-.94 2.06-2.06.94zm10 10l.94 2.06.94-2.06 2.06-.94-2.06-.94-.94-2.06-.94 2.06-2.06.94z\"/><path d=\"M17.41 7.96l-1.37-1.37c-.4-.4-.92-.59-1.43-.59-.52 0-1.04.2-1.43.59L10.3 9.45l-7.72 7.72c-.78.78-.78 2.05 0 2.83L4 21.41c.39.39.9.59 1.41.59.51 0 1.02-.2 1.41-.59l7.78-7.78 2.81-2.81c.8-.78.8-2.07 0-2.86zM5.41 20L4 18.59l7.72-7.72 1.47 1.35L5.41 20z\"/>\n",
              "  </svg>\n",
              "      </button>\n",
              "      \n",
              "  <style>\n",
              "    .colab-df-container {\n",
              "      display:flex;\n",
              "      flex-wrap:wrap;\n",
              "      gap: 12px;\n",
              "    }\n",
              "\n",
              "    .colab-df-convert {\n",
              "      background-color: #E8F0FE;\n",
              "      border: none;\n",
              "      border-radius: 50%;\n",
              "      cursor: pointer;\n",
              "      display: none;\n",
              "      fill: #1967D2;\n",
              "      height: 32px;\n",
              "      padding: 0 0 0 0;\n",
              "      width: 32px;\n",
              "    }\n",
              "\n",
              "    .colab-df-convert:hover {\n",
              "      background-color: #E2EBFA;\n",
              "      box-shadow: 0px 1px 2px rgba(60, 64, 67, 0.3), 0px 1px 3px 1px rgba(60, 64, 67, 0.15);\n",
              "      fill: #174EA6;\n",
              "    }\n",
              "\n",
              "    [theme=dark] .colab-df-convert {\n",
              "      background-color: #3B4455;\n",
              "      fill: #D2E3FC;\n",
              "    }\n",
              "\n",
              "    [theme=dark] .colab-df-convert:hover {\n",
              "      background-color: #434B5C;\n",
              "      box-shadow: 0px 1px 3px 1px rgba(0, 0, 0, 0.15);\n",
              "      filter: drop-shadow(0px 1px 2px rgba(0, 0, 0, 0.3));\n",
              "      fill: #FFFFFF;\n",
              "    }\n",
              "  </style>\n",
              "\n",
              "      <script>\n",
              "        const buttonEl =\n",
              "          document.querySelector('#df-758172d1-4065-4444-a0e6-364387c11537 button.colab-df-convert');\n",
              "        buttonEl.style.display =\n",
              "          google.colab.kernel.accessAllowed ? 'block' : 'none';\n",
              "\n",
              "        async function convertToInteractive(key) {\n",
              "          const element = document.querySelector('#df-758172d1-4065-4444-a0e6-364387c11537');\n",
              "          const dataTable =\n",
              "            await google.colab.kernel.invokeFunction('convertToInteractive',\n",
              "                                                     [key], {});\n",
              "          if (!dataTable) return;\n",
              "\n",
              "          const docLinkHtml = 'Like what you see? Visit the ' +\n",
              "            '<a target=\"_blank\" href=https://colab.research.google.com/notebooks/data_table.ipynb>data table notebook</a>'\n",
              "            + ' to learn more about interactive tables.';\n",
              "          element.innerHTML = '';\n",
              "          dataTable['output_type'] = 'display_data';\n",
              "          await google.colab.output.renderOutput(dataTable, element);\n",
              "          const docLink = document.createElement('div');\n",
              "          docLink.innerHTML = docLinkHtml;\n",
              "          element.appendChild(docLink);\n",
              "        }\n",
              "      </script>\n",
              "    </div>\n",
              "  </div>\n",
              "  "
            ]
          },
          "metadata": {},
          "execution_count": 36
        }
      ]
    }
  ]
}