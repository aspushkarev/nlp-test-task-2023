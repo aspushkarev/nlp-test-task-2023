{
  "nbformat": 4,
  "nbformat_minor": 0,
  "metadata": {
    "colab": {
      "provenance": []
    },
    "kernelspec": {
      "name": "python3",
      "display_name": "Python 3"
    },
    "language_info": {
      "name": "python"
    },
    "widgets": {
      "application/vnd.jupyter.widget-state+json": {
        "ff2dceac5f01427a85d91a74a0caf7a8": {
          "model_module": "@jupyter-widgets/controls",
          "model_name": "HBoxModel",
          "model_module_version": "1.5.0",
          "state": {
            "_dom_classes": [],
            "_model_module": "@jupyter-widgets/controls",
            "_model_module_version": "1.5.0",
            "_model_name": "HBoxModel",
            "_view_count": null,
            "_view_module": "@jupyter-widgets/controls",
            "_view_module_version": "1.5.0",
            "_view_name": "HBoxView",
            "box_style": "",
            "children": [
              "IPY_MODEL_5d4a7fc0df3149e399963ce3f4136bee",
              "IPY_MODEL_ddc1b454a6cc46f2b45c44883570d9c5",
              "IPY_MODEL_35ca59de491f45349325e064f01da5ba"
            ],
            "layout": "IPY_MODEL_392ca58413b841dca4ce59286b8f9047"
          }
        },
        "5d4a7fc0df3149e399963ce3f4136bee": {
          "model_module": "@jupyter-widgets/controls",
          "model_name": "HTMLModel",
          "model_module_version": "1.5.0",
          "state": {
            "_dom_classes": [],
            "_model_module": "@jupyter-widgets/controls",
            "_model_module_version": "1.5.0",
            "_model_name": "HTMLModel",
            "_view_count": null,
            "_view_module": "@jupyter-widgets/controls",
            "_view_module_version": "1.5.0",
            "_view_name": "HTMLView",
            "description": "",
            "description_tooltip": null,
            "layout": "IPY_MODEL_efb5736357b64d8193fb402bcbead86d",
            "placeholder": "​",
            "style": "IPY_MODEL_36f3fb0cd60040069aa39ab69fc186d7",
            "value": "100%"
          }
        },
        "ddc1b454a6cc46f2b45c44883570d9c5": {
          "model_module": "@jupyter-widgets/controls",
          "model_name": "FloatProgressModel",
          "model_module_version": "1.5.0",
          "state": {
            "_dom_classes": [],
            "_model_module": "@jupyter-widgets/controls",
            "_model_module_version": "1.5.0",
            "_model_name": "FloatProgressModel",
            "_view_count": null,
            "_view_module": "@jupyter-widgets/controls",
            "_view_module_version": "1.5.0",
            "_view_name": "ProgressView",
            "bar_style": "success",
            "description": "",
            "description_tooltip": null,
            "layout": "IPY_MODEL_7a5d677803ed4167b95dc4f78a8a5780",
            "max": 1799,
            "min": 0,
            "orientation": "horizontal",
            "style": "IPY_MODEL_88486c6b850b482ebce80f7c2001a2b1",
            "value": 1799
          }
        },
        "35ca59de491f45349325e064f01da5ba": {
          "model_module": "@jupyter-widgets/controls",
          "model_name": "HTMLModel",
          "model_module_version": "1.5.0",
          "state": {
            "_dom_classes": [],
            "_model_module": "@jupyter-widgets/controls",
            "_model_module_version": "1.5.0",
            "_model_name": "HTMLModel",
            "_view_count": null,
            "_view_module": "@jupyter-widgets/controls",
            "_view_module_version": "1.5.0",
            "_view_name": "HTMLView",
            "description": "",
            "description_tooltip": null,
            "layout": "IPY_MODEL_70bd29a5c9524bb5b9f6789b5bae787d",
            "placeholder": "​",
            "style": "IPY_MODEL_fccf487e354c49d6ab4893ceab6c9fd7",
            "value": " 1799/1799 [01:22&lt;00:00, 35.10it/s]"
          }
        },
        "392ca58413b841dca4ce59286b8f9047": {
          "model_module": "@jupyter-widgets/base",
          "model_name": "LayoutModel",
          "model_module_version": "1.2.0",
          "state": {
            "_model_module": "@jupyter-widgets/base",
            "_model_module_version": "1.2.0",
            "_model_name": "LayoutModel",
            "_view_count": null,
            "_view_module": "@jupyter-widgets/base",
            "_view_module_version": "1.2.0",
            "_view_name": "LayoutView",
            "align_content": null,
            "align_items": null,
            "align_self": null,
            "border": null,
            "bottom": null,
            "display": null,
            "flex": null,
            "flex_flow": null,
            "grid_area": null,
            "grid_auto_columns": null,
            "grid_auto_flow": null,
            "grid_auto_rows": null,
            "grid_column": null,
            "grid_gap": null,
            "grid_row": null,
            "grid_template_areas": null,
            "grid_template_columns": null,
            "grid_template_rows": null,
            "height": null,
            "justify_content": null,
            "justify_items": null,
            "left": null,
            "margin": null,
            "max_height": null,
            "max_width": null,
            "min_height": null,
            "min_width": null,
            "object_fit": null,
            "object_position": null,
            "order": null,
            "overflow": null,
            "overflow_x": null,
            "overflow_y": null,
            "padding": null,
            "right": null,
            "top": null,
            "visibility": null,
            "width": null
          }
        },
        "efb5736357b64d8193fb402bcbead86d": {
          "model_module": "@jupyter-widgets/base",
          "model_name": "LayoutModel",
          "model_module_version": "1.2.0",
          "state": {
            "_model_module": "@jupyter-widgets/base",
            "_model_module_version": "1.2.0",
            "_model_name": "LayoutModel",
            "_view_count": null,
            "_view_module": "@jupyter-widgets/base",
            "_view_module_version": "1.2.0",
            "_view_name": "LayoutView",
            "align_content": null,
            "align_items": null,
            "align_self": null,
            "border": null,
            "bottom": null,
            "display": null,
            "flex": null,
            "flex_flow": null,
            "grid_area": null,
            "grid_auto_columns": null,
            "grid_auto_flow": null,
            "grid_auto_rows": null,
            "grid_column": null,
            "grid_gap": null,
            "grid_row": null,
            "grid_template_areas": null,
            "grid_template_columns": null,
            "grid_template_rows": null,
            "height": null,
            "justify_content": null,
            "justify_items": null,
            "left": null,
            "margin": null,
            "max_height": null,
            "max_width": null,
            "min_height": null,
            "min_width": null,
            "object_fit": null,
            "object_position": null,
            "order": null,
            "overflow": null,
            "overflow_x": null,
            "overflow_y": null,
            "padding": null,
            "right": null,
            "top": null,
            "visibility": null,
            "width": null
          }
        },
        "36f3fb0cd60040069aa39ab69fc186d7": {
          "model_module": "@jupyter-widgets/controls",
          "model_name": "DescriptionStyleModel",
          "model_module_version": "1.5.0",
          "state": {
            "_model_module": "@jupyter-widgets/controls",
            "_model_module_version": "1.5.0",
            "_model_name": "DescriptionStyleModel",
            "_view_count": null,
            "_view_module": "@jupyter-widgets/base",
            "_view_module_version": "1.2.0",
            "_view_name": "StyleView",
            "description_width": ""
          }
        },
        "7a5d677803ed4167b95dc4f78a8a5780": {
          "model_module": "@jupyter-widgets/base",
          "model_name": "LayoutModel",
          "model_module_version": "1.2.0",
          "state": {
            "_model_module": "@jupyter-widgets/base",
            "_model_module_version": "1.2.0",
            "_model_name": "LayoutModel",
            "_view_count": null,
            "_view_module": "@jupyter-widgets/base",
            "_view_module_version": "1.2.0",
            "_view_name": "LayoutView",
            "align_content": null,
            "align_items": null,
            "align_self": null,
            "border": null,
            "bottom": null,
            "display": null,
            "flex": null,
            "flex_flow": null,
            "grid_area": null,
            "grid_auto_columns": null,
            "grid_auto_flow": null,
            "grid_auto_rows": null,
            "grid_column": null,
            "grid_gap": null,
            "grid_row": null,
            "grid_template_areas": null,
            "grid_template_columns": null,
            "grid_template_rows": null,
            "height": null,
            "justify_content": null,
            "justify_items": null,
            "left": null,
            "margin": null,
            "max_height": null,
            "max_width": null,
            "min_height": null,
            "min_width": null,
            "object_fit": null,
            "object_position": null,
            "order": null,
            "overflow": null,
            "overflow_x": null,
            "overflow_y": null,
            "padding": null,
            "right": null,
            "top": null,
            "visibility": null,
            "width": null
          }
        },
        "88486c6b850b482ebce80f7c2001a2b1": {
          "model_module": "@jupyter-widgets/controls",
          "model_name": "ProgressStyleModel",
          "model_module_version": "1.5.0",
          "state": {
            "_model_module": "@jupyter-widgets/controls",
            "_model_module_version": "1.5.0",
            "_model_name": "ProgressStyleModel",
            "_view_count": null,
            "_view_module": "@jupyter-widgets/base",
            "_view_module_version": "1.2.0",
            "_view_name": "StyleView",
            "bar_color": null,
            "description_width": ""
          }
        },
        "70bd29a5c9524bb5b9f6789b5bae787d": {
          "model_module": "@jupyter-widgets/base",
          "model_name": "LayoutModel",
          "model_module_version": "1.2.0",
          "state": {
            "_model_module": "@jupyter-widgets/base",
            "_model_module_version": "1.2.0",
            "_model_name": "LayoutModel",
            "_view_count": null,
            "_view_module": "@jupyter-widgets/base",
            "_view_module_version": "1.2.0",
            "_view_name": "LayoutView",
            "align_content": null,
            "align_items": null,
            "align_self": null,
            "border": null,
            "bottom": null,
            "display": null,
            "flex": null,
            "flex_flow": null,
            "grid_area": null,
            "grid_auto_columns": null,
            "grid_auto_flow": null,
            "grid_auto_rows": null,
            "grid_column": null,
            "grid_gap": null,
            "grid_row": null,
            "grid_template_areas": null,
            "grid_template_columns": null,
            "grid_template_rows": null,
            "height": null,
            "justify_content": null,
            "justify_items": null,
            "left": null,
            "margin": null,
            "max_height": null,
            "max_width": null,
            "min_height": null,
            "min_width": null,
            "object_fit": null,
            "object_position": null,
            "order": null,
            "overflow": null,
            "overflow_x": null,
            "overflow_y": null,
            "padding": null,
            "right": null,
            "top": null,
            "visibility": null,
            "width": null
          }
        },
        "fccf487e354c49d6ab4893ceab6c9fd7": {
          "model_module": "@jupyter-widgets/controls",
          "model_name": "DescriptionStyleModel",
          "model_module_version": "1.5.0",
          "state": {
            "_model_module": "@jupyter-widgets/controls",
            "_model_module_version": "1.5.0",
            "_model_name": "DescriptionStyleModel",
            "_view_count": null,
            "_view_module": "@jupyter-widgets/base",
            "_view_module_version": "1.2.0",
            "_view_name": "StyleView",
            "description_width": ""
          }
        }
      }
    }
  },
  "cells": [
    {
      "cell_type": "code",
      "source": [
        "!pip install pymorphy2"
      ],
      "metadata": {
        "id": "lJnH0kfr0EIC"
      },
      "execution_count": null,
      "outputs": []
    },
    {
      "cell_type": "code",
      "execution_count": 52,
      "metadata": {
        "id": "TsLJMaDLEz0K"
      },
      "outputs": [],
      "source": [
        "import matplotlib.pyplot as plt\n",
        "import numpy as np\n",
        "import pandas as pd\n",
        "import json\n",
        "\n",
        "import string\n",
        "import nltk\n",
        "import pymorphy2\n",
        "\n",
        "from sklearn.model_selection import train_test_split\n",
        "from sklearn.feature_extraction.text import TfidfVectorizer\n",
        "from numpy.lib.function_base import vectorize\n",
        "from sklearn.ensemble import RandomForestClassifier\n",
        "\n",
        "from tqdm import tqdm_notebook\n",
        "from sklearn.metrics import accuracy_score, confusion_matrix, roc_auc_score\n",
        "\n",
        "import pickle\n",
        "\n",
        "import warnings\n",
        "warnings.filterwarnings(\"ignore\")\n",
        "%matplotlib inline"
      ]
    },
    {
      "cell_type": "markdown",
      "source": [
        "# 1. Загрузка данных"
      ],
      "metadata": {
        "id": "pFS30YrF1VKU"
      }
    },
    {
      "cell_type": "code",
      "source": [
        "with open('train.json', encoding = 'utf-8') as json_file:\n",
        "    data = json.load(json_file)"
      ],
      "metadata": {
        "id": "VViJXwE0FAwt"
      },
      "execution_count": 3,
      "outputs": []
    },
    {
      "cell_type": "markdown",
      "source": [
        "Будем решать задачу классификации на 2 класса"
      ],
      "metadata": {
        "id": "aTkjCWmO1RUC"
      }
    },
    {
      "cell_type": "code",
      "source": [
        "print(set([x[\"label\"] for x in data]))"
      ],
      "metadata": {
        "colab": {
          "base_uri": "https://localhost:8080/"
        },
        "id": "wn1r46_CHp2Z",
        "outputId": "d7336551-961f-465a-f5e8-ca4d905acb89"
      },
      "execution_count": 5,
      "outputs": [
        {
          "output_type": "stream",
          "name": "stdout",
          "text": [
            "{'обеспечение гарантийных обязательств', 'обеспечение исполнения контракта'}\n"
          ]
        }
      ]
    },
    {
      "cell_type": "markdown",
      "source": [
        "# 2. Предобработка и токенизация"
      ],
      "metadata": {
        "id": "7RUE54YSbNNS"
      }
    },
    {
      "cell_type": "code",
      "source": [
        "# загружаем список стоп-слов для русского\n",
        "nltk.download('stopwords')\n",
        "stop_words = nltk.corpus.stopwords.words('russian')\n",
        "\n",
        "# Посмотрим на стоп-слова\n",
        "stop_words[:10]"
      ],
      "metadata": {
        "colab": {
          "base_uri": "https://localhost:8080/"
        },
        "id": "JX9wW4e1SNY8",
        "outputId": "8201c8b4-9d67-4288-eb4f-fc84c3b3e192"
      },
      "execution_count": 8,
      "outputs": [
        {
          "output_type": "stream",
          "name": "stderr",
          "text": [
            "[nltk_data] Downloading package stopwords to /root/nltk_data...\n",
            "[nltk_data]   Unzipping corpora/stopwords.zip.\n"
          ]
        },
        {
          "output_type": "execute_result",
          "data": {
            "text/plain": [
              "['и', 'в', 'во', 'не', 'что', 'он', 'на', 'я', 'с', 'со']"
            ]
          },
          "metadata": {},
          "execution_count": 8
        }
      ]
    },
    {
      "cell_type": "code",
      "source": [
        "# знаки препинания\n",
        "string.punctuation"
      ],
      "metadata": {
        "id": "zysNMP63ScEZ",
        "colab": {
          "base_uri": "https://localhost:8080/",
          "height": 35
        },
        "outputId": "ad8f0474-27e9-4546-8d82-ae0032c16bf0"
      },
      "execution_count": 9,
      "outputs": [
        {
          "output_type": "execute_result",
          "data": {
            "text/plain": [
              "'!\"#$%&\\'()*+,-./:;<=>?@[\\\\]^_`{|}~'"
            ],
            "application/vnd.google.colaboratory.intrinsic+json": {
              "type": "string"
            }
          },
          "metadata": {},
          "execution_count": 9
        }
      ]
    },
    {
      "cell_type": "markdown",
      "source": [
        "Инициализируем WordPunctTokenizer, с помощью которого затем разобьём текст на слова"
      ],
      "metadata": {
        "id": "t34SUgvB2OOc"
      }
    },
    {
      "cell_type": "code",
      "source": [
        "word_tokenizer = nltk.WordPunctTokenizer()"
      ],
      "metadata": {
        "id": "3cAZx5j82JOK"
      },
      "execution_count": 10,
      "outputs": []
    },
    {
      "cell_type": "code",
      "source": [
        "dates = [str(x) for x in np.arange(1900, 2022)]\n",
        "\n",
        "def process_data(data):\n",
        "    \"\"\"\n",
        "    Предобработка текста\n",
        "    \"\"\"\n",
        "    texts = []\n",
        "    targets = []\n",
        "    \n",
        "    # поочередно проходим по всем словам в списке\n",
        "    for item in data:\n",
        "               \n",
        "        text_lower = item['text'].lower() # приводим все слова к нижнему регистру\n",
        "        tokens     = word_tokenizer.tokenize(text_lower) # разбиваем текст на слова\n",
        "        \n",
        "        # удаляем пунктуацию и стоп-слова\n",
        "        tokens = [word for word in tokens if (word not in string.punctuation and word not in stop_words and word not in dates)]\n",
        "        \n",
        "        texts.append(tokens) # добавляем в предобработанный список\n",
        "    \n",
        "    return texts"
      ],
      "metadata": {
        "id": "hUa7Pqx12REm"
      },
      "execution_count": 11,
      "outputs": []
    },
    {
      "cell_type": "code",
      "source": [
        "# запускаем нашу предобработку\n",
        "%%time\n",
        "y = [item['label'] for item in data]\n",
        "texts = process_data(data)"
      ],
      "metadata": {
        "colab": {
          "base_uri": "https://localhost:8080/"
        },
        "id": "s0R0Rv-721Qn",
        "outputId": "6fc44a03-4a3e-4750-910a-3b5daa513ce8"
      },
      "execution_count": 13,
      "outputs": [
        {
          "output_type": "stream",
          "name": "stdout",
          "text": [
            "CPU times: user 1.64 s, sys: 20.3 ms, total: 1.66 s\n",
            "Wall time: 1.71 s\n"
          ]
        }
      ]
    },
    {
      "cell_type": "markdown",
      "source": [
        "Теперь каждый пример представлен списком слов. Причем все слова с прописной буквы. Пунктуацию и стоп-слова мы удалили"
      ],
      "metadata": {
        "id": "SlQ-1k2J3cuf"
      }
    },
    {
      "cell_type": "code",
      "source": [
        "i = 159\n",
        "print(\"Label: \", y[i])\n",
        "print(\"Tokens: \", texts[i][:5])"
      ],
      "metadata": {
        "colab": {
          "base_uri": "https://localhost:8080/"
        },
        "id": "Gf6t2nUg3WuZ",
        "outputId": "04ac7068-c187-456d-cf1a-aff5de509f0b"
      },
      "execution_count": 17,
      "outputs": [
        {
          "output_type": "stream",
          "name": "stdout",
          "text": [
            "Label:  обеспечение исполнения контракта\n",
            "Tokens:  ['приложение', '№', '4', 'извещению', 'осуществлении']\n"
          ]
        }
      ]
    },
    {
      "cell_type": "markdown",
      "source": [
        "# 3. Нормализация слов"
      ],
      "metadata": {
        "id": "GaGgIaHB4TjQ"
      }
    },
    {
      "cell_type": "code",
      "source": [
        "morph = pymorphy2.MorphAnalyzer()"
      ],
      "metadata": {
        "id": "H4YkTb-m4Zhj"
      },
      "execution_count": 19,
      "outputs": []
    },
    {
      "cell_type": "markdown",
      "source": [
        "Взглянем что получается"
      ],
      "metadata": {
        "id": "w6c3mgFy49DE"
      }
    },
    {
      "cell_type": "code",
      "source": [
        "i = 1\n",
        "for aword in texts[i][:10]:\n",
        "    aword_norm = morph.parse(aword)[0].normal_form\n",
        "    print(\"Исходное слово: %s.\\tЛемматизированное: %s\" % (aword, aword_norm))"
      ],
      "metadata": {
        "colab": {
          "base_uri": "https://localhost:8080/"
        },
        "id": "aG0s_cGW43_I",
        "outputId": "1c158b97-a681-45a5-c2bb-b052f016a285"
      },
      "execution_count": 20,
      "outputs": [
        {
          "output_type": "stream",
          "name": "stdout",
          "text": [
            "Исходное слово: требования.\tЛемматизированное: требование\n",
            "Исходное слово: содержанию.\tЛемматизированное: содержание\n",
            "Исходное слово: заявки.\tЛемматизированное: заявка\n",
            "Исходное слово: участника.\tЛемматизированное: участник\n",
            "Исходное слово: запроса.\tЛемматизированное: запрос\n",
            "Исходное слово: котировок.\tЛемматизированное: котировка\n",
            "Исходное слово: электронной.\tЛемматизированное: электронный\n",
            "Исходное слово: форме.\tЛемматизированное: форма\n",
            "Исходное слово: заявка.\tЛемматизированное: заявка\n",
            "Исходное слово: участие.\tЛемматизированное: участие\n"
          ]
        }
      ]
    },
    {
      "cell_type": "markdown",
      "source": [
        "Отлично, теперь применим лемматизацию ко всему документу"
      ],
      "metadata": {
        "id": "6Y7_xaFt5ccR"
      }
    },
    {
      "cell_type": "code",
      "source": [
        "for i in tqdm_notebook(range(len(texts))):\n",
        "    text_lemmatized = [morph.parse(x)[0].normal_form for x in texts[i]]\n",
        "    texts[i] = ' '.join(text_lemmatized) "
      ],
      "metadata": {
        "colab": {
          "base_uri": "https://localhost:8080/",
          "height": 49,
          "referenced_widgets": [
            "ff2dceac5f01427a85d91a74a0caf7a8",
            "5d4a7fc0df3149e399963ce3f4136bee",
            "ddc1b454a6cc46f2b45c44883570d9c5",
            "35ca59de491f45349325e064f01da5ba",
            "392ca58413b841dca4ce59286b8f9047",
            "efb5736357b64d8193fb402bcbead86d",
            "36f3fb0cd60040069aa39ab69fc186d7",
            "7a5d677803ed4167b95dc4f78a8a5780",
            "88486c6b850b482ebce80f7c2001a2b1",
            "70bd29a5c9524bb5b9f6789b5bae787d",
            "fccf487e354c49d6ab4893ceab6c9fd7"
          ]
        },
        "id": "NmgbPANC5IhK",
        "outputId": "e8a78410-657f-4cfe-d3b8-ab6ab18d7bc6"
      },
      "execution_count": 22,
      "outputs": [
        {
          "output_type": "display_data",
          "data": {
            "text/plain": [
              "  0%|          | 0/1799 [00:00<?, ?it/s]"
            ],
            "application/vnd.jupyter.widget-view+json": {
              "version_major": 2,
              "version_minor": 0,
              "model_id": "ff2dceac5f01427a85d91a74a0caf7a8"
            }
          },
          "metadata": {}
        }
      ]
    },
    {
      "cell_type": "markdown",
      "source": [
        "# 4. Моделирование и векторные представления"
      ],
      "metadata": {
        "id": "V7oPP6OR55qn"
      }
    },
    {
      "cell_type": "markdown",
      "source": [
        "Лейблы у нас закодированы словами. Для корректной работы алгоритма конвертируем их в числа\n",
        "\n",
        "('обеспечение гарантийных обязательств', 'обеспечение исполнения контракта'):\n",
        "\n",
        "```\n",
        "обеспечение гарантийных обязательств = 0\n",
        "обеспечение исполнения контракта = 1\n",
        "\n",
        "```"
      ],
      "metadata": {
        "id": "3SkhcNs-7AO0"
      }
    },
    {
      "cell_type": "code",
      "source": [
        "def label2num(y):\n",
        "    \"\"\"\n",
        "    Функция для кодирования лейблов\n",
        "    \"\"\"\n",
        "    if y == 'обеспечение гарантийных обязательств':\n",
        "        return 0\n",
        "    if y ==  'обеспечение исполнения контракта':\n",
        "        return 1\n",
        "\n",
        "encoded_y = [label2num(label) for label in y]"
      ],
      "metadata": {
        "id": "aiuGp2o85_N2"
      },
      "execution_count": 26,
      "outputs": []
    },
    {
      "cell_type": "markdown",
      "source": [
        "Разобъём на train и test"
      ],
      "metadata": {
        "id": "mwgKsfW06p6A"
      }
    },
    {
      "cell_type": "code",
      "source": [
        "train_texts, test_texts, train_y, test_y = train_test_split(texts, encoded_y, test_size=0.2, random_state=42, stratify=y)"
      ],
      "metadata": {
        "id": "_VmST3a58se0"
      },
      "execution_count": 25,
      "outputs": []
    },
    {
      "cell_type": "markdown",
      "source": [
        "# TF-IDF"
      ],
      "metadata": {
        "id": "ccuoqZBr891f"
      }
    },
    {
      "cell_type": "code",
      "source": [
        "vectorizer = TfidfVectorizer(max_features=200, norm = None) # возмем топ 200 слов\n",
        "vectorizer.fit(train_texts)\n",
        "\n",
        "# Топ-10 слов\n",
        "vectorizer.get_feature_names_out()[:20]"
      ],
      "metadata": {
        "colab": {
          "base_uri": "https://localhost:8080/"
        },
        "id": "ky2xBc-M8-_P",
        "outputId": "2e5ececf-8aca-4af5-8469-89d89d769083"
      },
      "execution_count": 33,
      "outputs": [
        {
          "output_type": "execute_result",
          "data": {
            "text/plain": [
              "array(['00', '04', '05', '10', '11', '12', '13', '14', '16', '2022', '30',\n",
              "       '44', '45', '95', '96', '___', '____', 'аванс', 'адрес', 'акт'],\n",
              "      dtype=object)"
            ]
          },
          "metadata": {},
          "execution_count": 33
        }
      ]
    },
    {
      "cell_type": "code",
      "source": [
        "train_X = vectorizer.fit_transform(train_texts)\n",
        "test_X  = vectorizer.transform(test_texts)"
      ],
      "metadata": {
        "id": "rzLdYX8m-o8y"
      },
      "execution_count": 34,
      "outputs": []
    },
    {
      "cell_type": "markdown",
      "source": [
        "Посмотрим что получается в первых двух строчках"
      ],
      "metadata": {
        "id": "ZMXk-Dd-NeKg"
      }
    },
    {
      "cell_type": "code",
      "source": [
        "train_X.todense()[:2]"
      ],
      "metadata": {
        "colab": {
          "base_uri": "https://localhost:8080/"
        },
        "id": "t91rNX-3-yHJ",
        "outputId": "4f937081-61cc-4f99-996b-c2903aa35bc0"
      },
      "execution_count": 35,
      "outputs": [
        {
          "output_type": "execute_result",
          "data": {
            "text/plain": [
              "matrix([[ 2.10278766,  0.        ,  0.        ,  1.94446161,  0.        ,\n",
              "          0.        ,  0.        ,  0.        ,  0.        ,  1.84429312,\n",
              "          0.        ,  3.4199086 ,  2.00709718,  0.        ,  0.        ,\n",
              "          2.25380518,  2.70405389,  0.        ,  0.        ,  0.        ,\n",
              "          3.82564905,  1.87546874,  2.113303  ,  2.07391968,  0.        ,\n",
              "          0.        ,  3.21853139,  2.52300541,  0.        ,  0.        ,\n",
              "          0.        ,  5.19916857,  0.        ,  0.        ,  0.        ,\n",
              "          3.04128978,  0.        ,  3.82911225,  0.        ,  2.94445665,\n",
              "          0.        ,  0.        , 31.66502907,  0.        ,  2.1006978 ,\n",
              "          3.53024136,  0.        ,  0.        ,  7.04413652,  3.50945424,\n",
              "          0.        ,  3.0684918 ,  2.04388739,  2.24653359,  0.        ,\n",
              "          0.        ,  0.        ,  0.        ,  2.89250104,  0.        ,\n",
              "          0.        ,  0.        , 15.73268788,  0.        ,  5.23281316,\n",
              "          1.86882419,  0.        ,  0.        ,  0.        ,  0.        ,\n",
              "          0.        ,  0.        ,  5.26722314,  0.        ,  0.        ,\n",
              "          0.        ,  2.07391968,  3.19315034,  1.95523371,  0.        ,\n",
              "          2.29098418,  0.        ,  0.        ,  0.        ,  0.        ,\n",
              "          1.86882419,  3.20580061,  6.49884008,  0.        ,  0.        ,\n",
              "          0.        ,  0.        , 11.35119955,  2.0597923 ,  4.50275009,\n",
              "          0.        ,  0.        ,  2.68968097,  0.        ,  0.        ,\n",
              "          0.        ,  2.24653242,  0.        ,  0.        ,  1.8704812 ,\n",
              "          0.        ,  0.        ,  0.        ,  2.82135994,  0.        ,\n",
              "          0.        ,  3.04665172,  0.        ,  0.        ,  0.        ,\n",
              "          0.        ,  0.        ,  0.        ,  0.        ,  0.        ,\n",
              "          1.69592882,  6.58272257,  2.28343698,  0.        ,  2.05180822,\n",
              "          0.        ,  0.        ,  0.        ,  4.6279474 ,  2.61841681,\n",
              "          0.        ,  2.0360288 ,  2.01281693,  0.        ,  2.22030922,\n",
              "          1.49361349,  1.8990786 ,  0.        ,  0.        ,  0.        ,\n",
              "          0.        ,  0.        ,  0.        ,  3.63576608,  0.        ,\n",
              "          0.        ,  1.82509253,  0.        ,  1.57907472,  2.2759463 ,\n",
              "          0.        ,  3.47431424,  0.        ,  0.        ,  0.        ,\n",
              "          0.        ,  2.60145958,  1.80469967,  0.        ,  1.75177727,\n",
              "          3.15567267,  4.28274874,  4.22892144,  0.        ,  1.80781009,\n",
              "          0.        ,  2.25868324,  0.        ,  4.27955555,  0.        ,\n",
              "          0.        ,  0.        ,  0.        ,  1.44476916,  2.42900091,\n",
              "          0.        ,  1.52951776,  0.        ,  0.        ,  0.        ,\n",
              "          0.        ,  0.        ,  0.        ,  2.42019591,  0.        ,\n",
              "          2.88737264,  2.26358521,  0.        ,  0.        ,  3.46562487,\n",
              "          1.85730143,  3.27028072,  1.73570679,  0.        ,  4.01400355,\n",
              "          0.        ,  0.        ,  0.        ,  2.77787161,  0.        ],\n",
              "        [ 0.        ,  5.19815025,  5.39289858,  0.        ,  0.        ,\n",
              "          0.        ,  0.        ,  0.        ,  0.        ,  1.84429312,\n",
              "          2.5293952 ,  3.4199086 ,  4.01419436,  0.        ,  0.        ,\n",
              "          0.        ,  2.70405389,  0.        ,  0.        ,  0.        ,\n",
              "          0.        ,  0.        ,  0.        ,  0.        ,  0.        ,\n",
              "          2.20861318,  1.6092657 ,  0.        ,  2.51349662,  0.        ,\n",
              "          0.        ,  2.59958428,  0.        ,  1.7576857 ,  0.        ,\n",
              "          0.        ,  0.        ,  0.        ,  0.        ,  1.47222832,\n",
              "          0.        ,  2.70787799, 31.66502907,  0.        ,  6.30209339,\n",
              "          5.29536204,  0.        ,  0.        ,  1.17402275,  1.75472712,\n",
              "          3.88892322,  3.0684918 ,  2.04388739, 10.10940115,  2.43175674,\n",
              "          1.74297955,  0.        ,  0.        ,  0.        ,  0.        ,\n",
              "          0.        ,  2.9641307 , 14.52248112,  0.        ,  0.        ,\n",
              "          0.        ,  0.        ,  0.        ,  2.43466795,  0.        ,\n",
              "          0.        ,  0.        ,  3.95041735,  0.        ,  2.92529086,\n",
              "          0.        ,  0.        ,  3.19315034,  0.        ,  0.        ,\n",
              "          0.        ,  0.        ,  2.2489508 ,  0.        ,  2.77114018,\n",
              "          0.        ,  3.20580061,  3.24942004,  0.        ,  0.        ,\n",
              "          2.13900035,  2.41161217, 12.48631951,  2.0597923 ,  0.        ,\n",
              "          0.        ,  0.        ,  5.37936195,  0.        ,  0.        ,\n",
              "          0.        ,  0.        ,  0.        ,  0.        ,  0.        ,\n",
              "          0.        ,  0.        ,  0.        ,  0.        ,  0.        ,\n",
              "          0.        ,  6.09330344,  0.        ,  0.        ,  0.        ,\n",
              "          0.        ,  0.        ,  0.        ,  0.        ,  3.08993334,\n",
              "          1.69592882,  0.        ,  0.        ,  2.71943881,  0.        ,\n",
              "         10.75560834,  0.        ,  0.        ,  2.3139737 ,  2.61841681,\n",
              "          0.        ,  2.0360288 ,  0.        ,  0.        ,  0.        ,\n",
              "          0.        ,  1.8990786 ,  0.        ,  0.        ,  0.        ,\n",
              "          0.        ,  1.53543143,  0.        ,  2.42384405,  0.        ,\n",
              "          0.        ,  0.        ,  0.        ,  1.57907472,  0.        ,\n",
              "          0.        ,  0.        ,  2.05180822,  2.20861318,  0.        ,\n",
              "          1.44260466,  1.30072979,  3.60939933,  0.        ,  1.75177727,\n",
              "          1.57783633,  1.42758291,  7.0482024 ,  0.        ,  3.61562018,\n",
              "          0.        ,  0.        ,  2.73113485,  1.42651852,  4.81753443,\n",
              "          0.        ,  0.        ,  0.        ,  1.44476916,  4.85800182,\n",
              "          2.30881905,  3.05903551,  0.        ,  1.6338306 ,  0.        ,\n",
              "          0.        ,  2.20861318,  2.37524452,  0.        ,  0.        ,\n",
              "         10.10580425,  0.        ,  0.        ,  0.        ,  3.46562487,\n",
              "          1.85730143,  3.27028072,  1.73570679,  0.        ,  5.35200473,\n",
              "          2.03212255,  0.        ,  0.        ,  2.77787161,  0.        ]])"
            ]
          },
          "metadata": {},
          "execution_count": 35
        }
      ]
    },
    {
      "cell_type": "markdown",
      "source": [
        "# Обучаем классификатор"
      ],
      "metadata": {
        "id": "MTdlAs_U_GXp"
      }
    },
    {
      "cell_type": "code",
      "source": [
        "clf = RandomForestClassifier(n_estimators=500, max_depth=10)\n",
        "clf = clf.fit(train_X, train_y)\n",
        "\n",
        "pred = clf.predict(test_X)"
      ],
      "metadata": {
        "id": "CFPyOVy6-81D"
      },
      "execution_count": 37,
      "outputs": []
    },
    {
      "cell_type": "code",
      "source": [
        "print('Предсказанные метки: ', pred[0:20], \".....\")\n",
        "print('Истинные метки: ', test_y[0:20], \".....\")"
      ],
      "metadata": {
        "colab": {
          "base_uri": "https://localhost:8080/"
        },
        "id": "phuFOx0N_utr",
        "outputId": "f0cfd537-2a27-4d77-e6dd-0ffcee3c47e9"
      },
      "execution_count": 38,
      "outputs": [
        {
          "output_type": "stream",
          "name": "stdout",
          "text": [
            "Предсказанные метки:  [1 0 1 0 0 1 1 0 1 1 1 0 1 0 1 1 0 0 1 1] .....\n",
            "Истинные метки:  [1, 0, 1, 0, 0, 1, 1, 0, 1, 1, 1, 0, 1, 0, 1, 1, 0, 0, 1, 1] .....\n"
          ]
        }
      ]
    },
    {
      "cell_type": "code",
      "source": [
        "def num2label(y):\n",
        "    \"\"\"\n",
        "    Функция для декодирования лейблов\n",
        "    \"\"\"\n",
        "    if y == 0:\n",
        "        return 'обеспечение гарантийных обязательств'\n",
        "    if y == 1:\n",
        "        return 'обеспечение исполнения контракта'"
      ],
      "metadata": {
        "id": "V_q6lRq7AMSs"
      },
      "execution_count": 41,
      "outputs": []
    },
    {
      "cell_type": "code",
      "source": [
        "decoded_pred = [num2label(y) for y in pred]\n",
        "decoded_test_y = [num2label(y) for y in test_y]\n",
        "\n",
        "print('Предсказанные метки: ', decoded_pred[0:4])\n",
        "print('Истинные метки: ', decoded_test_y [0:4])"
      ],
      "metadata": {
        "colab": {
          "base_uri": "https://localhost:8080/"
        },
        "id": "evEvqsVu_6kQ",
        "outputId": "c3f36988-568c-45cf-db63-6fef9311cde9"
      },
      "execution_count": 44,
      "outputs": [
        {
          "output_type": "stream",
          "name": "stdout",
          "text": [
            "Предсказанные метки:  ['обеспечение исполнения контракта', 'обеспечение гарантийных обязательств', 'обеспечение исполнения контракта', 'обеспечение гарантийных обязательств']\n",
            "Истинные метки:  ['обеспечение исполнения контракта', 'обеспечение гарантийных обязательств', 'обеспечение исполнения контракта', 'обеспечение гарантийных обязательств']\n"
          ]
        }
      ]
    },
    {
      "cell_type": "markdown",
      "source": [
        "Качество классификатора будем оценивать по метрике **accuracy**"
      ],
      "metadata": {
        "id": "SWeFpcmBBA9l"
      }
    },
    {
      "cell_type": "code",
      "source": [
        "print(accuracy_score(test_y, pred))"
      ],
      "metadata": {
        "colab": {
          "base_uri": "https://localhost:8080/"
        },
        "id": "M8cWaZE3BCfi",
        "outputId": "36882245-9e1a-407c-94fe-c02b36dc647e"
      },
      "execution_count": 47,
      "outputs": [
        {
          "output_type": "stream",
          "name": "stdout",
          "text": [
            "0.9611111111111111\n"
          ]
        }
      ]
    },
    {
      "cell_type": "markdown",
      "source": [
        "Из любопытства взглянем на матрицу ошибок (**confusion_matrix**)"
      ],
      "metadata": {
        "id": "SyushBFbBsRF"
      }
    },
    {
      "cell_type": "code",
      "source": [
        "print(confusion_matrix(test_y, pred))"
      ],
      "metadata": {
        "colab": {
          "base_uri": "https://localhost:8080/"
        },
        "id": "LNeLoMluCF1P",
        "outputId": "d6d9c05d-9231-4edc-ba5d-f86213d850d3"
      },
      "execution_count": 49,
      "outputs": [
        {
          "output_type": "stream",
          "name": "stdout",
          "text": [
            "[[156   6]\n",
            " [  8 190]]\n"
          ]
        }
      ]
    },
    {
      "cell_type": "markdown",
      "source": [
        "6 ошибок первого рода и 8 ошибок второго рода"
      ],
      "metadata": {
        "id": "NSK1NOXCCPq2"
      }
    },
    {
      "cell_type": "markdown",
      "source": [
        "Посмотрим на **roc_auc_score**"
      ],
      "metadata": {
        "id": "M6wg7ppaEa6D"
      }
    },
    {
      "cell_type": "code",
      "source": [
        "print(roc_auc_score(test_y, pred))"
      ],
      "metadata": {
        "colab": {
          "base_uri": "https://localhost:8080/"
        },
        "id": "CpDl0zwDEMp9",
        "outputId": "7f4bf83f-dca8-48ad-c94f-0ed7817f9760"
      },
      "execution_count": 51,
      "outputs": [
        {
          "output_type": "stream",
          "name": "stdout",
          "text": [
            "0.9612794612794613\n"
          ]
        }
      ]
    },
    {
      "cell_type": "markdown",
      "source": [
        "Сохраним модель"
      ],
      "metadata": {
        "id": "U2qDQJq_GalT"
      }
    },
    {
      "cell_type": "code",
      "source": [
        "with open(\"rf_clf.pkl\", \"wb\") as f:\n",
        "    pickle.dump(clf, f)"
      ],
      "metadata": {
        "id": "CVfYXebKGSnT"
      },
      "execution_count": 54,
      "outputs": []
    },
    {
      "cell_type": "markdown",
      "source": [
        "# Посмотрим на несколько примеров"
      ],
      "metadata": {
        "id": "1AQgUrKsYRkJ"
      }
    },
    {
      "cell_type": "code",
      "source": [
        "for i in range(10):\n",
        "    print('Истинный лейбл:',decoded_test_y[i])\n",
        "    print('Предсказанный лейбл:',decoded_pred[i])\n",
        "    print('Текст: ', train_texts[i][:100]+'...')\n",
        "    print('\\n')"
      ],
      "metadata": {
        "colab": {
          "base_uri": "https://localhost:8080/"
        },
        "id": "bRWc6Mj6YGpQ",
        "outputId": "7de4c999-ab0a-460d-8a82-1aaebc22e47a"
      },
      "execution_count": 57,
      "outputs": [
        {
          "output_type": "stream",
          "name": "stdout",
          "text": [
            "Истинный лейбл: обеспечение исполнения контракта\n",
            "Предсказанный лейбл: обеспечение исполнения контракта\n",
            "Текст:  приложение № 2 документация аукцион электронный форма проект договор договор № поставка товар « ____...\n",
            "\n",
            "\n",
            "Истинный лейбл: обеспечение гарантийных обязательств\n",
            "Предсказанный лейбл: обеспечение гарантийных обязательств\n",
            "Текст:  утверждать генеральный директор акционерный общество « объединить энергетический компания » быть про...\n",
            "\n",
            "\n",
            "Истинный лейбл: обеспечение исполнения контракта\n",
            "Предсказанный лейбл: обеспечение исполнения контракта\n",
            "Текст:  32 11 приложение № 3 аукционный документация договор поставка № г москва « ___ » ___________ 20__г с...\n",
            "\n",
            "\n",
            "Истинный лейбл: обеспечение гарантийных обязательств\n",
            "Предсказанный лейбл: обеспечение гарантийных обязательств\n",
            "Текст:  государственный контракт № _________ выполнение работа осуществление строительный контроль выполнени...\n",
            "\n",
            "\n",
            "Истинный лейбл: обеспечение гарантийных обязательств\n",
            "Предсказанный лейбл: обеспечение гарантийных обязательств\n",
            "Текст:  м кутверждать доканал )) васильев 2022г -? работа соответствие объём работа указаitный технический з...\n",
            "\n",
            "\n",
            "Истинный лейбл: обеспечение исполнения контракта\n",
            "Предсказанный лейбл: обеспечение исполнения контракта\n",
            "Текст:  ввести текст идентификационный код закупка 222631206192363120100100330036311244 проект контракт № __...\n",
            "\n",
            "\n",
            "Истинный лейбл: обеспечение исполнения контракта\n",
            "Предсказанный лейбл: обеспечение исполнения контракта\n",
            "Текст:  извещение проведение электронный аукцион закупка № 0163100005522000014 общий информация номер извеще...\n",
            "\n",
            "\n",
            "Истинный лейбл: обеспечение гарантийных обязательств\n",
            "Предсказанный лейбл: обеспечение гарантийных обязательств\n",
            "Текст:  извещение проведение электронный аукцион закупка № 0128200000122005069 общий информация номер извеще...\n",
            "\n",
            "\n",
            "Истинный лейбл: обеспечение исполнения контракта\n",
            "Предсказанный лейбл: обеспечение исполнения контракта\n",
            "Текст:  договор № ________ г москва « ___ » __________ 2022 г акционерный общество мосводоканал ао мосводока...\n",
            "\n",
            "\n",
            "Истинный лейбл: обеспечение исполнения контракта\n",
            "Предсказанный лейбл: обеспечение исполнения контракта\n",
            "Текст:  № п п информация открытый аукцион электронный форма 1 выписка реестр аккредитовать лицо аттестат акк...\n",
            "\n",
            "\n"
          ]
        }
      ]
    }
  ]
}