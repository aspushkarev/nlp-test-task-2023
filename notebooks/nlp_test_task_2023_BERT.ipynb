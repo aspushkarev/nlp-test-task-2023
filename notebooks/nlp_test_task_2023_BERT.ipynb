{
  "nbformat": 4,
  "nbformat_minor": 0,
  "metadata": {
    "colab": {
      "provenance": [],
      "gpuType": "T4"
    },
    "kernelspec": {
      "name": "python3",
      "display_name": "Python 3"
    },
    "language_info": {
      "name": "python"
    }
  },
  "cells": [
    {
      "cell_type": "code",
      "execution_count": 46,
      "metadata": {
        "colab": {
          "base_uri": "https://localhost:8080/"
        },
        "id": "UjvKKYIgIEin",
        "outputId": "42a78b87-fc17-4afd-ce33-c5a34030d62b"
      },
      "outputs": [
        {
          "output_type": "stream",
          "name": "stdout",
          "text": [
            "Looking in indexes: https://pypi.org/simple, https://us-python.pkg.dev/colab-wheels/public/simple/\n",
            "Requirement already satisfied: transformers in /usr/local/lib/python3.10/dist-packages (4.29.2)\n",
            "Requirement already satisfied: filelock in /usr/local/lib/python3.10/dist-packages (from transformers) (3.12.0)\n",
            "Requirement already satisfied: huggingface-hub<1.0,>=0.14.1 in /usr/local/lib/python3.10/dist-packages (from transformers) (0.14.1)\n",
            "Requirement already satisfied: numpy>=1.17 in /usr/local/lib/python3.10/dist-packages (from transformers) (1.22.4)\n",
            "Requirement already satisfied: packaging>=20.0 in /usr/local/lib/python3.10/dist-packages (from transformers) (23.1)\n",
            "Requirement already satisfied: pyyaml>=5.1 in /usr/local/lib/python3.10/dist-packages (from transformers) (6.0)\n",
            "Requirement already satisfied: regex!=2019.12.17 in /usr/local/lib/python3.10/dist-packages (from transformers) (2022.10.31)\n",
            "Requirement already satisfied: requests in /usr/local/lib/python3.10/dist-packages (from transformers) (2.27.1)\n",
            "Requirement already satisfied: tokenizers!=0.11.3,<0.14,>=0.11.1 in /usr/local/lib/python3.10/dist-packages (from transformers) (0.13.3)\n",
            "Requirement already satisfied: tqdm>=4.27 in /usr/local/lib/python3.10/dist-packages (from transformers) (4.65.0)\n",
            "Requirement already satisfied: fsspec in /usr/local/lib/python3.10/dist-packages (from huggingface-hub<1.0,>=0.14.1->transformers) (2023.4.0)\n",
            "Requirement already satisfied: typing-extensions>=3.7.4.3 in /usr/local/lib/python3.10/dist-packages (from huggingface-hub<1.0,>=0.14.1->transformers) (4.5.0)\n",
            "Requirement already satisfied: urllib3<1.27,>=1.21.1 in /usr/local/lib/python3.10/dist-packages (from requests->transformers) (1.26.15)\n",
            "Requirement already satisfied: certifi>=2017.4.17 in /usr/local/lib/python3.10/dist-packages (from requests->transformers) (2022.12.7)\n",
            "Requirement already satisfied: charset-normalizer~=2.0.0 in /usr/local/lib/python3.10/dist-packages (from requests->transformers) (2.0.12)\n",
            "Requirement already satisfied: idna<4,>=2.5 in /usr/local/lib/python3.10/dist-packages (from requests->transformers) (3.4)\n"
          ]
        }
      ],
      "source": [
        "!pip install transformers"
      ]
    },
    {
      "cell_type": "markdown",
      "source": [
        "Для задачи Question Answering мы используем класс BertForQuestionAnswering из библиотеки transformers."
      ],
      "metadata": {
        "id": "EBtOTQeHPOEh"
      }
    },
    {
      "cell_type": "code",
      "source": [
        "import pandas as pd\n",
        "import matplotlib.pyplot as plt\n",
        "\n",
        "import json\n",
        "import torch\n",
        "from transformers import BertForQuestionAnswering\n",
        "from transformers import BertTokenizerFast\n",
        "from torch.utils.data import DataLoader"
      ],
      "metadata": {
        "id": "IngQsTIXO1ps"
      },
      "execution_count": 83,
      "outputs": []
    },
    {
      "cell_type": "markdown",
      "source": [
        "Загрузим предобученную модель BERT"
      ],
      "metadata": {
        "id": "0SC09n3fPwjA"
      }
    },
    {
      "cell_type": "code",
      "source": [
        "model = BertForQuestionAnswering.from_pretrained('oceanpty/mbert-squad')"
      ],
      "metadata": {
        "id": "EgiudAl5PPJE"
      },
      "execution_count": 48,
      "outputs": []
    },
    {
      "cell_type": "markdown",
      "source": [
        "Загрузим и токенайзер"
      ],
      "metadata": {
        "id": "f5tc1-nBP2Yt"
      }
    },
    {
      "cell_type": "code",
      "source": [
        "tokenizer = BertTokenizer.from_pretrained('oceanpty/mbert-squad')"
      ],
      "metadata": {
        "id": "Gp6zURW4Praq"
      },
      "execution_count": 49,
      "outputs": []
    },
    {
      "cell_type": "markdown",
      "source": [
        "# Загрузка данных"
      ],
      "metadata": {
        "id": "N65cd2oKFLsT"
      }
    },
    {
      "cell_type": "code",
      "source": [
        "# !wget -nc https://github.com/aspushkarev/nlp-test-task-2023/tree/main/data/raw/train.json"
      ],
      "metadata": {
        "id": "BeMTx65DkhS_"
      },
      "execution_count": 50,
      "outputs": []
    },
    {
      "cell_type": "code",
      "source": [
        "num_questions = 0\n",
        "num_posible = 0\n",
        "num_imposible = 0"
      ],
      "metadata": {
        "id": "LtafgS_4IerY"
      },
      "execution_count": 51,
      "outputs": []
    },
    {
      "cell_type": "code",
      "source": [
        "def get_data(path):\n",
        "  \"\"\"\n",
        "  Below code will only return questions wich have answers\n",
        "  (i.e. not the ones flagged as imposible to answer)\n",
        "  Read file and retrieve the contexts, qustions and answers\n",
        "  \"\"\"\n",
        "\n",
        "  data = pd.read_json(path)\n",
        "\n",
        "  # with open(path) as f:\n",
        "  #     data = json.load(f)\n",
        "\n",
        "  contexts = []\n",
        "  questions = []\n",
        "  answers = []\n",
        "  num_q = 0\n",
        "  num_pos = 0\n",
        "  num_imp = 0\n",
        "\n",
        "  for text in data['text']:\n",
        "      num_q += 1\n",
        "      contexts.append(text.lower())\n",
        "\n",
        "  for question in data['label']:\n",
        "      questions.append(question.lower())\n",
        "\n",
        "  for answer in data['extracted_part']:\n",
        "      if answer.get('answer_start') == [0]:\n",
        "          num_imp += 1\n",
        "      else:\n",
        "          num_pos += 1\n",
        "          answers.append(answer)\n",
        "\n",
        "  return num_q, num_pos, num_imp, contexts, questions, answers"
      ],
      "metadata": {
        "id": "4U6bNyKaIi6J"
      },
      "execution_count": 55,
      "outputs": []
    },
    {
      "cell_type": "code",
      "source": [
        "# data = pd.read_json('train.json')"
      ],
      "metadata": {
        "id": "cJBLNfaUunUw"
      },
      "execution_count": 53,
      "outputs": []
    },
    {
      "cell_type": "code",
      "source": [
        "num_q, num_pos, num_imp, train_contexts, train_questions, train_answers = get_data('train.json')\n",
        "num_questions  = num_q\n",
        "num_posible = num_pos\n",
        "num_imposible  = num_imp\n",
        "\n",
        "print(f\"Total number of questions: {num_questions}\")\n",
        "print(f\"Total number of answerable questions: {num_posible}\")\n",
        "print(f\"Total number of impossible questions: {num_imposible}\")"
      ],
      "metadata": {
        "colab": {
          "base_uri": "https://localhost:8080/"
        },
        "id": "yS8me_ZUHJ29",
        "outputId": "57358638-2d0e-4ce1-8d8b-71faed1def79"
      },
      "execution_count": 56,
      "outputs": [
        {
          "output_type": "stream",
          "name": "stdout",
          "text": [
            "Total number of questions: 1799\n",
            "Total number of answerable questions: 1492\n",
            "Total number of impossible questions: 307\n"
          ]
        }
      ]
    },
    {
      "cell_type": "code",
      "source": [
        "print(train_questions[0:3])\n",
        "print(train_answers[0:3])"
      ],
      "metadata": {
        "colab": {
          "base_uri": "https://localhost:8080/"
        },
        "id": "U4tAEwojj5y3",
        "outputId": "9ed25e8b-0e2f-4bbd-e069-693683837ce5"
      },
      "execution_count": 57,
      "outputs": [
        {
          "output_type": "stream",
          "name": "stdout",
          "text": [
            "['обеспечение исполнения контракта', 'обеспечение исполнения контракта', 'обеспечение исполнения контракта']\n",
            "[{'text': ['Размер обеспечения исполнения контракта 6593.25 Российский рубль'], 'answer_start': [1279], 'answer_end': [1343]}, {'text': ['Поставщик должен предоставить обеспечение исполнения контракта в размере 10 % от цены Контракта.'], 'answer_start': [1222], 'answer_end': [1318]}, {'text': ['Размер обеспечения исполнения контракта 10.00%'], 'answer_start': [1297], 'answer_end': [1343]}]\n"
          ]
        }
      ]
    },
    {
      "cell_type": "markdown",
      "source": [
        "# Tokenization"
      ],
      "metadata": {
        "id": "IaXBUPOk5R4f"
      }
    },
    {
      "cell_type": "code",
      "source": [
        "#Text lengths to contextx\n",
        "token_lens = []\n",
        "\n",
        "for txt in train_contexts:\n",
        "    txt = txt.strip()  # remove leading and trailing whitespaces\n",
        "    token_lens.append(len(txt.split(' ')))\n",
        "  \n",
        "\n",
        "print(max(token_lens))\n",
        "\n",
        "plt.hist(token_lens,  bins=20)  # density=False would make counts\n",
        "plt.ylabel('Count')\n",
        "plt.xlabel('Length')\n",
        "plt.title('Distribution of Context Lengths');"
      ],
      "metadata": {
        "colab": {
          "base_uri": "https://localhost:8080/",
          "height": 489
        },
        "id": "1cRsiMwr7HWM",
        "outputId": "3f754279-e746-4544-e025-5b90b3c8d03d"
      },
      "execution_count": 58,
      "outputs": [
        {
          "output_type": "stream",
          "name": "stdout",
          "text": [
            "367\n"
          ]
        },
        {
          "output_type": "display_data",
          "data": {
            "text/plain": [
              "<Figure size 640x480 with 1 Axes>"
            ],
            "image/png": "[encoded data removed]"
          },
          "metadata": {}
        }
      ]
    },
    {
      "cell_type": "code",
      "source": [
        "#Test lengths of Questions\n",
        "token_lens2 = []\n",
        "\n",
        "for txt in train_questions:\n",
        "    txt = txt.strip()  # remove leading and trailing whitespaces\n",
        "    token_lens2.append(len(txt.split(' ')))\n",
        "\n",
        "\n",
        "print(max(token_lens2))\n",
        "print(len(token_lens2))\n",
        "\n",
        "plt.hist(token_lens2,  bins=20)  # density=False would make counts\n",
        "plt.ylabel('Count')\n",
        "plt.xlabel('Length')\n",
        "plt.title('Distribution of Question Lengths');"
      ],
      "metadata": {
        "colab": {
          "base_uri": "https://localhost:8080/",
          "height": 506
        },
        "id": "-PSNjHTH7rYQ",
        "outputId": "897baa59-3a3c-4cf7-88e7-4a954910c163"
      },
      "execution_count": 59,
      "outputs": [
        {
          "output_type": "stream",
          "name": "stdout",
          "text": [
            "3\n",
            "1799\n"
          ]
        },
        {
          "output_type": "display_data",
          "data": {
            "text/plain": [
              "<Figure size 640x480 with 1 Axes>"
            ],
            "image/png": "[encoded data removed]"
          },
          "metadata": {}
        }
      ]
    },
    {
      "cell_type": "code",
      "source": [
        "tokenizer = BertTokenizerFast.from_pretrained('oceanpty/mbert-squad')\n",
        "\n",
        "train_encodings = tokenizer(train_contexts, train_questions, truncation=True, padding=True)"
      ],
      "metadata": {
        "id": "HgeGqTzTNTys"
      },
      "execution_count": 60,
      "outputs": []
    },
    {
      "cell_type": "code",
      "source": [
        "type(train_encodings)"
      ],
      "metadata": {
        "colab": {
          "base_uri": "https://localhost:8080/"
        },
        "id": "3H5ZzC1B8Lx6",
        "outputId": "6754e6e8-f49e-44c3-8981-c45a049dd8b6"
      },
      "execution_count": 61,
      "outputs": [
        {
          "output_type": "execute_result",
          "data": {
            "text/plain": [
              "transformers.tokenization_utils_base.BatchEncoding"
            ]
          },
          "metadata": {},
          "execution_count": 61
        }
      ]
    },
    {
      "cell_type": "markdown",
      "source": [
        "Посмотрим что получим после токенизации данных"
      ],
      "metadata": {
        "id": "xEvOn4T4XmcI"
      }
    },
    {
      "cell_type": "code",
      "source": [
        "print(train_encodings.keys())\n",
        "print(len(train_encodings['input_ids']))\n",
        "print(len(train_encodings['input_ids'][0]))"
      ],
      "metadata": {
        "colab": {
          "base_uri": "https://localhost:8080/"
        },
        "id": "bsm7J_Tkctiv",
        "outputId": "bb97fdc0-ac3a-43df-ef1b-9c9aff9615ef"
      },
      "execution_count": 62,
      "outputs": [
        {
          "output_type": "stream",
          "name": "stdout",
          "text": [
            "dict_keys(['input_ids', 'token_type_ids', 'attention_mask'])\n",
            "1799\n",
            "512\n"
          ]
        }
      ]
    },
    {
      "cell_type": "code",
      "source": [
        "print(train_encodings['input_ids'][0])"
      ],
      "metadata": {
        "colab": {
          "base_uri": "https://localhost:8080/"
        },
        "id": "TR8pYA3IXvgv",
        "outputId": "0a599f8b-6ddf-41db-f929-ed4388e2a9b3"
      },
      "execution_count": 63,
      "outputs": [
        {
          "output_type": "stream",
          "name": "stdout",
          "text": [
            "[101, 10387, 14149, 26692, 555, 12709, 88174, 10191, 60427, 12470, 66524, 543, 104121, 11075, 46730, 10520, 10234, 86613, 10648, 1779, 10929, 68430, 68073, 77802, 68430, 78675, 102011, 44026, 11211, 13248, 26325, 55407, 44479, 10387, 103149, 104038, 68073, 77802, 68430, 78675, 102011, 44026, 11211, 108318, 62013, 10234, 86613, 10648, 80765, 26198, 65501, 10433, 556, 76983, 558, 97205, 101216, 80765, 10541, 73276, 113, 105940, 50329, 117, 37410, 17010, 13862, 13826, 114, 60427, 13865, 64895, 543, 542, 12118, 74545, 103072, 85308, 10385, 35085, 49867, 10970, 48712, 543, 17164, 65424, 10234, 51642, 10648, 10122, 16635, 543, 10234, 86613, 11557, 117, 541, 11448, 54678, 16616, 16346, 59936, 70135, 10513, 19820, 21137, 10234, 51642, 10648, 10122, 16635, 543, 10234, 86613, 11557, 16087, 23807, 33580, 18197, 61409, 41538, 10364, 10234, 86613, 10648, 543, 27878, 35085, 49867, 10970, 48712, 10880, 10375, 95128, 10384, 16616, 16346, 59936, 117, 23807, 19954, 104722, 27332, 11075, 15888, 119, 10827, 19539, 11050, 56608, 1779, 11126, 118, 561, 11571, 119, 96195, 20545, 558, 97205, 10179, 65424, 91411, 41538, 10364, 10234, 86613, 10648, 109603, 119, 69163, 30229, 10375, 95128, 10384, 16616, 16346, 59936, 33660, 13701, 32589, 10375, 23853, 65794, 558, 10405, 12202, 34123, 69163, 10179, 11429, 47990, 10191, 10234, 51642, 11899, 119, 70135, 10513, 19820, 21137, 10234, 51642, 10648, 10122, 16635, 543, 10234, 86613, 11557, 23807, 33580, 18197, 43347, 543, 43451, 558, 564, 119, 126, 15888, 119, 11126, 19539, 11050, 56608, 1779, 11126, 118, 561, 11571, 119, 54678, 10375, 95128, 10384, 16616, 16346, 59936, 543, 43451, 10956, 15888, 119, 10827, 19539, 11050, 56608, 1779, 11126, 118, 561, 11571, 119, 70158, 13791, 107156, 10292, 558, 69022, 543, 43451, 558, 556, 119, 10250, 564, 119, 122, 15888, 119, 11276, 56608, 1779, 11126, 118, 561, 11571, 107, 44479, 557, 18291, 56604, 11050, 54986, 10179, 107, 80598, 77802, 77802, 77802, 77802, 77802, 10929, 107, 44479, 75599, 22403, 54986, 10179, 107, 16541, 119, 10913, 33206, 66268, 108397, 107, 46381, 107, 80598, 77802, 21069, 107, 108318, 551, 63796, 48639, 23576, 107, 107, 44479, 80062, 107708, 11184, 558, 69022, 107, 70135, 10513, 19820, 21137, 37410, 93812, 29752, 10179, 559, 14348, 19590, 14317, 70135, 10513, 19820, 21137, 37410, 93812, 29752, 10179, 66799, 65424, 37410, 93812, 29752, 10179, 64057, 10884, 119, 10258, 35413, 557, 40124, 12118, 74545, 65424, 37410, 93812, 29752, 10179, 117, 559, 14348, 49455, 23341, 551, 70135, 10513, 19820, 89039, 37410, 67163, 29752, 10179, 117, 16616, 16346, 101840, 14578, 13248, 78070, 102600, 12312, 22293, 70135, 10513, 19820, 40181, 55125, 23807, 33580, 18197, 53605, 10375, 95128, 10384, 16616, 16346, 59936, 117, 10956, 11016, 41102, 23272, 31960, 559, 14348, 49455, 23341, 10241, 15888, 119, 10827, 19539, 11050, 56608, 1779, 11126, 118, 561, 11571, 117, 10880, 103072, 85308, 12579, 35085, 49867, 10970, 48712, 10122, 51941, 74707, 11092, 10234, 41710, 90347, 558, 54697, 117, 10122, 21071, 543, 43451, 558, 28015, 24369, 19212, 24329, 80892, 45117, 10191, 103510, 12202, 91432, 35399, 10956, 34848, 10508, 117, 94797, 15118, 79938, 10234, 41710, 25299, 10227, 119, 558, 97205, 65424, 37410, 93812, 29752, 10179, 117, 16616, 16346, 101840, 12861, 13248, 78070, 102600, 19021, 117, 69163, 30229, 10375, 95128, 10384, 16616, 16346, 59936, 555, 102, 70135, 10513, 19820, 21137, 37410, 93812, 29752, 10179, 102]\n"
          ]
        }
      ]
    },
    {
      "cell_type": "code",
      "source": [
        "no_of_encodings = len(train_encodings['input_ids'])\n",
        "print(f'We have {no_of_encodings} context-question pairs')"
      ],
      "metadata": {
        "colab": {
          "base_uri": "https://localhost:8080/"
        },
        "id": "kjpteWL4XoAc",
        "outputId": "171b95a7-9dee-4bc4-e384-16c888fe8fc7"
      },
      "execution_count": 64,
      "outputs": [
        {
          "output_type": "stream",
          "name": "stdout",
          "text": [
            "We have 1799 context-question pairs\n"
          ]
        }
      ]
    },
    {
      "cell_type": "markdown",
      "source": [
        "Декодируем первую пару вопрос-ответ и взглянем что получается"
      ],
      "metadata": {
        "id": "Hyanfhiq-lWV"
      }
    },
    {
      "cell_type": "code",
      "source": [
        "tokenizer.decode(train_encodings['input_ids'][0])"
      ],
      "metadata": {
        "colab": {
          "base_uri": "https://localhost:8080/",
          "height": 256
        },
        "id": "ebPKklzpX-Lb",
        "outputId": "275429c5-2c29-4da0-ad4d-bc743bf28346"
      },
      "execution_count": 65,
      "outputs": [
        {
          "output_type": "execute_result",
          "data": {
            "text/plain": [
              "'[CLS] извещение о проведении открытого конкурса в электронной форме для закупки №0328300032822000806 общая информация номер извещения 0328300032822000806 наименование объекта закупки поставка продуктов питания способ определения поставщика ( подрядчика, исполнителя ) открытый конкурс в бль порядок внесения денежных средств в качестве обеспечения заявки на участие в закупке, а также условия гарантии обеспечение заявки на участие в закупке может предоставляться участником закупки в виде денежных средств или независимой гарантии, предусмотренной ст. 45 федерального закона № 44 - фз. выбор способа обеспечения осуществляется участником закупки самостоятельно. срок действия независимой гарантии должен составлять не менее месяца с даты окончания срока подачи заявок. обеспечение заявки на участие в закупке предоставляется в соответствии с ч. 5 ст. 44 федерального закона № 44 - фз. условия независимой гарантии в соответствии со ст. 45 федерального закона № 44 - фз. реквизиты счета в соответствии с п. 16 ч. 1 ст. 42 закона № 44 - фз \" номер расчётного счёта \" 00000000000000000000 \" номер лицевого счёта \" см. прилагаемые документы \" бик \" 000000000 \" наименование кредитной организации \" \" номер корреспондентского счета \" обеспечение исполнения контракта требуется обеспечение исполнения контракта размер обеспечения исполнения контракта 6593. 25 российский рубль порядок обеспечения исполнения контракта, требования к обеспечению исполнение контракта, гарантийные обязательства могут обеспечиваться предоставлением независимой гарантии, соответствующей требованиям ст. 45 федерального закона № 44 - фз, или внесением денежных средств на указанный заказчиком счет, на котором в соответствии с законодательством российской федерации учитываются операции со средствами, поступающими заказчику. способ обеспечения исполнения контракта, гарантийных обязательств, срок действия независимой гарантии о [SEP] обеспечение исполнения контракта [SEP]'"
            ],
            "application/vnd.google.colaboratory.intrinsic+json": {
              "type": "string"
            }
          },
          "metadata": {},
          "execution_count": 65
        }
      ]
    },
    {
      "cell_type": "markdown",
      "source": [
        "Next we need to convert our character start/end positions to token start/end positions. Why is that? Because our words converted into tokens, so the answer start/end needs to show the index of start/end token which contains the answer and not the specific characters in the context."
      ],
      "metadata": {
        "id": "jUJYnRpa-_aa"
      }
    },
    {
      "cell_type": "code",
      "source": [
        "def add_token_positions(encodings, answers):\n",
        "  start_positions = []\n",
        "  end_positions = []\n",
        "  for i in range(len(answers)):\n",
        "    start_positions.append(encodings.char_to_token(i, answers[i]['answer_start'][0]))\n",
        "    end_positions.append(encodings.char_to_token(i, answers[i]['answer_end'][0] - 1))\n",
        "\n",
        "    # if start position is None, the answer passage has been truncated\n",
        "    if start_positions[-1] is None:\n",
        "      start_positions[-1] = tokenizer.model_max_length\n",
        "    if end_positions[-1] is None:\n",
        "      end_positions[-1] = tokenizer.model_max_length\n",
        "\n",
        "  encodings.update({'start_positions': start_positions, 'end_positions': end_positions})\n",
        "\n",
        "add_token_positions(train_encodings, train_answers)"
      ],
      "metadata": {
        "id": "UCRZ9RbfYL2U"
      },
      "execution_count": 79,
      "outputs": []
    },
    {
      "cell_type": "code",
      "source": [
        "train_encodings['start_positions'][:10]"
      ],
      "metadata": {
        "colab": {
          "base_uri": "https://localhost:8080/"
        },
        "id": "htCGcPcr_m3L",
        "outputId": "978b3550-939a-4776-9f62-1c2f3f3b2a73"
      },
      "execution_count": 80,
      "outputs": [
        {
          "output_type": "execute_result",
          "data": {
            "text/plain": [
              "[348, 382, 369, 385, 423, 372, 382, 379, 371, 379]"
            ]
          },
          "metadata": {},
          "execution_count": 80
        }
      ]
    },
    {
      "cell_type": "markdown",
      "source": [
        "# Опеределение набора данных (датасета)"
      ],
      "metadata": {
        "id": "YHmEBENIL03t"
      }
    },
    {
      "cell_type": "markdown",
      "source": [
        "We have to define our dataset using the PyTorch Dataset class from torch.utils in order create our dataloaders after that."
      ],
      "metadata": {
        "id": "7hjPIV6HLt7-"
      }
    },
    {
      "cell_type": "code",
      "source": [
        "class SQuAD_Dataset(torch.utils.data.Dataset):\n",
        "  def __init__(self, encodings):\n",
        "    self.encodings = encodings\n",
        "\n",
        "  def __getitem__(self, idx):\n",
        "    return {key: torch.tensor(val[idx]) for key, val in self.encodings.items()}\n",
        "    \n",
        "  def __len__(self):\n",
        "    return len(self.encodings.input_ids)"
      ],
      "metadata": {
        "id": "8m5JZ7APKVPe"
      },
      "execution_count": 81,
      "outputs": []
    },
    {
      "cell_type": "code",
      "source": [
        "train_dataset = SQuAD_Dataset(train_encodings)"
      ],
      "metadata": {
        "id": "G_wGv-5PMG_8"
      },
      "execution_count": 82,
      "outputs": []
    },
    {
      "cell_type": "code",
      "source": [
        "# Define the dataloaders\n",
        "train_loader = DataLoader(train_dataset, batch_size=16, shuffle=True)"
      ],
      "metadata": {
        "id": "GubLz-wEMVnw"
      },
      "execution_count": 84,
      "outputs": []
    },
    {
      "cell_type": "markdown",
      "source": [
        "# Fine-Tuning"
      ],
      "metadata": {
        "id": "mfXENmFoMsJc"
      }
    },
    {
      "cell_type": "markdown",
      "source": [
        "We are going to use the 'oceanpty/mbert-squad' from the huggingface transformers."
      ],
      "metadata": {
        "id": "Znpg2ul0Mzc9"
      }
    },
    {
      "cell_type": "code",
      "source": [
        "model = BertForQuestionAnswering.from_pretrained('oceanpty/mbert-squad')"
      ],
      "metadata": {
        "id": "hpn_PJsTMk4R"
      },
      "execution_count": 85,
      "outputs": []
    }
  ]
}