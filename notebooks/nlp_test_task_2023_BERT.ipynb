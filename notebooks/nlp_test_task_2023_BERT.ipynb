{
  "nbformat": 4,
  "nbformat_minor": 0,
  "metadata": {
    "colab": {
      "provenance": [],
      "gpuType": "T4"
    },
    "kernelspec": {
      "name": "python3",
      "display_name": "Python 3"
    },
    "language_info": {
      "name": "python"
    },
    "accelerator": "GPU"
  },
  "cells": [
    {
      "cell_type": "code",
      "execution_count": 378,
      "metadata": {
        "colab": {
          "base_uri": "https://localhost:8080/"
        },
        "id": "UjvKKYIgIEin",
        "outputId": "6cd37d0e-5b28-424e-89de-79982575faa0"
      },
      "outputs": [
        {
          "output_type": "stream",
          "name": "stdout",
          "text": [
            "Looking in indexes: https://pypi.org/simple, https://us-python.pkg.dev/colab-wheels/public/simple/\n",
            "Requirement already satisfied: transformers in /usr/local/lib/python3.10/dist-packages (4.29.2)\n",
            "Requirement already satisfied: filelock in /usr/local/lib/python3.10/dist-packages (from transformers) (3.12.0)\n",
            "Requirement already satisfied: huggingface-hub<1.0,>=0.14.1 in /usr/local/lib/python3.10/dist-packages (from transformers) (0.15.1)\n",
            "Requirement already satisfied: numpy>=1.17 in /usr/local/lib/python3.10/dist-packages (from transformers) (1.22.4)\n",
            "Requirement already satisfied: packaging>=20.0 in /usr/local/lib/python3.10/dist-packages (from transformers) (23.1)\n",
            "Requirement already satisfied: pyyaml>=5.1 in /usr/local/lib/python3.10/dist-packages (from transformers) (6.0)\n",
            "Requirement already satisfied: regex!=2019.12.17 in /usr/local/lib/python3.10/dist-packages (from transformers) (2022.10.31)\n",
            "Requirement already satisfied: requests in /usr/local/lib/python3.10/dist-packages (from transformers) (2.27.1)\n",
            "Requirement already satisfied: tokenizers!=0.11.3,<0.14,>=0.11.1 in /usr/local/lib/python3.10/dist-packages (from transformers) (0.13.3)\n",
            "Requirement already satisfied: tqdm>=4.27 in /usr/local/lib/python3.10/dist-packages (from transformers) (4.65.0)\n",
            "Requirement already satisfied: fsspec in /usr/local/lib/python3.10/dist-packages (from huggingface-hub<1.0,>=0.14.1->transformers) (2023.4.0)\n",
            "Requirement already satisfied: typing-extensions>=3.7.4.3 in /usr/local/lib/python3.10/dist-packages (from huggingface-hub<1.0,>=0.14.1->transformers) (4.5.0)\n",
            "Requirement already satisfied: urllib3<1.27,>=1.21.1 in /usr/local/lib/python3.10/dist-packages (from requests->transformers) (1.26.15)\n",
            "Requirement already satisfied: certifi>=2017.4.17 in /usr/local/lib/python3.10/dist-packages (from requests->transformers) (2022.12.7)\n",
            "Requirement already satisfied: charset-normalizer~=2.0.0 in /usr/local/lib/python3.10/dist-packages (from requests->transformers) (2.0.12)\n",
            "Requirement already satisfied: idna<4,>=2.5 in /usr/local/lib/python3.10/dist-packages (from requests->transformers) (3.4)\n"
          ]
        }
      ],
      "source": [
        "!pip install transformers"
      ]
    },
    {
      "cell_type": "markdown",
      "source": [
        "Для задачи Question Answering мы используем класс BertForQuestionAnswering из библиотеки transformers"
      ],
      "metadata": {
        "id": "EBtOTQeHPOEh"
      }
    },
    {
      "cell_type": "code",
      "source": [
        "import requests\n",
        "import json\n",
        "import torch\n",
        "import os\n",
        "from tqdm import tqdm\n",
        "import pandas as pd\n",
        "\n",
        "from transformers import BertTokenizerFast\n",
        "from torch.utils.data import DataLoader\n",
        "from transformers import BertForQuestionAnswering\n",
        "from transformers import AdamW\n",
        "\n",
        "from google.colab import drive\n",
        "drive.mount('/content/drive')"
      ],
      "metadata": {
        "colab": {
          "base_uri": "https://localhost:8080/"
        },
        "id": "mxOV3ZqRtbmS",
        "outputId": "c342fbe5-48d1-4df0-a1f7-841d7b8d4f06"
      },
      "execution_count": 379,
      "outputs": [
        {
          "output_type": "stream",
          "name": "stdout",
          "text": [
            "Drive already mounted at /content/drive; to attempt to forcibly remount, call drive.mount(\"/content/drive\", force_remount=True).\n"
          ]
        }
      ]
    },
    {
      "cell_type": "code",
      "source": [
        "if not os.path.exists('/content/drive/MyDrive/BERT-SQuAD'):\n",
        "  os.mkdir('/content/drive/MyDrive/BERT-SQuAD')"
      ],
      "metadata": {
        "id": "8AIFHGbetwBa"
      },
      "execution_count": 380,
      "outputs": []
    },
    {
      "cell_type": "markdown",
      "source": [
        "# Загрузка данных"
      ],
      "metadata": {
        "id": "N65cd2oKFLsT"
      }
    },
    {
      "cell_type": "code",
      "source": [
        "# !wget -nc https://github.com/aspushkarev/nlp-test-task-2023/tree/main/data/raw/train.json"
      ],
      "metadata": {
        "id": "BeMTx65DkhS_"
      },
      "execution_count": 381,
      "outputs": []
    },
    {
      "cell_type": "markdown",
      "source": [
        "# Data preprocessing"
      ],
      "metadata": {
        "id": "q3qMbFKsuJgM"
      }
    },
    {
      "cell_type": "code",
      "source": [
        "# Load the training dataset and take a look at it\n",
        "with open('train.json', 'rb') as f:\n",
        "  squad = json.load(f)"
      ],
      "metadata": {
        "id": "leYPep8wufNM"
      },
      "execution_count": 382,
      "outputs": []
    },
    {
      "cell_type": "code",
      "source": [
        "squad[0].keys()"
      ],
      "metadata": {
        "colab": {
          "base_uri": "https://localhost:8080/"
        },
        "id": "HzgnUPx3u1QE",
        "outputId": "04a56dcb-69b2-4517-c6cd-8b796273b25a"
      },
      "execution_count": 383,
      "outputs": [
        {
          "output_type": "execute_result",
          "data": {
            "text/plain": [
              "dict_keys(['id', 'text', 'label', 'extracted_part'])"
            ]
          },
          "metadata": {},
          "execution_count": 383
        }
      ]
    },
    {
      "cell_type": "code",
      "source": [
        "squad[18]"
      ],
      "metadata": {
        "colab": {
          "base_uri": "https://localhost:8080/"
        },
        "id": "uSaexVd9v9ym",
        "outputId": "d2b365d7-074a-4263-a1c0-94e979d21b63"
      },
      "execution_count": 384,
      "outputs": [
        {
          "output_type": "execute_result",
          "data": {
            "text/plain": [
              "{'id': 807692640,\n",
              " 'text': 'Приложение № 3 к извещению об осуществлении закупки (Электронный аукцион) ПРОЕКТ ГОСУДАРСТВЕНННОГО КОНТРАКТА ГОСУДАРСТВЕННЫЙ КОНТРАКТ N ____ на поставку радиотелефонов г. Иркутск \"__\" __________ ____ г. Федеральное казенное учреждение «Главное чика об одностороннем отказе от исполнения Контракта вступает в силу и Контракт считается расторгнутым через десять дней с даты надлежащего уведомления заказчиком Поставщика об одностороннем отказе от исполнения Контракта; 4.4.5. При исполнении Контракта по согласованию Заказчика с Поставщиком допускается поставка Товара, качество, технические и функциональные характеристики (потребительские свойства) которого являются улучшенными по сравнению с качеством и соответствующими техническими и функциональными характеристиками, указанными в Контракте; 4.4.6. требовать уплаты неустоек (штрафов, пеней) в соответствии с условиями Контракта; 4.4.7. Стороны обязуются получать почтовые отправления, направляемые друг другу, не позднее 10 дней с даты получения извещения (уведомления). 5. ОБЕСПЕЧЕНИЕ ИСПОЛНЕНИЯ КОНТРАКТА 5.1. Заказчиком предусмотрено обязательное условие обеспечения исполнения контракта. Способ и срок действия обеспечения исполнения контракта определяется Поставщиком самостоятельно. Поставщик при заключении Контракта должен предоставить Заказчику обеспечение исполнения Контракта в размере 5 % от начальной (максимальной) цены Контракта, что составляет ______ ( ____ ) рублей ____ копеек. В случае если предложенная Поставщиком цена Контракта снижена на 25% и более по отношению к начальной (максимальной) цене государственного контракта, обеспечение исполнения Контракта предоставляется в соответствии со статьей 37 Федерального закона о контрактной системе. По результатам проведения Электронного аукциона начальная (максимальная) цена контракта _________рублей (менее пятнадцать миллионов рублей) участником закупки, с которым заключается контракт, предложена цена контракта, которая на ____ % (процентов) ниже начальной (максимальной) цены контракта, контракт заключается только после предоставления таким участником обеспечения исполнения контракта в размере, указанном в части 1 статьи 37 Федеральный закон о контрактной системе (в размере превышающем в полтора раза размер обеспечения исполнения контракта, указанный в извещении об осуществлении закупки, документации о закупке (в случае, если настоящим Федеральным законом преду Заказчик: Поставщик: ______________/__________ _____________/ __________ «__» _________ 20__ г. «__» _________ 20__ г. М.П. М.П. (при наличии печати)',\n",
              " 'label': 'обеспечение исполнения контракта',\n",
              " 'extracted_part': {'text': ['Поставщик при заключении Контракта должен предоставить Заказчику обеспечение исполнения Контракта в размере 5 % от начальной (максимальной) цены Контракта'],\n",
              "  'answer_start': [1244],\n",
              "  'answer_end': [1398]}}"
            ]
          },
          "metadata": {},
          "execution_count": 384
        }
      ]
    },
    {
      "cell_type": "code",
      "source": [
        "def read_data(path):  \n",
        "  # load the json file\n",
        "  # with open(path, 'rb') as f:\n",
        "  #   squad = json.load(f)\n",
        "\n",
        "  squad = pd.read_json(path)\n",
        "\n",
        "  contexts = []\n",
        "  questions = []\n",
        "  answers = []\n",
        "  num_q = 0\n",
        "  num_pos = 0\n",
        "  num_imp = 0\n",
        "\n",
        "  for text in squad['text']:\n",
        "      num_q += 1\n",
        "      contexts.append(text.lower())\n",
        "\n",
        "  for question in squad['label']:\n",
        "      questions.append(question.lower())\n",
        "\n",
        "  for answer in squad['extracted_part']:\n",
        "      if answer.get('answer_start') == [0]:\n",
        "          num_imp += 1\n",
        "      else:\n",
        "          num_pos += 1\n",
        "          answers.append(answer)\n",
        "\n",
        "  return num_q, num_pos, num_imp, contexts, questions, answers"
      ],
      "metadata": {
        "id": "Nuk7eaNWyAnp"
      },
      "execution_count": 385,
      "outputs": []
    },
    {
      "cell_type": "code",
      "source": [
        "num_q, num_pos, num_imp, contexts, questions, answers = read_data('train.json')"
      ],
      "metadata": {
        "id": "TitomNLfyIms"
      },
      "execution_count": 386,
      "outputs": []
    },
    {
      "cell_type": "code",
      "source": [
        "# print a random question and answer\n",
        "print(f'There are {len(questions)} questions')\n",
        "print(questions[-1])\n",
        "print(answers[-1])"
      ],
      "metadata": {
        "colab": {
          "base_uri": "https://localhost:8080/"
        },
        "id": "37MxJ1yzysvv",
        "outputId": "c426eddf-9b38-487f-b174-2ffcb02f72f2"
      },
      "execution_count": 387,
      "outputs": [
        {
          "output_type": "stream",
          "name": "stdout",
          "text": [
            "There are 1799 questions\n",
            "обеспечение гарантийных обязательств\n",
            "{'text': ['Заказчиком установлено требование обеспечения исполнения договора и (или) обеспечения исполнения гарантийных обязательств. 5% от начальной (максимальной) цены договора, что составляет 27450'], 'answer_start': [1213], 'answer_end': [1402]}\n"
          ]
        }
      ]
    },
    {
      "cell_type": "markdown",
      "source": [
        "# Токенизация"
      ],
      "metadata": {
        "id": "IaXBUPOk5R4f"
      }
    },
    {
      "cell_type": "markdown",
      "source": [
        "Загрузим токенайзер"
      ],
      "metadata": {
        "id": "f5tc1-nBP2Yt"
      }
    },
    {
      "cell_type": "code",
      "source": [
        "tokenizer = BertTokenizerFast.from_pretrained('oceanpty/mbert-squad')\n",
        "\n",
        "train_encodings = tokenizer(contexts, questions, truncation=True, padding=True)\n",
        "# valid_encodings = tokenizer(valid_contexts, valid_questions, truncation=True, padding=True)"
      ],
      "metadata": {
        "id": "ZJ8iymwO1qTX"
      },
      "execution_count": 388,
      "outputs": []
    },
    {
      "cell_type": "code",
      "source": [
        "type(train_encodings)"
      ],
      "metadata": {
        "colab": {
          "base_uri": "https://localhost:8080/"
        },
        "id": "3H5ZzC1B8Lx6",
        "outputId": "06fe91b4-84af-4530-e532-b91d91aaa403"
      },
      "execution_count": 389,
      "outputs": [
        {
          "output_type": "execute_result",
          "data": {
            "text/plain": [
              "transformers.tokenization_utils_base.BatchEncoding"
            ]
          },
          "metadata": {},
          "execution_count": 389
        }
      ]
    },
    {
      "cell_type": "code",
      "source": [
        "# type(model)"
      ],
      "metadata": {
        "id": "mGN2gAhkex-O"
      },
      "execution_count": 390,
      "outputs": []
    },
    {
      "cell_type": "code",
      "source": [
        "train_encodings.keys()"
      ],
      "metadata": {
        "colab": {
          "base_uri": "https://localhost:8080/"
        },
        "id": "kDi13OFi2Iq1",
        "outputId": "cc1672f3-a8e8-4883-9fda-cafa81373aca"
      },
      "execution_count": 391,
      "outputs": [
        {
          "output_type": "execute_result",
          "data": {
            "text/plain": [
              "dict_keys(['input_ids', 'token_type_ids', 'attention_mask'])"
            ]
          },
          "metadata": {},
          "execution_count": 391
        }
      ]
    },
    {
      "cell_type": "code",
      "source": [
        "no_of_encodings = len(train_encodings['input_ids'])\n",
        "print(f'We have {no_of_encodings} context-question pairs')"
      ],
      "metadata": {
        "colab": {
          "base_uri": "https://localhost:8080/"
        },
        "id": "3JKM1Y2G2PLh",
        "outputId": "52d9e24f-2156-45cc-8813-cc2910ec4f1e"
      },
      "execution_count": 392,
      "outputs": [
        {
          "output_type": "stream",
          "name": "stdout",
          "text": [
            "We have 1799 context-question pairs\n"
          ]
        }
      ]
    },
    {
      "cell_type": "markdown",
      "source": [
        "Посмотрим что получили после токенизации данных"
      ],
      "metadata": {
        "id": "xEvOn4T4XmcI"
      }
    },
    {
      "cell_type": "code",
      "source": [
        "print(train_encodings.keys())\n",
        "print(len(train_encodings['input_ids']))\n",
        "print(len(train_encodings['input_ids'][0]))"
      ],
      "metadata": {
        "colab": {
          "base_uri": "https://localhost:8080/"
        },
        "id": "bsm7J_Tkctiv",
        "outputId": "0c55dfc3-1804-43b1-9f5d-76d81d0bca54"
      },
      "execution_count": 393,
      "outputs": [
        {
          "output_type": "stream",
          "name": "stdout",
          "text": [
            "dict_keys(['input_ids', 'token_type_ids', 'attention_mask'])\n",
            "1799\n",
            "512\n"
          ]
        }
      ]
    },
    {
      "cell_type": "code",
      "source": [
        "print(train_encodings['input_ids'][0])"
      ],
      "metadata": {
        "colab": {
          "base_uri": "https://localhost:8080/"
        },
        "id": "TR8pYA3IXvgv",
        "outputId": "1eb71881-a4fc-41ea-ab8c-bad0e6a5c502"
      },
      "execution_count": 394,
      "outputs": [
        {
          "output_type": "stream",
          "name": "stdout",
          "text": [
            "[101, 10387, 14149, 26692, 555, 12709, 88174, 10191, 60427, 12470, 66524, 543, 104121, 11075, 46730, 10520, 10234, 86613, 10648, 1779, 10929, 68430, 68073, 77802, 68430, 78675, 102011, 44026, 11211, 13248, 26325, 55407, 44479, 10387, 103149, 104038, 68073, 77802, 68430, 78675, 102011, 44026, 11211, 108318, 62013, 10234, 86613, 10648, 80765, 26198, 65501, 10433, 556, 76983, 558, 97205, 101216, 80765, 10541, 73276, 113, 105940, 50329, 117, 37410, 17010, 13862, 13826, 114, 60427, 13865, 64895, 543, 542, 12118, 74545, 103072, 85308, 10385, 35085, 49867, 10970, 48712, 543, 17164, 65424, 10234, 51642, 10648, 10122, 16635, 543, 10234, 86613, 11557, 117, 541, 11448, 54678, 16616, 16346, 59936, 70135, 10513, 19820, 21137, 10234, 51642, 10648, 10122, 16635, 543, 10234, 86613, 11557, 16087, 23807, 33580, 18197, 61409, 41538, 10364, 10234, 86613, 10648, 543, 27878, 35085, 49867, 10970, 48712, 10880, 10375, 95128, 10384, 16616, 16346, 59936, 117, 23807, 19954, 104722, 27332, 11075, 15888, 119, 10827, 19539, 11050, 56608, 1779, 11126, 118, 561, 11571, 119, 96195, 20545, 558, 97205, 10179, 65424, 91411, 41538, 10364, 10234, 86613, 10648, 109603, 119, 69163, 30229, 10375, 95128, 10384, 16616, 16346, 59936, 33660, 13701, 32589, 10375, 23853, 65794, 558, 10405, 12202, 34123, 69163, 10179, 11429, 47990, 10191, 10234, 51642, 11899, 119, 70135, 10513, 19820, 21137, 10234, 51642, 10648, 10122, 16635, 543, 10234, 86613, 11557, 23807, 33580, 18197, 43347, 543, 43451, 558, 564, 119, 126, 15888, 119, 11126, 19539, 11050, 56608, 1779, 11126, 118, 561, 11571, 119, 54678, 10375, 95128, 10384, 16616, 16346, 59936, 543, 43451, 10956, 15888, 119, 10827, 19539, 11050, 56608, 1779, 11126, 118, 561, 11571, 119, 70158, 13791, 107156, 10292, 558, 69022, 543, 43451, 558, 556, 119, 10250, 564, 119, 122, 15888, 119, 11276, 56608, 1779, 11126, 118, 561, 11571, 107, 44479, 557, 18291, 56604, 11050, 54986, 10179, 107, 80598, 77802, 77802, 77802, 77802, 77802, 10929, 107, 44479, 75599, 22403, 54986, 10179, 107, 16541, 119, 10913, 33206, 66268, 108397, 107, 46381, 107, 80598, 77802, 21069, 107, 108318, 551, 63796, 48639, 23576, 107, 107, 44479, 80062, 107708, 11184, 558, 69022, 107, 70135, 10513, 19820, 21137, 37410, 93812, 29752, 10179, 559, 14348, 19590, 14317, 70135, 10513, 19820, 21137, 37410, 93812, 29752, 10179, 66799, 65424, 37410, 93812, 29752, 10179, 64057, 10884, 119, 10258, 35413, 557, 40124, 12118, 74545, 65424, 37410, 93812, 29752, 10179, 117, 559, 14348, 49455, 23341, 551, 70135, 10513, 19820, 89039, 37410, 67163, 29752, 10179, 117, 16616, 16346, 101840, 14578, 13248, 78070, 102600, 12312, 22293, 70135, 10513, 19820, 40181, 55125, 23807, 33580, 18197, 53605, 10375, 95128, 10384, 16616, 16346, 59936, 117, 10956, 11016, 41102, 23272, 31960, 559, 14348, 49455, 23341, 10241, 15888, 119, 10827, 19539, 11050, 56608, 1779, 11126, 118, 561, 11571, 117, 10880, 103072, 85308, 12579, 35085, 49867, 10970, 48712, 10122, 51941, 74707, 11092, 10234, 41710, 90347, 558, 54697, 117, 10122, 21071, 543, 43451, 558, 28015, 24369, 19212, 24329, 80892, 45117, 10191, 103510, 12202, 91432, 35399, 10956, 34848, 10508, 117, 94797, 15118, 79938, 10234, 41710, 25299, 10227, 119, 558, 97205, 65424, 37410, 93812, 29752, 10179, 117, 16616, 16346, 101840, 12861, 13248, 78070, 102600, 19021, 117, 69163, 30229, 10375, 95128, 10384, 16616, 16346, 59936, 555, 102, 70135, 10513, 19820, 21137, 37410, 93812, 29752, 10179, 102]\n"
          ]
        }
      ]
    },
    {
      "cell_type": "code",
      "source": [
        "# num_of_encodings = len(train_encodings['input_ids'])\n",
        "# print(f'We have {num_of_encodings} context-question pairs')"
      ],
      "metadata": {
        "id": "kjpteWL4XoAc"
      },
      "execution_count": 395,
      "outputs": []
    },
    {
      "cell_type": "markdown",
      "source": [
        "Декодируем первую пару вопрос-ответ и взглянем что получается"
      ],
      "metadata": {
        "id": "Hyanfhiq-lWV"
      }
    },
    {
      "cell_type": "code",
      "source": [
        "tokenizer.decode(train_encodings['input_ids'][0])"
      ],
      "metadata": {
        "colab": {
          "base_uri": "https://localhost:8080/",
          "height": 137
        },
        "id": "ebPKklzpX-Lb",
        "outputId": "a1516f73-574c-4627-aa6a-386358f766c9"
      },
      "execution_count": 396,
      "outputs": [
        {
          "output_type": "execute_result",
          "data": {
            "text/plain": [
              "'[CLS] извещение о проведении открытого конкурса в электронной форме для закупки №0328300032822000806 общая информация номер извещения 0328300032822000806 наименование объекта закупки поставка продуктов питания способ определения поставщика ( подрядчика, исполнителя ) открытый конкурс в бль порядок внесения денежных средств в качестве обеспечения заявки на участие в закупке, а также условия гарантии обеспечение заявки на участие в закупке может предоставляться участником закупки в виде денежных средств или независимой гарантии, предусмотренной ст. 45 федерального закона № 44 - фз. выбор способа обеспечения осуществляется участником закупки самостоятельно. срок действия независимой гарантии должен составлять не менее месяца с даты окончания срока подачи заявок. обеспечение заявки на участие в закупке предоставляется в соответствии с ч. 5 ст. 44 федерального закона № 44 - фз. условия независимой гарантии в соответствии со ст. 45 федерального закона № 44 - фз. реквизиты счета в соответствии с п. 16 ч. 1 ст. 42 закона № 44 - фз \" номер расчётного счёта \" 00000000000000000000 \" номер лицевого счёта \" см. прилагаемые документы \" бик \" 000000000 \" наименование кредитной организации \" \" номер корреспондентского счета \" обеспечение исполнения контракта требуется обеспечение исполнения контракта размер обеспечения исполнения контракта 6593. 25 российский рубль порядок обеспечения исполнения контракта, требования к обеспечению исполнение контракта, гарантийные обязательства могут обеспечиваться предоставлением независимой гарантии, соответствующей требованиям ст. 45 федерального закона № 44 - фз, или внесением денежных средств на указанный заказчиком счет, на котором в соответствии с законодательством российской федерации учитываются операции со средствами, поступающими заказчику. способ обеспечения исполнения контракта, гарантийных обязательств, срок действия независимой гарантии о [SEP] обеспечение исполнения контракта [SEP]'"
            ],
            "application/vnd.google.colaboratory.intrinsic+json": {
              "type": "string"
            }
          },
          "metadata": {},
          "execution_count": 396
        }
      ]
    },
    {
      "cell_type": "markdown",
      "source": [
        "Далее мы конвертируем символы начала и конца позиций в начало и конец позиции токенов. Так как слова конвертируются в токены, ответ начала и конца показывает индекс начала и конца токена, который содержит ответ, а не конкретные символы в контексте"
      ],
      "metadata": {
        "id": "jUJYnRpa-_aa"
      }
    },
    {
      "cell_type": "code",
      "source": [
        "def add_token_positions(encodings, answers):\n",
        "  start_positions = []\n",
        "  end_positions = []\n",
        "  for i in range(len(answers)):\n",
        "    start_positions.append(encodings.char_to_token(i, answers[i]['answer_start'][0]))\n",
        "    end_positions.append(encodings.char_to_token(i, answers[i]['answer_end'][0] - 1))\n",
        "\n",
        "    # if start position is None, the answer passage has been truncated\n",
        "    if start_positions[-1] is None:\n",
        "    # if start_positions[-1] is [0]:\n",
        "      start_positions[-1] = tokenizer.model_max_length\n",
        "    if end_positions[-1] is None:\n",
        "    # if end_positions[-1] is [0]:\n",
        "      end_positions[-1] = tokenizer.model_max_length\n",
        "\n",
        "  encodings.update({'start_positions': start_positions, 'end_positions': end_positions})\n",
        "\n",
        "add_token_positions(train_encodings, answers)"
      ],
      "metadata": {
        "id": "UCRZ9RbfYL2U"
      },
      "execution_count": 397,
      "outputs": []
    },
    {
      "cell_type": "code",
      "source": [
        "train_encodings['start_positions'][:10]"
      ],
      "metadata": {
        "colab": {
          "base_uri": "https://localhost:8080/"
        },
        "id": "htCGcPcr_m3L",
        "outputId": "c7ae44fb-2e6a-4745-cf70-55dee6485a45"
      },
      "execution_count": 398,
      "outputs": [
        {
          "output_type": "execute_result",
          "data": {
            "text/plain": [
              "[348, 382, 369, 385, 423, 372, 382, 379, 371, 379]"
            ]
          },
          "metadata": {},
          "execution_count": 398
        }
      ]
    },
    {
      "cell_type": "markdown",
      "source": [
        "# Определение набора данных (датасета)"
      ],
      "metadata": {
        "id": "YHmEBENIL03t"
      }
    },
    {
      "cell_type": "markdown",
      "source": [
        "Мы определяем наш датасет используя класс PyTorch Dataset из torch.utils и создаём dataloaders"
      ],
      "metadata": {
        "id": "7hjPIV6HLt7-"
      }
    },
    {
      "cell_type": "code",
      "source": [
        "class SQuAD_Dataset(torch.utils.data.Dataset):\n",
        "  def __init__(self, encodings):\n",
        "    self.encodings = encodings\n",
        "\n",
        "  def __getitem__(self, idx):\n",
        "    return {key: torch.tensor(val[idx]) for key, val in self.encodings.items()}\n",
        "\n",
        "  def __len__(self):\n",
        "    return len(self.encodings.input_ids)"
      ],
      "metadata": {
        "id": "eMlwqZBK3Drq"
      },
      "execution_count": 399,
      "outputs": []
    },
    {
      "cell_type": "code",
      "source": [
        "train_dataset = SQuAD_Dataset(train_encodings)\n",
        "# valid_dataset = SQuAD_Dataset(valid_encodings)"
      ],
      "metadata": {
        "id": "_hv3l7z63L8a"
      },
      "execution_count": 400,
      "outputs": []
    },
    {
      "cell_type": "code",
      "source": [
        "# Define the dataloaders\n",
        "train_loader = DataLoader(train_dataset, batch_size=16, shuffle=True)\n",
        "# valid_loader = DataLoader(valid_dataset, batch_size=16)"
      ],
      "metadata": {
        "id": "I1jl0rLr3Rji"
      },
      "execution_count": 401,
      "outputs": []
    },
    {
      "cell_type": "markdown",
      "source": [
        "# Fine-Tuning"
      ],
      "metadata": {
        "id": "mfXENmFoMsJc"
      }
    },
    {
      "cell_type": "markdown",
      "source": [
        "Use of AdamW which is a stochastic optimization method that modifies the typical implementation of weight decay in Adam, by decoupling weight decay from the gradient update. This helps to avoid overfitting which is necessary in this case were the model is very complex.\n",
        "\n",
        "Set the lr=2e-5 as I read that this is the best value for the learning rate for this task."
      ],
      "metadata": {
        "id": "ZyHvBWgkZG7Z"
      }
    },
    {
      "cell_type": "markdown",
      "source": [
        "Загрузим предобученную модель BERT, иcточник https://huggingface.co/oceanpty/mbert-squad"
      ],
      "metadata": {
        "id": "0SC09n3fPwjA"
      }
    },
    {
      "cell_type": "code",
      "source": [
        "model = BertForQuestionAnswering.from_pretrained(\"oceanpty/mbert-squad\")"
      ],
      "metadata": {
        "id": "3xKps5bL3pT4"
      },
      "execution_count": 402,
      "outputs": []
    },
    {
      "cell_type": "code",
      "source": [
        "# Check on the available device - use GPU\n",
        "device = torch.device('cuda') if torch.cuda.is_available() else torch.device('cpu')\n",
        "print(f'Working on {device}')"
      ],
      "metadata": {
        "colab": {
          "base_uri": "https://localhost:8080/"
        },
        "id": "6sSrjUeQY9c-",
        "outputId": "226868a3-8f1d-4e86-a6a3-9c9b1a37dc50"
      },
      "execution_count": 403,
      "outputs": [
        {
          "output_type": "stream",
          "name": "stdout",
          "text": [
            "Working on cuda\n"
          ]
        }
      ]
    },
    {
      "cell_type": "code",
      "source": [
        "N_EPOCHS = 5\n",
        "optim = AdamW(model.parameters(), lr=5e-5)\n",
        "\n",
        "model.to(device)\n",
        "model.train()\n",
        "\n",
        "for epoch in range(N_EPOCHS):\n",
        "  loop = tqdm(train_loader, leave=True)\n",
        "  for batch in loop:\n",
        "    optim.zero_grad()\n",
        "    input_ids = batch['input_ids'].to(device)\n",
        "    attention_mask = batch['attention_mask'].to(device)\n",
        "    start_positions = batch['start_positions'].to(device)\n",
        "    end_positions = batch['end_positions'].to(device)\n",
        "    outputs = model(input_ids, attention_mask=attention_mask, start_positions=start_positions, end_positions=end_positions)\n",
        "    loss = outputs[0]\n",
        "    loss.backward()\n",
        "    optim.step()\n",
        "\n",
        "    loop.set_description(f'Epoch {epoch+1}')\n",
        "    loop.set_postfix(loss=loss.item())"
      ],
      "metadata": {
        "colab": {
          "base_uri": "https://localhost:8080/",
          "height": 446
        },
        "id": "CvHFj-Bpe9Nm",
        "outputId": "684872a6-cace-4a30-a739-d944f2f1ae4b"
      },
      "execution_count": 404,
      "outputs": [
        {
          "output_type": "stream",
          "name": "stderr",
          "text": [
            "/usr/local/lib/python3.10/dist-packages/transformers/optimization.py:407: FutureWarning: This implementation of AdamW is deprecated and will be removed in a future version. Use the PyTorch implementation torch.optim.AdamW instead, or set `no_deprecation_warning=True` to disable this warning\n",
            "  warnings.warn(\n",
            "  0%|          | 0/113 [00:00<?, ?it/s]\n"
          ]
        },
        {
          "output_type": "error",
          "ename": "IndexError",
          "evalue": "ignored",
          "traceback": [
            "\u001b[0;31m---------------------------------------------------------------------------\u001b[0m",
            "\u001b[0;31mIndexError\u001b[0m                                Traceback (most recent call last)",
            "\u001b[0;32m<ipython-input-404-37acd925027c>\u001b[0m in \u001b[0;36m<cell line: 7>\u001b[0;34m()\u001b[0m\n\u001b[1;32m      7\u001b[0m \u001b[0;32mfor\u001b[0m \u001b[0mepoch\u001b[0m \u001b[0;32min\u001b[0m \u001b[0mrange\u001b[0m\u001b[0;34m(\u001b[0m\u001b[0mN_EPOCHS\u001b[0m\u001b[0;34m)\u001b[0m\u001b[0;34m:\u001b[0m\u001b[0;34m\u001b[0m\u001b[0;34m\u001b[0m\u001b[0m\n\u001b[1;32m      8\u001b[0m   \u001b[0mloop\u001b[0m \u001b[0;34m=\u001b[0m \u001b[0mtqdm\u001b[0m\u001b[0;34m(\u001b[0m\u001b[0mtrain_loader\u001b[0m\u001b[0;34m,\u001b[0m \u001b[0mleave\u001b[0m\u001b[0;34m=\u001b[0m\u001b[0;32mTrue\u001b[0m\u001b[0;34m)\u001b[0m\u001b[0;34m\u001b[0m\u001b[0;34m\u001b[0m\u001b[0m\n\u001b[0;32m----> 9\u001b[0;31m   \u001b[0;32mfor\u001b[0m \u001b[0mbatch\u001b[0m \u001b[0;32min\u001b[0m \u001b[0mloop\u001b[0m\u001b[0;34m:\u001b[0m\u001b[0;34m\u001b[0m\u001b[0;34m\u001b[0m\u001b[0m\n\u001b[0m\u001b[1;32m     10\u001b[0m     \u001b[0moptim\u001b[0m\u001b[0;34m.\u001b[0m\u001b[0mzero_grad\u001b[0m\u001b[0;34m(\u001b[0m\u001b[0;34m)\u001b[0m\u001b[0;34m\u001b[0m\u001b[0;34m\u001b[0m\u001b[0m\n\u001b[1;32m     11\u001b[0m     \u001b[0minput_ids\u001b[0m \u001b[0;34m=\u001b[0m \u001b[0mbatch\u001b[0m\u001b[0;34m[\u001b[0m\u001b[0;34m'input_ids'\u001b[0m\u001b[0;34m]\u001b[0m\u001b[0;34m.\u001b[0m\u001b[0mto\u001b[0m\u001b[0;34m(\u001b[0m\u001b[0mdevice\u001b[0m\u001b[0;34m)\u001b[0m\u001b[0;34m\u001b[0m\u001b[0;34m\u001b[0m\u001b[0m\n",
            "\u001b[0;32m/usr/local/lib/python3.10/dist-packages/tqdm/std.py\u001b[0m in \u001b[0;36m__iter__\u001b[0;34m(self)\u001b[0m\n\u001b[1;32m   1176\u001b[0m \u001b[0;34m\u001b[0m\u001b[0m\n\u001b[1;32m   1177\u001b[0m         \u001b[0;32mtry\u001b[0m\u001b[0;34m:\u001b[0m\u001b[0;34m\u001b[0m\u001b[0;34m\u001b[0m\u001b[0m\n\u001b[0;32m-> 1178\u001b[0;31m             \u001b[0;32mfor\u001b[0m \u001b[0mobj\u001b[0m \u001b[0;32min\u001b[0m \u001b[0miterable\u001b[0m\u001b[0;34m:\u001b[0m\u001b[0;34m\u001b[0m\u001b[0;34m\u001b[0m\u001b[0m\n\u001b[0m\u001b[1;32m   1179\u001b[0m                 \u001b[0;32myield\u001b[0m \u001b[0mobj\u001b[0m\u001b[0;34m\u001b[0m\u001b[0;34m\u001b[0m\u001b[0m\n\u001b[1;32m   1180\u001b[0m                 \u001b[0;31m# Update and possibly print the progressbar.\u001b[0m\u001b[0;34m\u001b[0m\u001b[0;34m\u001b[0m\u001b[0m\n",
            "\u001b[0;32m/usr/local/lib/python3.10/dist-packages/torch/utils/data/dataloader.py\u001b[0m in \u001b[0;36m__next__\u001b[0;34m(self)\u001b[0m\n\u001b[1;32m    631\u001b[0m                 \u001b[0;31m# TODO(https://github.com/pytorch/pytorch/issues/76750)\u001b[0m\u001b[0;34m\u001b[0m\u001b[0;34m\u001b[0m\u001b[0m\n\u001b[1;32m    632\u001b[0m                 \u001b[0mself\u001b[0m\u001b[0;34m.\u001b[0m\u001b[0m_reset\u001b[0m\u001b[0;34m(\u001b[0m\u001b[0;34m)\u001b[0m  \u001b[0;31m# type: ignore[call-arg]\u001b[0m\u001b[0;34m\u001b[0m\u001b[0;34m\u001b[0m\u001b[0m\n\u001b[0;32m--> 633\u001b[0;31m             \u001b[0mdata\u001b[0m \u001b[0;34m=\u001b[0m \u001b[0mself\u001b[0m\u001b[0;34m.\u001b[0m\u001b[0m_next_data\u001b[0m\u001b[0;34m(\u001b[0m\u001b[0;34m)\u001b[0m\u001b[0;34m\u001b[0m\u001b[0;34m\u001b[0m\u001b[0m\n\u001b[0m\u001b[1;32m    634\u001b[0m             \u001b[0mself\u001b[0m\u001b[0;34m.\u001b[0m\u001b[0m_num_yielded\u001b[0m \u001b[0;34m+=\u001b[0m \u001b[0;36m1\u001b[0m\u001b[0;34m\u001b[0m\u001b[0;34m\u001b[0m\u001b[0m\n\u001b[1;32m    635\u001b[0m             \u001b[0;32mif\u001b[0m \u001b[0mself\u001b[0m\u001b[0;34m.\u001b[0m\u001b[0m_dataset_kind\u001b[0m \u001b[0;34m==\u001b[0m \u001b[0m_DatasetKind\u001b[0m\u001b[0;34m.\u001b[0m\u001b[0mIterable\u001b[0m \u001b[0;32mand\u001b[0m\u001b[0;31m \u001b[0m\u001b[0;31m\\\u001b[0m\u001b[0;34m\u001b[0m\u001b[0;34m\u001b[0m\u001b[0m\n",
            "\u001b[0;32m/usr/local/lib/python3.10/dist-packages/torch/utils/data/dataloader.py\u001b[0m in \u001b[0;36m_next_data\u001b[0;34m(self)\u001b[0m\n\u001b[1;32m    675\u001b[0m     \u001b[0;32mdef\u001b[0m \u001b[0m_next_data\u001b[0m\u001b[0;34m(\u001b[0m\u001b[0mself\u001b[0m\u001b[0;34m)\u001b[0m\u001b[0;34m:\u001b[0m\u001b[0;34m\u001b[0m\u001b[0;34m\u001b[0m\u001b[0m\n\u001b[1;32m    676\u001b[0m         \u001b[0mindex\u001b[0m \u001b[0;34m=\u001b[0m \u001b[0mself\u001b[0m\u001b[0;34m.\u001b[0m\u001b[0m_next_index\u001b[0m\u001b[0;34m(\u001b[0m\u001b[0;34m)\u001b[0m  \u001b[0;31m# may raise StopIteration\u001b[0m\u001b[0;34m\u001b[0m\u001b[0;34m\u001b[0m\u001b[0m\n\u001b[0;32m--> 677\u001b[0;31m         \u001b[0mdata\u001b[0m \u001b[0;34m=\u001b[0m \u001b[0mself\u001b[0m\u001b[0;34m.\u001b[0m\u001b[0m_dataset_fetcher\u001b[0m\u001b[0;34m.\u001b[0m\u001b[0mfetch\u001b[0m\u001b[0;34m(\u001b[0m\u001b[0mindex\u001b[0m\u001b[0;34m)\u001b[0m  \u001b[0;31m# may raise StopIteration\u001b[0m\u001b[0;34m\u001b[0m\u001b[0;34m\u001b[0m\u001b[0m\n\u001b[0m\u001b[1;32m    678\u001b[0m         \u001b[0;32mif\u001b[0m \u001b[0mself\u001b[0m\u001b[0;34m.\u001b[0m\u001b[0m_pin_memory\u001b[0m\u001b[0;34m:\u001b[0m\u001b[0;34m\u001b[0m\u001b[0;34m\u001b[0m\u001b[0m\n\u001b[1;32m    679\u001b[0m             \u001b[0mdata\u001b[0m \u001b[0;34m=\u001b[0m \u001b[0m_utils\u001b[0m\u001b[0;34m.\u001b[0m\u001b[0mpin_memory\u001b[0m\u001b[0;34m.\u001b[0m\u001b[0mpin_memory\u001b[0m\u001b[0;34m(\u001b[0m\u001b[0mdata\u001b[0m\u001b[0;34m,\u001b[0m \u001b[0mself\u001b[0m\u001b[0;34m.\u001b[0m\u001b[0m_pin_memory_device\u001b[0m\u001b[0;34m)\u001b[0m\u001b[0;34m\u001b[0m\u001b[0;34m\u001b[0m\u001b[0m\n",
            "\u001b[0;32m/usr/local/lib/python3.10/dist-packages/torch/utils/data/_utils/fetch.py\u001b[0m in \u001b[0;36mfetch\u001b[0;34m(self, possibly_batched_index)\u001b[0m\n\u001b[1;32m     49\u001b[0m                 \u001b[0mdata\u001b[0m \u001b[0;34m=\u001b[0m \u001b[0mself\u001b[0m\u001b[0;34m.\u001b[0m\u001b[0mdataset\u001b[0m\u001b[0;34m.\u001b[0m\u001b[0m__getitems__\u001b[0m\u001b[0;34m(\u001b[0m\u001b[0mpossibly_batched_index\u001b[0m\u001b[0;34m)\u001b[0m\u001b[0;34m\u001b[0m\u001b[0;34m\u001b[0m\u001b[0m\n\u001b[1;32m     50\u001b[0m             \u001b[0;32melse\u001b[0m\u001b[0;34m:\u001b[0m\u001b[0;34m\u001b[0m\u001b[0;34m\u001b[0m\u001b[0m\n\u001b[0;32m---> 51\u001b[0;31m                 \u001b[0mdata\u001b[0m \u001b[0;34m=\u001b[0m \u001b[0;34m[\u001b[0m\u001b[0mself\u001b[0m\u001b[0;34m.\u001b[0m\u001b[0mdataset\u001b[0m\u001b[0;34m[\u001b[0m\u001b[0midx\u001b[0m\u001b[0;34m]\u001b[0m \u001b[0;32mfor\u001b[0m \u001b[0midx\u001b[0m \u001b[0;32min\u001b[0m \u001b[0mpossibly_batched_index\u001b[0m\u001b[0;34m]\u001b[0m\u001b[0;34m\u001b[0m\u001b[0;34m\u001b[0m\u001b[0m\n\u001b[0m\u001b[1;32m     52\u001b[0m         \u001b[0;32melse\u001b[0m\u001b[0;34m:\u001b[0m\u001b[0;34m\u001b[0m\u001b[0;34m\u001b[0m\u001b[0m\n\u001b[1;32m     53\u001b[0m             \u001b[0mdata\u001b[0m \u001b[0;34m=\u001b[0m \u001b[0mself\u001b[0m\u001b[0;34m.\u001b[0m\u001b[0mdataset\u001b[0m\u001b[0;34m[\u001b[0m\u001b[0mpossibly_batched_index\u001b[0m\u001b[0;34m]\u001b[0m\u001b[0;34m\u001b[0m\u001b[0;34m\u001b[0m\u001b[0m\n",
            "\u001b[0;32m/usr/local/lib/python3.10/dist-packages/torch/utils/data/_utils/fetch.py\u001b[0m in \u001b[0;36m<listcomp>\u001b[0;34m(.0)\u001b[0m\n\u001b[1;32m     49\u001b[0m                 \u001b[0mdata\u001b[0m \u001b[0;34m=\u001b[0m \u001b[0mself\u001b[0m\u001b[0;34m.\u001b[0m\u001b[0mdataset\u001b[0m\u001b[0;34m.\u001b[0m\u001b[0m__getitems__\u001b[0m\u001b[0;34m(\u001b[0m\u001b[0mpossibly_batched_index\u001b[0m\u001b[0;34m)\u001b[0m\u001b[0;34m\u001b[0m\u001b[0;34m\u001b[0m\u001b[0m\n\u001b[1;32m     50\u001b[0m             \u001b[0;32melse\u001b[0m\u001b[0;34m:\u001b[0m\u001b[0;34m\u001b[0m\u001b[0;34m\u001b[0m\u001b[0m\n\u001b[0;32m---> 51\u001b[0;31m                 \u001b[0mdata\u001b[0m \u001b[0;34m=\u001b[0m \u001b[0;34m[\u001b[0m\u001b[0mself\u001b[0m\u001b[0;34m.\u001b[0m\u001b[0mdataset\u001b[0m\u001b[0;34m[\u001b[0m\u001b[0midx\u001b[0m\u001b[0;34m]\u001b[0m \u001b[0;32mfor\u001b[0m \u001b[0midx\u001b[0m \u001b[0;32min\u001b[0m \u001b[0mpossibly_batched_index\u001b[0m\u001b[0;34m]\u001b[0m\u001b[0;34m\u001b[0m\u001b[0;34m\u001b[0m\u001b[0m\n\u001b[0m\u001b[1;32m     52\u001b[0m         \u001b[0;32melse\u001b[0m\u001b[0;34m:\u001b[0m\u001b[0;34m\u001b[0m\u001b[0;34m\u001b[0m\u001b[0m\n\u001b[1;32m     53\u001b[0m             \u001b[0mdata\u001b[0m \u001b[0;34m=\u001b[0m \u001b[0mself\u001b[0m\u001b[0;34m.\u001b[0m\u001b[0mdataset\u001b[0m\u001b[0;34m[\u001b[0m\u001b[0mpossibly_batched_index\u001b[0m\u001b[0;34m]\u001b[0m\u001b[0;34m\u001b[0m\u001b[0;34m\u001b[0m\u001b[0m\n",
            "\u001b[0;32m<ipython-input-399-9cfcdc46bac8>\u001b[0m in \u001b[0;36m__getitem__\u001b[0;34m(self, idx)\u001b[0m\n\u001b[1;32m      4\u001b[0m \u001b[0;34m\u001b[0m\u001b[0m\n\u001b[1;32m      5\u001b[0m   \u001b[0;32mdef\u001b[0m \u001b[0m__getitem__\u001b[0m\u001b[0;34m(\u001b[0m\u001b[0mself\u001b[0m\u001b[0;34m,\u001b[0m \u001b[0midx\u001b[0m\u001b[0;34m)\u001b[0m\u001b[0;34m:\u001b[0m\u001b[0;34m\u001b[0m\u001b[0;34m\u001b[0m\u001b[0m\n\u001b[0;32m----> 6\u001b[0;31m     \u001b[0;32mreturn\u001b[0m \u001b[0;34m{\u001b[0m\u001b[0mkey\u001b[0m\u001b[0;34m:\u001b[0m \u001b[0mtorch\u001b[0m\u001b[0;34m.\u001b[0m\u001b[0mtensor\u001b[0m\u001b[0;34m(\u001b[0m\u001b[0mval\u001b[0m\u001b[0;34m[\u001b[0m\u001b[0midx\u001b[0m\u001b[0;34m]\u001b[0m\u001b[0;34m)\u001b[0m \u001b[0;32mfor\u001b[0m \u001b[0mkey\u001b[0m\u001b[0;34m,\u001b[0m \u001b[0mval\u001b[0m \u001b[0;32min\u001b[0m \u001b[0mself\u001b[0m\u001b[0;34m.\u001b[0m\u001b[0mencodings\u001b[0m\u001b[0;34m.\u001b[0m\u001b[0mitems\u001b[0m\u001b[0;34m(\u001b[0m\u001b[0;34m)\u001b[0m\u001b[0;34m}\u001b[0m\u001b[0;34m\u001b[0m\u001b[0;34m\u001b[0m\u001b[0m\n\u001b[0m\u001b[1;32m      7\u001b[0m \u001b[0;34m\u001b[0m\u001b[0m\n\u001b[1;32m      8\u001b[0m   \u001b[0;32mdef\u001b[0m \u001b[0m__len__\u001b[0m\u001b[0;34m(\u001b[0m\u001b[0mself\u001b[0m\u001b[0;34m)\u001b[0m\u001b[0;34m:\u001b[0m\u001b[0;34m\u001b[0m\u001b[0;34m\u001b[0m\u001b[0m\n",
            "\u001b[0;32m<ipython-input-399-9cfcdc46bac8>\u001b[0m in \u001b[0;36m<dictcomp>\u001b[0;34m(.0)\u001b[0m\n\u001b[1;32m      4\u001b[0m \u001b[0;34m\u001b[0m\u001b[0m\n\u001b[1;32m      5\u001b[0m   \u001b[0;32mdef\u001b[0m \u001b[0m__getitem__\u001b[0m\u001b[0;34m(\u001b[0m\u001b[0mself\u001b[0m\u001b[0;34m,\u001b[0m \u001b[0midx\u001b[0m\u001b[0;34m)\u001b[0m\u001b[0;34m:\u001b[0m\u001b[0;34m\u001b[0m\u001b[0;34m\u001b[0m\u001b[0m\n\u001b[0;32m----> 6\u001b[0;31m     \u001b[0;32mreturn\u001b[0m \u001b[0;34m{\u001b[0m\u001b[0mkey\u001b[0m\u001b[0;34m:\u001b[0m \u001b[0mtorch\u001b[0m\u001b[0;34m.\u001b[0m\u001b[0mtensor\u001b[0m\u001b[0;34m(\u001b[0m\u001b[0mval\u001b[0m\u001b[0;34m[\u001b[0m\u001b[0midx\u001b[0m\u001b[0;34m]\u001b[0m\u001b[0;34m)\u001b[0m \u001b[0;32mfor\u001b[0m \u001b[0mkey\u001b[0m\u001b[0;34m,\u001b[0m \u001b[0mval\u001b[0m \u001b[0;32min\u001b[0m \u001b[0mself\u001b[0m\u001b[0;34m.\u001b[0m\u001b[0mencodings\u001b[0m\u001b[0;34m.\u001b[0m\u001b[0mitems\u001b[0m\u001b[0;34m(\u001b[0m\u001b[0;34m)\u001b[0m\u001b[0;34m}\u001b[0m\u001b[0;34m\u001b[0m\u001b[0;34m\u001b[0m\u001b[0m\n\u001b[0m\u001b[1;32m      7\u001b[0m \u001b[0;34m\u001b[0m\u001b[0m\n\u001b[1;32m      8\u001b[0m   \u001b[0;32mdef\u001b[0m \u001b[0m__len__\u001b[0m\u001b[0;34m(\u001b[0m\u001b[0mself\u001b[0m\u001b[0;34m)\u001b[0m\u001b[0;34m:\u001b[0m\u001b[0;34m\u001b[0m\u001b[0;34m\u001b[0m\u001b[0m\n",
            "\u001b[0;31mIndexError\u001b[0m: list index out of range"
          ]
        }
      ]
    }
  ]
}